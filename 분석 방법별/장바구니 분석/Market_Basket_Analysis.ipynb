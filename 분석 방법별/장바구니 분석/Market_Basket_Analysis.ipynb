{
 "cells": [
  {
   "cell_type": "code",
   "execution_count": 1,
   "metadata": {},
   "outputs": [
    {
     "data": {
      "text/html": [
       "<style>\n",
       "    body {\n",
       "        --vscode-font-family: \"KoddiUD 온고딕\"\n",
       "    }\n",
       "</style>\n"
      ],
      "text/plain": [
       "<IPython.core.display.HTML object>"
      ]
     },
     "metadata": {},
     "output_type": "display_data"
    }
   ],
   "source": [
    "%%HTML\n",
    "<style>\n",
    "    body {\n",
    "        --vscode-font-family: \"KoddiUD 온고딕\"\n",
    "    }\n",
    "</style>"
   ]
  },
  {
   "cell_type": "markdown",
   "metadata": {
    "id": "27lfJUXLIiwb"
   },
   "source": [
    "# Ch 1. 장바구니 분석"
   ]
  },
  {
   "cell_type": "markdown",
   "metadata": {
    "id": "eO9Q7nb9InCB"
   },
   "source": [
    "- 장바구니 분석 = 연관분석 = (Market) Basket Analysis = Association Analysis"
   ]
  },
  {
   "cell_type": "markdown",
   "metadata": {
    "id": "--07Mtn5JYg5"
   },
   "source": [
    "**장바구니 분석**\n",
    "\n",
    "- 고객의 결제 데이터 안에서 특정한 패턴을 찾아내는 분석 기법\n",
    "- 어떤 상품들이 함께 구매되는지 **연관성**에 주목하는 방법\n",
    "- 특정 상품을 집어든 고객이 함께 구매할 가능성이 높은 상품이 무엇인지 파악한 후 구매 동선을 설계하거나 (연관 규칙 마이닝)\n",
    "- 오늘 특정 상품을 구매한 고객이 다음 날 어떤 상품을 구매할 지 예측해 고객 관계 관리에 활용 (순차 패턴 마이닝)\n",
    "\n",
    "**장바구니 분석의 목적**\n",
    "\n",
    "1. 효율적인 마케팅 전략을 통한 매출 극대화\n",
    "2. 장기적인 고객 충성도 강화"
   ]
  },
  {
   "cell_type": "markdown",
   "metadata": {
    "id": "IysUevSsOHiG"
   },
   "source": [
    "# Ch 2. 결제 데이터"
   ]
  },
  {
   "cell_type": "markdown",
   "metadata": {
    "id": "y-iEEtbwONG7"
   },
   "source": [
    "- 장바구니 분석은 대부분 결제 데이터를 기반으로 함\n",
    "- 결제 데이터는 고객이 상품이나 서비스를 구매한 기록\n",
    "\n",
    "1) 누가 (Who) : 이 상품을 구매한 사람은 누구인가\n",
    "\n",
    "2) 언제 (When) : 언제 구매가 일어났는가\n",
    "\n",
    "3) 어디서 (Where) : 어디에서 구매가 일어났는가\n",
    "\n",
    "4) 어떻게 (How) : 어떻게 결제했는가\n",
    "\n",
    "5) 무엇을 (What) : 어떤 상품을 구매했는가 - 상품별 연관성"
   ]
  },
  {
   "cell_type": "markdown",
   "metadata": {
    "id": "0BlwMByNPtNH"
   },
   "source": [
    "*장바구니 분석 : 이 중에서 무엇을 샀는지에 초점을 맞춰 상품별 조합을 탐구하는 분석 방법론*"
   ]
  },
  {
   "cell_type": "markdown",
   "metadata": {
    "id": "BnPvo3mrP0Lp"
   },
   "source": [
    "1) 결제 ID : 결제 건마다 고유한 ID를 붙여 저장. 영수증 번호.\n",
    "\n",
    "2) 상품 정보 : 고객이 구매한 상품\n",
    "\n",
    "3) 고객 정보\n",
    "\n",
    "4) 거래 시점"
   ]
  },
  {
   "cell_type": "code",
   "execution_count": 2,
   "metadata": {
    "id": "wy-WXU-g090c"
   },
   "outputs": [],
   "source": [
    "# 라이브러리 불러오기\n",
    "import pandas as pd"
   ]
  },
  {
   "cell_type": "code",
   "execution_count": 3,
   "metadata": {
    "colab": {
     "base_uri": "https://localhost:8080/",
     "height": 206
    },
    "id": "tFk-jb4hQhN7",
    "outputId": "dc557c6f-6b5e-48fd-9ab5-632644548a64"
   },
   "outputs": [
    {
     "data": {
      "text/html": [
       "<div>\n",
       "<style scoped>\n",
       "    .dataframe tbody tr th:only-of-type {\n",
       "        vertical-align: middle;\n",
       "    }\n",
       "\n",
       "    .dataframe tbody tr th {\n",
       "        vertical-align: top;\n",
       "    }\n",
       "\n",
       "    .dataframe thead th {\n",
       "        text-align: right;\n",
       "    }\n",
       "</style>\n",
       "<table border=\"1\" class=\"dataframe\">\n",
       "  <thead>\n",
       "    <tr style=\"text-align: right;\">\n",
       "      <th></th>\n",
       "      <th>OrderID</th>\n",
       "      <th>StockCode</th>\n",
       "      <th>ProdName</th>\n",
       "      <th>Quantity</th>\n",
       "      <th>OrderDate</th>\n",
       "      <th>UnitPrice</th>\n",
       "      <th>CustomerID</th>\n",
       "    </tr>\n",
       "  </thead>\n",
       "  <tbody>\n",
       "    <tr>\n",
       "      <th>0</th>\n",
       "      <td>536365</td>\n",
       "      <td>85123A</td>\n",
       "      <td>WHITE HANGING HEART T-LIGHT HOLDER</td>\n",
       "      <td>6</td>\n",
       "      <td>2010-12-01</td>\n",
       "      <td>2.55</td>\n",
       "      <td>17850.0</td>\n",
       "    </tr>\n",
       "    <tr>\n",
       "      <th>1</th>\n",
       "      <td>536365</td>\n",
       "      <td>71053</td>\n",
       "      <td>WHITE METAL LANTERN</td>\n",
       "      <td>6</td>\n",
       "      <td>2010-12-01</td>\n",
       "      <td>3.39</td>\n",
       "      <td>17850.0</td>\n",
       "    </tr>\n",
       "    <tr>\n",
       "      <th>2</th>\n",
       "      <td>536365</td>\n",
       "      <td>84406B</td>\n",
       "      <td>CREAM CUPID HEARTS COAT HANGER</td>\n",
       "      <td>8</td>\n",
       "      <td>2010-12-01</td>\n",
       "      <td>2.75</td>\n",
       "      <td>17850.0</td>\n",
       "    </tr>\n",
       "    <tr>\n",
       "      <th>3</th>\n",
       "      <td>536365</td>\n",
       "      <td>84029G</td>\n",
       "      <td>KNITTED UNION FLAG HOT WATER BOTTLE</td>\n",
       "      <td>6</td>\n",
       "      <td>2010-12-01</td>\n",
       "      <td>3.39</td>\n",
       "      <td>17850.0</td>\n",
       "    </tr>\n",
       "    <tr>\n",
       "      <th>4</th>\n",
       "      <td>536365</td>\n",
       "      <td>84029E</td>\n",
       "      <td>RED WOOLLY HOTTIE WHITE HEART.</td>\n",
       "      <td>6</td>\n",
       "      <td>2010-12-01</td>\n",
       "      <td>3.39</td>\n",
       "      <td>17850.0</td>\n",
       "    </tr>\n",
       "  </tbody>\n",
       "</table>\n",
       "</div>"
      ],
      "text/plain": [
       "   OrderID StockCode                             ProdName  Quantity  \\\n",
       "0   536365    85123A   WHITE HANGING HEART T-LIGHT HOLDER         6   \n",
       "1   536365     71053                  WHITE METAL LANTERN         6   \n",
       "2   536365    84406B       CREAM CUPID HEARTS COAT HANGER         8   \n",
       "3   536365    84029G  KNITTED UNION FLAG HOT WATER BOTTLE         6   \n",
       "4   536365    84029E       RED WOOLLY HOTTIE WHITE HEART.         6   \n",
       "\n",
       "    OrderDate  UnitPrice  CustomerID  \n",
       "0  2010-12-01       2.55     17850.0  \n",
       "1  2010-12-01       3.39     17850.0  \n",
       "2  2010-12-01       2.75     17850.0  \n",
       "3  2010-12-01       3.39     17850.0  \n",
       "4  2010-12-01       3.39     17850.0  "
      ]
     },
     "execution_count": 3,
     "metadata": {},
     "output_type": "execute_result"
    }
   ],
   "source": [
    "# 데이터 불러오기\n",
    "df = pd.read_csv('retail_data.csv')\n",
    "df.head()"
   ]
  },
  {
   "cell_type": "markdown",
   "metadata": {
    "id": "Ey4griC-Qwx2"
   },
   "source": [
    "**변수 설명**\n",
    "\n",
    "- OrderID : 결제 ID\n",
    "- StockCode : 상품 코드\n",
    "- ProdName : 상품 이름\n",
    "- Quantity : 상품 수량\n",
    "- OrderDate : 거래 날짜\n",
    "- Unit Price : 단위 가격\n",
    "- CustomerID : 고객 ID"
   ]
  },
  {
   "cell_type": "code",
   "execution_count": 4,
   "metadata": {
    "colab": {
     "base_uri": "https://localhost:8080/",
     "height": 206
    },
    "id": "6Mq1qd2CQn89",
    "outputId": "f307779c-1ae4-4658-d846-07a4e0d733fc"
   },
   "outputs": [
    {
     "data": {
      "text/html": [
       "<div>\n",
       "<style scoped>\n",
       "    .dataframe tbody tr th:only-of-type {\n",
       "        vertical-align: middle;\n",
       "    }\n",
       "\n",
       "    .dataframe tbody tr th {\n",
       "        vertical-align: top;\n",
       "    }\n",
       "\n",
       "    .dataframe thead th {\n",
       "        text-align: right;\n",
       "    }\n",
       "</style>\n",
       "<table border=\"1\" class=\"dataframe\">\n",
       "  <thead>\n",
       "    <tr style=\"text-align: right;\">\n",
       "      <th></th>\n",
       "      <th>OrderID</th>\n",
       "      <th>ProdName</th>\n",
       "    </tr>\n",
       "  </thead>\n",
       "  <tbody>\n",
       "    <tr>\n",
       "      <th>0</th>\n",
       "      <td>536365</td>\n",
       "      <td>WHITE HANGING HEART T-LIGHT HOLDER</td>\n",
       "    </tr>\n",
       "    <tr>\n",
       "      <th>1</th>\n",
       "      <td>536365</td>\n",
       "      <td>WHITE METAL LANTERN</td>\n",
       "    </tr>\n",
       "    <tr>\n",
       "      <th>2</th>\n",
       "      <td>536365</td>\n",
       "      <td>CREAM CUPID HEARTS COAT HANGER</td>\n",
       "    </tr>\n",
       "    <tr>\n",
       "      <th>3</th>\n",
       "      <td>536365</td>\n",
       "      <td>KNITTED UNION FLAG HOT WATER BOTTLE</td>\n",
       "    </tr>\n",
       "    <tr>\n",
       "      <th>4</th>\n",
       "      <td>536365</td>\n",
       "      <td>RED WOOLLY HOTTIE WHITE HEART.</td>\n",
       "    </tr>\n",
       "  </tbody>\n",
       "</table>\n",
       "</div>"
      ],
      "text/plain": [
       "   OrderID                             ProdName\n",
       "0   536365   WHITE HANGING HEART T-LIGHT HOLDER\n",
       "1   536365                  WHITE METAL LANTERN\n",
       "2   536365       CREAM CUPID HEARTS COAT HANGER\n",
       "3   536365  KNITTED UNION FLAG HOT WATER BOTTLE\n",
       "4   536365       RED WOOLLY HOTTIE WHITE HEART."
      ]
     },
     "execution_count": 4,
     "metadata": {},
     "output_type": "execute_result"
    }
   ],
   "source": [
    "df2 = df[['OrderID', 'ProdName']]\n",
    "df2.head()"
   ]
  },
  {
   "cell_type": "code",
   "execution_count": 5,
   "metadata": {
    "colab": {
     "base_uri": "https://localhost:8080/",
     "height": 206
    },
    "id": "IuCS3DyoRbmx",
    "outputId": "972d46a5-cc0b-4e2f-f285-7990fea5cc08"
   },
   "outputs": [
    {
     "data": {
      "text/html": [
       "<div>\n",
       "<style scoped>\n",
       "    .dataframe tbody tr th:only-of-type {\n",
       "        vertical-align: middle;\n",
       "    }\n",
       "\n",
       "    .dataframe tbody tr th {\n",
       "        vertical-align: top;\n",
       "    }\n",
       "\n",
       "    .dataframe thead th {\n",
       "        text-align: right;\n",
       "    }\n",
       "</style>\n",
       "<table border=\"1\" class=\"dataframe\">\n",
       "  <thead>\n",
       "    <tr style=\"text-align: right;\">\n",
       "      <th></th>\n",
       "      <th>OrderID</th>\n",
       "      <th>ProdName</th>\n",
       "    </tr>\n",
       "  </thead>\n",
       "  <tbody>\n",
       "    <tr>\n",
       "      <th>0</th>\n",
       "      <td>536365</td>\n",
       "      <td>[WHITE HANGING HEART T-LIGHT HOLDER, WHITE MET...</td>\n",
       "    </tr>\n",
       "    <tr>\n",
       "      <th>1</th>\n",
       "      <td>536366</td>\n",
       "      <td>[HAND WARMER UNION JACK, HAND WARMER RED POLKA...</td>\n",
       "    </tr>\n",
       "    <tr>\n",
       "      <th>2</th>\n",
       "      <td>536367</td>\n",
       "      <td>[ASSORTED COLOUR BIRD ORNAMENT, POPPY'S PLAYHO...</td>\n",
       "    </tr>\n",
       "    <tr>\n",
       "      <th>3</th>\n",
       "      <td>536368</td>\n",
       "      <td>[JAM MAKING SET WITH JARS, RED COAT RACK PARIS...</td>\n",
       "    </tr>\n",
       "    <tr>\n",
       "      <th>4</th>\n",
       "      <td>536369</td>\n",
       "      <td>[BATH BUILDING BLOCK WORD]</td>\n",
       "    </tr>\n",
       "  </tbody>\n",
       "</table>\n",
       "</div>"
      ],
      "text/plain": [
       "   OrderID                                           ProdName\n",
       "0   536365  [WHITE HANGING HEART T-LIGHT HOLDER, WHITE MET...\n",
       "1   536366  [HAND WARMER UNION JACK, HAND WARMER RED POLKA...\n",
       "2   536367  [ASSORTED COLOUR BIRD ORNAMENT, POPPY'S PLAYHO...\n",
       "3   536368  [JAM MAKING SET WITH JARS, RED COAT RACK PARIS...\n",
       "4   536369                         [BATH BUILDING BLOCK WORD]"
      ]
     },
     "execution_count": 5,
     "metadata": {},
     "output_type": "execute_result"
    }
   ],
   "source": [
    "basket_df = df2.groupby('OrderID')['ProdName'].apply(list).reset_index()\n",
    "basket_df.head()"
   ]
  },
  {
   "cell_type": "markdown",
   "metadata": {
    "id": "wVorQMi_TucW"
   },
   "source": [
    "# Ch 3. 연관 규칙 마이닝"
   ]
  },
  {
   "cell_type": "markdown",
   "metadata": {
    "id": "xgFCU4CmT2Uw"
   },
   "source": [
    "- 연관 규칙 마이닝 : 데이터 안에서 아이템 간의 상호 관련성을 탐색해 유의미한 정보를 추출해 내는 장바구니 분석 방법론\n",
    "- 연관 규칙 : 상품 간의 연관성을 나타내는 규칙\n",
    "- 예를 들어, 만약 고객이 우유와 달걀을 함께 구매하면, 빵도 함께 구매할 가능성이 높다는 연관 규칙이 있을 때,\n",
    "- 우유와 달걀을 구매했기 때문에 (원인), 빵도 구매하게 되는 것 (결과) 이 아니라\n",
    "- 우유와 달걀 그리고 빵이 구매 측면의 연관성을 보인다."
   ]
  },
  {
   "cell_type": "markdown",
   "metadata": {
    "id": "QyXYatPGUW0G"
   },
   "source": [
    "## 좋은 연관 규칙을 찾는 법"
   ]
  },
  {
   "cell_type": "markdown",
   "metadata": {
    "id": "oX4J0WJcUkkB"
   },
   "source": [
    "(1) 지지도 (Support)\n",
    "\n",
    "- 규칙이 얼마나 일반적인지를 평가하는 지표.\n",
    "- 주어진 데이터 안에서 규칙이 얼마나 자주 등장하는지 그 빈도를 계산\n",
    "- X -> Y의 관계를 갖는 규칙에서 지지도는 X와 Y가 함께 포함된 거래 수를 전체 거래 수로 나눈 값\n",
    "- 지지도 값은 1에 가까울수록 해당 규칙이 데이터 안에서 빈번하게 발생\n",
    "- 만약 지지도 값이 너무 낮은 규칙이라면 몇몇 고객에게서만 관찰된 특이 행동일 가능성이 높기 때문에 범용성이 떨어짐"
   ]
  },
  {
   "cell_type": "markdown",
   "metadata": {
    "id": "kGBNrbj1VxNZ"
   },
   "source": [
    "(2) 신뢰도 (Confidence)\n",
    "\n",
    "- 규칙이 얼마나 믿을만한지 보여주는 지표\n",
    "- X -> Y도 구매한다는 규칙이 있을 때 X를 구매하는 사람 중 이 규칙대로 구매하는 사람이 얼마나 되는지\n",
    "- 신뢰도는 조건 (IF) 부분에 해당하는 경우의 수를 분모로 두고 있기 때문에 X -> Y 관계인지 Y -> X 관계이냐에 따라 수치가 달라지고 추천의 *방향성*까지 고려 가능"
   ]
  },
  {
   "cell_type": "markdown",
   "metadata": {
    "id": "WKvmMQLJWt8i"
   },
   "source": [
    "(3) 향상도 (Lift)\n",
    "\n",
    "- X를 구매하면 Y도 구매한다는 규칙이 있을 때 X를 구매하는 행위가 Y를 구매하는 확률에 어떤 영향을 주는지 나타내는 지표"
   ]
  },
  {
   "cell_type": "markdown",
   "metadata": {
    "id": "6_yzSuBSXF2v"
   },
   "source": [
    "## Apriori 알고리즘"
   ]
  },
  {
   "cell_type": "markdown",
   "metadata": {
    "id": "GGsHVCmFXHgQ"
   },
   "source": [
    "- Brute Force (무차별 탐색) : 무차별적으로 모든 경우의 수를 다 조사하는 방법\n",
    "- Apriori : 라틴어로 '선험적인, 연역적인'. 상위 조합에서부터 차례로 스캔하면서 특정 조합이 자주 발생하지 않는다면 이의 결과물로 탄생한 후속 조합들까지 모두 후보에서 배제하는 방식\n",
    "- Apriori 알고리즘을 활용하면 하나의 조합만 검사하고도 이로부터 파생된 다른 조합들까지 후보에서 배제할 수 있게 됨\n",
    "- 빈발 항목 집합 (Frequent Itemset) :특정 지지도 이상의 조합"
   ]
  },
  {
   "cell_type": "markdown",
   "metadata": {
    "id": "L75QFonnqHrR"
   },
   "source": [
    "### 파이썬으로 Apriori 알고리즘 구현하기"
   ]
  },
  {
   "cell_type": "markdown",
   "metadata": {
    "id": "VkgcLCnLqP9w"
   },
   "source": [
    "- mlxtend (Machine Learning Extenstions)"
   ]
  },
  {
   "cell_type": "code",
   "execution_count": 6,
   "metadata": {
    "colab": {
     "base_uri": "https://localhost:8080/"
    },
    "id": "Iyb38nw6Rx04",
    "outputId": "b11094c9-3933-4f10-b932-06eca633f10b"
   },
   "outputs": [
    {
     "name": "stdout",
     "output_type": "stream",
     "text": [
      "Requirement already satisfied: mlxtend in /opt/homebrew/Caskroom/miniforge/base/envs/da/lib/python3.12/site-packages (0.23.2)\n",
      "Requirement already satisfied: scipy>=1.2.1 in /opt/homebrew/Caskroom/miniforge/base/envs/da/lib/python3.12/site-packages (from mlxtend) (1.14.1)\n",
      "Requirement already satisfied: numpy>=1.16.2 in /opt/homebrew/Caskroom/miniforge/base/envs/da/lib/python3.12/site-packages (from mlxtend) (2.1.2)\n",
      "Requirement already satisfied: pandas>=0.24.2 in /opt/homebrew/Caskroom/miniforge/base/envs/da/lib/python3.12/site-packages (from mlxtend) (2.2.3)\n",
      "Requirement already satisfied: scikit-learn>=1.3.1 in /opt/homebrew/Caskroom/miniforge/base/envs/da/lib/python3.12/site-packages (from mlxtend) (1.5.2)\n",
      "Requirement already satisfied: matplotlib>=3.0.0 in /opt/homebrew/Caskroom/miniforge/base/envs/da/lib/python3.12/site-packages (from mlxtend) (3.9.2)\n",
      "Requirement already satisfied: joblib>=0.13.2 in /opt/homebrew/Caskroom/miniforge/base/envs/da/lib/python3.12/site-packages (from mlxtend) (1.4.2)\n",
      "Requirement already satisfied: contourpy>=1.0.1 in /opt/homebrew/Caskroom/miniforge/base/envs/da/lib/python3.12/site-packages (from matplotlib>=3.0.0->mlxtend) (1.3.0)\n",
      "Requirement already satisfied: cycler>=0.10 in /opt/homebrew/Caskroom/miniforge/base/envs/da/lib/python3.12/site-packages (from matplotlib>=3.0.0->mlxtend) (0.12.1)\n",
      "Requirement already satisfied: fonttools>=4.22.0 in /opt/homebrew/Caskroom/miniforge/base/envs/da/lib/python3.12/site-packages (from matplotlib>=3.0.0->mlxtend) (4.54.1)\n",
      "Requirement already satisfied: kiwisolver>=1.3.1 in /opt/homebrew/Caskroom/miniforge/base/envs/da/lib/python3.12/site-packages (from matplotlib>=3.0.0->mlxtend) (1.4.7)\n",
      "Requirement already satisfied: packaging>=20.0 in /opt/homebrew/Caskroom/miniforge/base/envs/da/lib/python3.12/site-packages (from matplotlib>=3.0.0->mlxtend) (24.1)\n",
      "Requirement already satisfied: pillow>=8 in /opt/homebrew/Caskroom/miniforge/base/envs/da/lib/python3.12/site-packages (from matplotlib>=3.0.0->mlxtend) (11.0.0)\n",
      "Requirement already satisfied: pyparsing>=2.3.1 in /opt/homebrew/Caskroom/miniforge/base/envs/da/lib/python3.12/site-packages (from matplotlib>=3.0.0->mlxtend) (3.2.0)\n",
      "Requirement already satisfied: python-dateutil>=2.7 in /opt/homebrew/Caskroom/miniforge/base/envs/da/lib/python3.12/site-packages (from matplotlib>=3.0.0->mlxtend) (2.9.0)\n",
      "Requirement already satisfied: pytz>=2020.1 in /opt/homebrew/Caskroom/miniforge/base/envs/da/lib/python3.12/site-packages (from pandas>=0.24.2->mlxtend) (2024.2)\n",
      "Requirement already satisfied: tzdata>=2022.7 in /opt/homebrew/Caskroom/miniforge/base/envs/da/lib/python3.12/site-packages (from pandas>=0.24.2->mlxtend) (2024.2)\n",
      "Requirement already satisfied: threadpoolctl>=3.1.0 in /opt/homebrew/Caskroom/miniforge/base/envs/da/lib/python3.12/site-packages (from scikit-learn>=1.3.1->mlxtend) (3.5.0)\n",
      "Requirement already satisfied: six>=1.5 in /opt/homebrew/Caskroom/miniforge/base/envs/da/lib/python3.12/site-packages (from python-dateutil>=2.7->matplotlib>=3.0.0->mlxtend) (1.16.0)\n"
     ]
    }
   ],
   "source": [
    "!pip install mlxtend"
   ]
  },
  {
   "cell_type": "code",
   "execution_count": 7,
   "metadata": {
    "id": "ilENkOtQqZ7r"
   },
   "outputs": [],
   "source": [
    "# 라이브러리 불러오기\n",
    "import pandas as pd"
   ]
  },
  {
   "cell_type": "code",
   "execution_count": 8,
   "metadata": {
    "colab": {
     "base_uri": "https://localhost:8080/",
     "height": 206
    },
    "id": "B8ZK-RzGqu17",
    "outputId": "35bb9437-549c-4f12-c482-223ba5e78dce"
   },
   "outputs": [
    {
     "data": {
      "text/html": [
       "<div>\n",
       "<style scoped>\n",
       "    .dataframe tbody tr th:only-of-type {\n",
       "        vertical-align: middle;\n",
       "    }\n",
       "\n",
       "    .dataframe tbody tr th {\n",
       "        vertical-align: top;\n",
       "    }\n",
       "\n",
       "    .dataframe thead th {\n",
       "        text-align: right;\n",
       "    }\n",
       "</style>\n",
       "<table border=\"1\" class=\"dataframe\">\n",
       "  <thead>\n",
       "    <tr style=\"text-align: right;\">\n",
       "      <th></th>\n",
       "      <th>OrderID</th>\n",
       "      <th>StockCode</th>\n",
       "      <th>ProdName</th>\n",
       "      <th>Quantity</th>\n",
       "      <th>OrderDate</th>\n",
       "      <th>UnitPrice</th>\n",
       "      <th>CustomerID</th>\n",
       "    </tr>\n",
       "  </thead>\n",
       "  <tbody>\n",
       "    <tr>\n",
       "      <th>0</th>\n",
       "      <td>536365</td>\n",
       "      <td>85123A</td>\n",
       "      <td>WHITE HANGING HEART T-LIGHT HOLDER</td>\n",
       "      <td>6</td>\n",
       "      <td>2010-12-01</td>\n",
       "      <td>2.55</td>\n",
       "      <td>17850.0</td>\n",
       "    </tr>\n",
       "    <tr>\n",
       "      <th>1</th>\n",
       "      <td>536365</td>\n",
       "      <td>71053</td>\n",
       "      <td>WHITE METAL LANTERN</td>\n",
       "      <td>6</td>\n",
       "      <td>2010-12-01</td>\n",
       "      <td>3.39</td>\n",
       "      <td>17850.0</td>\n",
       "    </tr>\n",
       "    <tr>\n",
       "      <th>2</th>\n",
       "      <td>536365</td>\n",
       "      <td>84406B</td>\n",
       "      <td>CREAM CUPID HEARTS COAT HANGER</td>\n",
       "      <td>8</td>\n",
       "      <td>2010-12-01</td>\n",
       "      <td>2.75</td>\n",
       "      <td>17850.0</td>\n",
       "    </tr>\n",
       "    <tr>\n",
       "      <th>3</th>\n",
       "      <td>536365</td>\n",
       "      <td>84029G</td>\n",
       "      <td>KNITTED UNION FLAG HOT WATER BOTTLE</td>\n",
       "      <td>6</td>\n",
       "      <td>2010-12-01</td>\n",
       "      <td>3.39</td>\n",
       "      <td>17850.0</td>\n",
       "    </tr>\n",
       "    <tr>\n",
       "      <th>4</th>\n",
       "      <td>536365</td>\n",
       "      <td>84029E</td>\n",
       "      <td>RED WOOLLY HOTTIE WHITE HEART.</td>\n",
       "      <td>6</td>\n",
       "      <td>2010-12-01</td>\n",
       "      <td>3.39</td>\n",
       "      <td>17850.0</td>\n",
       "    </tr>\n",
       "  </tbody>\n",
       "</table>\n",
       "</div>"
      ],
      "text/plain": [
       "   OrderID StockCode                             ProdName  Quantity  \\\n",
       "0   536365    85123A   WHITE HANGING HEART T-LIGHT HOLDER         6   \n",
       "1   536365     71053                  WHITE METAL LANTERN         6   \n",
       "2   536365    84406B       CREAM CUPID HEARTS COAT HANGER         8   \n",
       "3   536365    84029G  KNITTED UNION FLAG HOT WATER BOTTLE         6   \n",
       "4   536365    84029E       RED WOOLLY HOTTIE WHITE HEART.         6   \n",
       "\n",
       "    OrderDate  UnitPrice  CustomerID  \n",
       "0  2010-12-01       2.55     17850.0  \n",
       "1  2010-12-01       3.39     17850.0  \n",
       "2  2010-12-01       2.75     17850.0  \n",
       "3  2010-12-01       3.39     17850.0  \n",
       "4  2010-12-01       3.39     17850.0  "
      ]
     },
     "execution_count": 8,
     "metadata": {},
     "output_type": "execute_result"
    }
   ],
   "source": [
    "# 데이터 불러오기\n",
    "df = pd.read_csv('retail_data.csv')\n",
    "df.head()"
   ]
  },
  {
   "cell_type": "code",
   "execution_count": 9,
   "metadata": {
    "colab": {
     "base_uri": "https://localhost:8080/",
     "height": 206
    },
    "id": "cn9GsusLqzoc",
    "outputId": "953076e7-a0af-4b3b-fc1f-a1fb763a4e20"
   },
   "outputs": [
    {
     "data": {
      "text/html": [
       "<div>\n",
       "<style scoped>\n",
       "    .dataframe tbody tr th:only-of-type {\n",
       "        vertical-align: middle;\n",
       "    }\n",
       "\n",
       "    .dataframe tbody tr th {\n",
       "        vertical-align: top;\n",
       "    }\n",
       "\n",
       "    .dataframe thead th {\n",
       "        text-align: right;\n",
       "    }\n",
       "</style>\n",
       "<table border=\"1\" class=\"dataframe\">\n",
       "  <thead>\n",
       "    <tr style=\"text-align: right;\">\n",
       "      <th></th>\n",
       "      <th>OrderID</th>\n",
       "      <th>ProdName</th>\n",
       "    </tr>\n",
       "  </thead>\n",
       "  <tbody>\n",
       "    <tr>\n",
       "      <th>0</th>\n",
       "      <td>536365</td>\n",
       "      <td>[WHITE HANGING HEART T-LIGHT HOLDER, WHITE MET...</td>\n",
       "    </tr>\n",
       "    <tr>\n",
       "      <th>1</th>\n",
       "      <td>536366</td>\n",
       "      <td>[HAND WARMER UNION JACK, HAND WARMER RED POLKA...</td>\n",
       "    </tr>\n",
       "    <tr>\n",
       "      <th>2</th>\n",
       "      <td>536367</td>\n",
       "      <td>[ASSORTED COLOUR BIRD ORNAMENT, POPPY'S PLAYHO...</td>\n",
       "    </tr>\n",
       "    <tr>\n",
       "      <th>3</th>\n",
       "      <td>536368</td>\n",
       "      <td>[JAM MAKING SET WITH JARS, RED COAT RACK PARIS...</td>\n",
       "    </tr>\n",
       "    <tr>\n",
       "      <th>4</th>\n",
       "      <td>536369</td>\n",
       "      <td>[BATH BUILDING BLOCK WORD]</td>\n",
       "    </tr>\n",
       "  </tbody>\n",
       "</table>\n",
       "</div>"
      ],
      "text/plain": [
       "   OrderID                                           ProdName\n",
       "0   536365  [WHITE HANGING HEART T-LIGHT HOLDER, WHITE MET...\n",
       "1   536366  [HAND WARMER UNION JACK, HAND WARMER RED POLKA...\n",
       "2   536367  [ASSORTED COLOUR BIRD ORNAMENT, POPPY'S PLAYHO...\n",
       "3   536368  [JAM MAKING SET WITH JARS, RED COAT RACK PARIS...\n",
       "4   536369                         [BATH BUILDING BLOCK WORD]"
      ]
     },
     "execution_count": 9,
     "metadata": {},
     "output_type": "execute_result"
    }
   ],
   "source": [
    "# 주문 번호별로 구매한 상품을 묶기\n",
    "basket_df = df.groupby('OrderID')['ProdName'].apply(list).reset_index()\n",
    "basket_df.head()"
   ]
  },
  {
   "cell_type": "code",
   "execution_count": 10,
   "metadata": {
    "colab": {
     "base_uri": "https://localhost:8080/"
    },
    "id": "oaYaS1z9rKBb",
    "outputId": "dbcec7c0-6fe9-456f-bb13-e4b58460c803"
   },
   "outputs": [
    {
     "data": {
      "text/plain": [
       "(270, 2)"
      ]
     },
     "execution_count": 10,
     "metadata": {},
     "output_type": "execute_result"
    }
   ],
   "source": [
    "basket_df.shape"
   ]
  },
  {
   "cell_type": "code",
   "execution_count": 11,
   "metadata": {
    "id": "nDRWgeIbrPxs"
   },
   "outputs": [],
   "source": [
    "# 라이브러리 불러오기 (TransactionEncoder : 데이터를 이진 형태로 변환)\n",
    "from mlxtend.preprocessing import TransactionEncoder"
   ]
  },
  {
   "cell_type": "code",
   "execution_count": 12,
   "metadata": {
    "colab": {
     "base_uri": "https://localhost:8080/",
     "height": 206
    },
    "id": "888i--q_rhdt",
    "outputId": "16c73250-aea3-4b20-91cf-afce6f2494f5"
   },
   "outputs": [
    {
     "data": {
      "text/html": [
       "<div>\n",
       "<style scoped>\n",
       "    .dataframe tbody tr th:only-of-type {\n",
       "        vertical-align: middle;\n",
       "    }\n",
       "\n",
       "    .dataframe tbody tr th {\n",
       "        vertical-align: top;\n",
       "    }\n",
       "\n",
       "    .dataframe thead th {\n",
       "        text-align: right;\n",
       "    }\n",
       "</style>\n",
       "<table border=\"1\" class=\"dataframe\">\n",
       "  <thead>\n",
       "    <tr style=\"text-align: right;\">\n",
       "      <th></th>\n",
       "      <th>OrderID</th>\n",
       "      <th>ProdName</th>\n",
       "    </tr>\n",
       "  </thead>\n",
       "  <tbody>\n",
       "    <tr>\n",
       "      <th>0</th>\n",
       "      <td>536365</td>\n",
       "      <td>[WHITE HANGING HEART T-LIGHT HOLDER, WHITE MET...</td>\n",
       "    </tr>\n",
       "    <tr>\n",
       "      <th>1</th>\n",
       "      <td>536366</td>\n",
       "      <td>[HAND WARMER UNION JACK, HAND WARMER RED POLKA...</td>\n",
       "    </tr>\n",
       "    <tr>\n",
       "      <th>2</th>\n",
       "      <td>536367</td>\n",
       "      <td>[ASSORTED COLOUR BIRD ORNAMENT, POPPY'S PLAYHO...</td>\n",
       "    </tr>\n",
       "    <tr>\n",
       "      <th>3</th>\n",
       "      <td>536368</td>\n",
       "      <td>[JAM MAKING SET WITH JARS, RED COAT RACK PARIS...</td>\n",
       "    </tr>\n",
       "    <tr>\n",
       "      <th>4</th>\n",
       "      <td>536369</td>\n",
       "      <td>[BATH BUILDING BLOCK WORD]</td>\n",
       "    </tr>\n",
       "  </tbody>\n",
       "</table>\n",
       "</div>"
      ],
      "text/plain": [
       "   OrderID                                           ProdName\n",
       "0   536365  [WHITE HANGING HEART T-LIGHT HOLDER, WHITE MET...\n",
       "1   536366  [HAND WARMER UNION JACK, HAND WARMER RED POLKA...\n",
       "2   536367  [ASSORTED COLOUR BIRD ORNAMENT, POPPY'S PLAYHO...\n",
       "3   536368  [JAM MAKING SET WITH JARS, RED COAT RACK PARIS...\n",
       "4   536369                         [BATH BUILDING BLOCK WORD]"
      ]
     },
     "execution_count": 12,
     "metadata": {},
     "output_type": "execute_result"
    }
   ],
   "source": [
    "basket_df.head()"
   ]
  },
  {
   "cell_type": "code",
   "execution_count": 13,
   "metadata": {
    "colab": {
     "base_uri": "https://localhost:8080/"
    },
    "id": "O-olAj7XrmnN",
    "outputId": "45de6fad-cb4d-4ea1-d7b9-da18875b7fd6"
   },
   "outputs": [
    {
     "data": {
      "text/plain": [
       "array([[False, False, False, ..., False, False, False],\n",
       "       [False, False, False, ..., False, False, False],\n",
       "       [False, False, False, ..., False, False, False],\n",
       "       ...,\n",
       "       [False, False, False, ..., False, False, False],\n",
       "       [False, False, False, ..., False, False, False],\n",
       "       [False, False, False, ..., False, False, False]])"
      ]
     },
     "execution_count": 13,
     "metadata": {},
     "output_type": "execute_result"
    }
   ],
   "source": [
    "te = TransactionEncoder()\n",
    "te_result = te.fit_transform(basket_df['ProdName'])\n",
    "te_result"
   ]
  },
  {
   "cell_type": "code",
   "execution_count": 14,
   "metadata": {
    "colab": {
     "base_uri": "https://localhost:8080/",
     "height": 342
    },
    "id": "3O-lYnN_r7d4",
    "outputId": "ec0c857d-08a0-467f-89d1-fcd783d3da51"
   },
   "outputs": [
    {
     "data": {
      "text/html": [
       "<div>\n",
       "<style scoped>\n",
       "    .dataframe tbody tr th:only-of-type {\n",
       "        vertical-align: middle;\n",
       "    }\n",
       "\n",
       "    .dataframe tbody tr th {\n",
       "        vertical-align: top;\n",
       "    }\n",
       "\n",
       "    .dataframe thead th {\n",
       "        text-align: right;\n",
       "    }\n",
       "</style>\n",
       "<table border=\"1\" class=\"dataframe\">\n",
       "  <thead>\n",
       "    <tr style=\"text-align: right;\">\n",
       "      <th></th>\n",
       "      <th>4 PURPLE FLOCK DINNER CANDLES</th>\n",
       "      <th>SET 2 TEA TOWELS I LOVE LONDON</th>\n",
       "      <th>10 COLOUR SPACEBOY PEN</th>\n",
       "      <th>12 COLOURED PARTY BALLOONS</th>\n",
       "      <th>12 DAISY PEGS IN WOOD BOX</th>\n",
       "      <th>12 MESSAGE CARDS WITH ENVELOPES</th>\n",
       "      <th>12 PENCIL SMALL TUBE WOODLAND</th>\n",
       "      <th>12 PENCILS SMALL TUBE RED RETROSPOT</th>\n",
       "      <th>12 PENCILS SMALL TUBE SKULL</th>\n",
       "      <th>12 PENCILS TALL TUBE POSY</th>\n",
       "      <th>...</th>\n",
       "      <th>WRAP, BILLBOARD FONTS DESIGN</th>\n",
       "      <th>YELLOW BREAKFAST CUP AND SAUCER</th>\n",
       "      <th>YELLOW COAT RACK PARIS FASHION</th>\n",
       "      <th>YELLOW GIANT GARDEN THERMOMETER</th>\n",
       "      <th>YELLOW SHARK HELICOPTER</th>\n",
       "      <th>YOU'RE CONFUSING ME METAL SIGN</th>\n",
       "      <th>YULETIDE IMAGES GIFT WRAP SET</th>\n",
       "      <th>ZINC FINISH 15CM PLANTER POTS</th>\n",
       "      <th>ZINC METAL HEART DECORATION</th>\n",
       "      <th>ZINC WILLIE WINKIE  CANDLE STICK</th>\n",
       "    </tr>\n",
       "  </thead>\n",
       "  <tbody>\n",
       "    <tr>\n",
       "      <th>0</th>\n",
       "      <td>False</td>\n",
       "      <td>False</td>\n",
       "      <td>False</td>\n",
       "      <td>False</td>\n",
       "      <td>False</td>\n",
       "      <td>False</td>\n",
       "      <td>False</td>\n",
       "      <td>False</td>\n",
       "      <td>False</td>\n",
       "      <td>False</td>\n",
       "      <td>...</td>\n",
       "      <td>False</td>\n",
       "      <td>False</td>\n",
       "      <td>False</td>\n",
       "      <td>False</td>\n",
       "      <td>False</td>\n",
       "      <td>False</td>\n",
       "      <td>False</td>\n",
       "      <td>False</td>\n",
       "      <td>False</td>\n",
       "      <td>False</td>\n",
       "    </tr>\n",
       "    <tr>\n",
       "      <th>1</th>\n",
       "      <td>False</td>\n",
       "      <td>False</td>\n",
       "      <td>False</td>\n",
       "      <td>False</td>\n",
       "      <td>False</td>\n",
       "      <td>False</td>\n",
       "      <td>False</td>\n",
       "      <td>False</td>\n",
       "      <td>False</td>\n",
       "      <td>False</td>\n",
       "      <td>...</td>\n",
       "      <td>False</td>\n",
       "      <td>False</td>\n",
       "      <td>False</td>\n",
       "      <td>False</td>\n",
       "      <td>False</td>\n",
       "      <td>False</td>\n",
       "      <td>False</td>\n",
       "      <td>False</td>\n",
       "      <td>False</td>\n",
       "      <td>False</td>\n",
       "    </tr>\n",
       "    <tr>\n",
       "      <th>2</th>\n",
       "      <td>False</td>\n",
       "      <td>False</td>\n",
       "      <td>False</td>\n",
       "      <td>False</td>\n",
       "      <td>False</td>\n",
       "      <td>False</td>\n",
       "      <td>False</td>\n",
       "      <td>False</td>\n",
       "      <td>False</td>\n",
       "      <td>False</td>\n",
       "      <td>...</td>\n",
       "      <td>False</td>\n",
       "      <td>False</td>\n",
       "      <td>False</td>\n",
       "      <td>False</td>\n",
       "      <td>False</td>\n",
       "      <td>False</td>\n",
       "      <td>False</td>\n",
       "      <td>False</td>\n",
       "      <td>False</td>\n",
       "      <td>False</td>\n",
       "    </tr>\n",
       "    <tr>\n",
       "      <th>3</th>\n",
       "      <td>False</td>\n",
       "      <td>False</td>\n",
       "      <td>False</td>\n",
       "      <td>False</td>\n",
       "      <td>False</td>\n",
       "      <td>False</td>\n",
       "      <td>False</td>\n",
       "      <td>False</td>\n",
       "      <td>False</td>\n",
       "      <td>False</td>\n",
       "      <td>...</td>\n",
       "      <td>False</td>\n",
       "      <td>False</td>\n",
       "      <td>True</td>\n",
       "      <td>False</td>\n",
       "      <td>False</td>\n",
       "      <td>False</td>\n",
       "      <td>False</td>\n",
       "      <td>False</td>\n",
       "      <td>False</td>\n",
       "      <td>False</td>\n",
       "    </tr>\n",
       "    <tr>\n",
       "      <th>4</th>\n",
       "      <td>False</td>\n",
       "      <td>False</td>\n",
       "      <td>False</td>\n",
       "      <td>False</td>\n",
       "      <td>False</td>\n",
       "      <td>False</td>\n",
       "      <td>False</td>\n",
       "      <td>False</td>\n",
       "      <td>False</td>\n",
       "      <td>False</td>\n",
       "      <td>...</td>\n",
       "      <td>False</td>\n",
       "      <td>False</td>\n",
       "      <td>False</td>\n",
       "      <td>False</td>\n",
       "      <td>False</td>\n",
       "      <td>False</td>\n",
       "      <td>False</td>\n",
       "      <td>False</td>\n",
       "      <td>False</td>\n",
       "      <td>False</td>\n",
       "    </tr>\n",
       "  </tbody>\n",
       "</table>\n",
       "<p>5 rows × 1343 columns</p>\n",
       "</div>"
      ],
      "text/plain": [
       "    4 PURPLE FLOCK DINNER CANDLES   SET 2 TEA TOWELS I LOVE LONDON   \\\n",
       "0                           False                             False   \n",
       "1                           False                             False   \n",
       "2                           False                             False   \n",
       "3                           False                             False   \n",
       "4                           False                             False   \n",
       "\n",
       "   10 COLOUR SPACEBOY PEN  12 COLOURED PARTY BALLOONS  \\\n",
       "0                   False                       False   \n",
       "1                   False                       False   \n",
       "2                   False                       False   \n",
       "3                   False                       False   \n",
       "4                   False                       False   \n",
       "\n",
       "   12 DAISY PEGS IN WOOD BOX  12 MESSAGE CARDS WITH ENVELOPES  \\\n",
       "0                      False                            False   \n",
       "1                      False                            False   \n",
       "2                      False                            False   \n",
       "3                      False                            False   \n",
       "4                      False                            False   \n",
       "\n",
       "   12 PENCIL SMALL TUBE WOODLAND  12 PENCILS SMALL TUBE RED RETROSPOT  \\\n",
       "0                          False                                False   \n",
       "1                          False                                False   \n",
       "2                          False                                False   \n",
       "3                          False                                False   \n",
       "4                          False                                False   \n",
       "\n",
       "   12 PENCILS SMALL TUBE SKULL  12 PENCILS TALL TUBE POSY  ...  \\\n",
       "0                        False                      False  ...   \n",
       "1                        False                      False  ...   \n",
       "2                        False                      False  ...   \n",
       "3                        False                      False  ...   \n",
       "4                        False                      False  ...   \n",
       "\n",
       "   WRAP, BILLBOARD FONTS DESIGN  YELLOW BREAKFAST CUP AND SAUCER  \\\n",
       "0                         False                            False   \n",
       "1                         False                            False   \n",
       "2                         False                            False   \n",
       "3                         False                            False   \n",
       "4                         False                            False   \n",
       "\n",
       "   YELLOW COAT RACK PARIS FASHION  YELLOW GIANT GARDEN THERMOMETER  \\\n",
       "0                           False                            False   \n",
       "1                           False                            False   \n",
       "2                           False                            False   \n",
       "3                            True                            False   \n",
       "4                           False                            False   \n",
       "\n",
       "   YELLOW SHARK HELICOPTER  YOU'RE CONFUSING ME METAL SIGN   \\\n",
       "0                    False                            False   \n",
       "1                    False                            False   \n",
       "2                    False                            False   \n",
       "3                    False                            False   \n",
       "4                    False                            False   \n",
       "\n",
       "   YULETIDE IMAGES GIFT WRAP SET  ZINC FINISH 15CM PLANTER POTS  \\\n",
       "0                          False                          False   \n",
       "1                          False                          False   \n",
       "2                          False                          False   \n",
       "3                          False                          False   \n",
       "4                          False                          False   \n",
       "\n",
       "   ZINC METAL HEART DECORATION  ZINC WILLIE WINKIE  CANDLE STICK  \n",
       "0                        False                             False  \n",
       "1                        False                             False  \n",
       "2                        False                             False  \n",
       "3                        False                             False  \n",
       "4                        False                             False  \n",
       "\n",
       "[5 rows x 1343 columns]"
      ]
     },
     "execution_count": 14,
     "metadata": {},
     "output_type": "execute_result"
    }
   ],
   "source": [
    "te_df = pd.DataFrame(te_result, columns=te.columns_)\n",
    "te_df.head()"
   ]
  },
  {
   "cell_type": "code",
   "execution_count": 15,
   "metadata": {
    "colab": {
     "base_uri": "https://localhost:8080/"
    },
    "id": "25tG8_KfsMf9",
    "outputId": "b386f22f-0ed0-4b0a-ca23-1fb66a4dfc24"
   },
   "outputs": [
    {
     "data": {
      "text/plain": [
       "(270, 1343)"
      ]
     },
     "execution_count": 15,
     "metadata": {},
     "output_type": "execute_result"
    }
   ],
   "source": [
    "te_df.shape"
   ]
  },
  {
   "cell_type": "markdown",
   "metadata": {
    "id": "NY-lLVevsfT_"
   },
   "source": [
    "(Apriori 알고리즘 구현)\n",
    "\n",
    "- mlxtend 라이브러리의 apriori 함수를 이용하여 apriori 알고리즘 구현\n",
    "- 최소 지지도 0.05 (일반적으로 1%~5%)"
   ]
  },
  {
   "cell_type": "code",
   "execution_count": 16,
   "metadata": {
    "id": "InJEwQVNs2fP"
   },
   "outputs": [],
   "source": [
    "# 라이브러리 불러오기\n",
    "from mlxtend.frequent_patterns import apriori"
   ]
  },
  {
   "cell_type": "code",
   "execution_count": 17,
   "metadata": {
    "colab": {
     "base_uri": "https://localhost:8080/",
     "height": 424
    },
    "id": "bM-LK8gesZYp",
    "outputId": "9582f1ff-f11c-4867-cb5c-873f726c53a3"
   },
   "outputs": [
    {
     "data": {
      "text/html": [
       "<div>\n",
       "<style scoped>\n",
       "    .dataframe tbody tr th:only-of-type {\n",
       "        vertical-align: middle;\n",
       "    }\n",
       "\n",
       "    .dataframe tbody tr th {\n",
       "        vertical-align: top;\n",
       "    }\n",
       "\n",
       "    .dataframe thead th {\n",
       "        text-align: right;\n",
       "    }\n",
       "</style>\n",
       "<table border=\"1\" class=\"dataframe\">\n",
       "  <thead>\n",
       "    <tr style=\"text-align: right;\">\n",
       "      <th></th>\n",
       "      <th>support</th>\n",
       "      <th>itemsets</th>\n",
       "    </tr>\n",
       "  </thead>\n",
       "  <tbody>\n",
       "    <tr>\n",
       "      <th>0</th>\n",
       "      <td>0.051852</td>\n",
       "      <td>(60)</td>\n",
       "    </tr>\n",
       "    <tr>\n",
       "      <th>1</th>\n",
       "      <td>0.062963</td>\n",
       "      <td>(84)</td>\n",
       "    </tr>\n",
       "    <tr>\n",
       "      <th>2</th>\n",
       "      <td>0.066667</td>\n",
       "      <td>(339)</td>\n",
       "    </tr>\n",
       "    <tr>\n",
       "      <th>3</th>\n",
       "      <td>0.066667</td>\n",
       "      <td>(511)</td>\n",
       "    </tr>\n",
       "    <tr>\n",
       "      <th>4</th>\n",
       "      <td>0.066667</td>\n",
       "      <td>(544)</td>\n",
       "    </tr>\n",
       "    <tr>\n",
       "      <th>...</th>\n",
       "      <td>...</td>\n",
       "      <td>...</td>\n",
       "    </tr>\n",
       "    <tr>\n",
       "      <th>3358</th>\n",
       "      <td>0.051852</td>\n",
       "      <td>(642, 1315, 1252, 1253, 1286, 1311, 1289, 976,...</td>\n",
       "    </tr>\n",
       "    <tr>\n",
       "      <th>3359</th>\n",
       "      <td>0.051852</td>\n",
       "      <td>(1315, 1252, 1253, 1286, 1311, 1289, 974, 976,...</td>\n",
       "    </tr>\n",
       "    <tr>\n",
       "      <th>3360</th>\n",
       "      <td>0.051852</td>\n",
       "      <td>(642, 1315, 1252, 1253, 1286, 1289, 974, 976, ...</td>\n",
       "    </tr>\n",
       "    <tr>\n",
       "      <th>3361</th>\n",
       "      <td>0.051852</td>\n",
       "      <td>(642, 1315, 1252, 1253, 1286, 1311, 1289, 974,...</td>\n",
       "    </tr>\n",
       "    <tr>\n",
       "      <th>3362</th>\n",
       "      <td>0.051852</td>\n",
       "      <td>(642, 1315, 1252, 1253, 1286, 1311, 1289, 974,...</td>\n",
       "    </tr>\n",
       "  </tbody>\n",
       "</table>\n",
       "<p>3363 rows × 2 columns</p>\n",
       "</div>"
      ],
      "text/plain": [
       "       support                                           itemsets\n",
       "0     0.051852                                               (60)\n",
       "1     0.062963                                               (84)\n",
       "2     0.066667                                              (339)\n",
       "3     0.066667                                              (511)\n",
       "4     0.066667                                              (544)\n",
       "...        ...                                                ...\n",
       "3358  0.051852  (642, 1315, 1252, 1253, 1286, 1311, 1289, 976,...\n",
       "3359  0.051852  (1315, 1252, 1253, 1286, 1311, 1289, 974, 976,...\n",
       "3360  0.051852  (642, 1315, 1252, 1253, 1286, 1289, 974, 976, ...\n",
       "3361  0.051852  (642, 1315, 1252, 1253, 1286, 1311, 1289, 974,...\n",
       "3362  0.051852  (642, 1315, 1252, 1253, 1286, 1311, 1289, 974,...\n",
       "\n",
       "[3363 rows x 2 columns]"
      ]
     },
     "execution_count": 17,
     "metadata": {},
     "output_type": "execute_result"
    }
   ],
   "source": [
    "apriori(te_df, min_support=0.05)"
   ]
  },
  {
   "cell_type": "code",
   "execution_count": 18,
   "metadata": {
    "colab": {
     "base_uri": "https://localhost:8080/",
     "height": 424
    },
    "id": "3qiJFIS9s0bb",
    "outputId": "7124571d-0be2-40ed-bd58-82a63d2846d2"
   },
   "outputs": [
    {
     "data": {
      "text/html": [
       "<div>\n",
       "<style scoped>\n",
       "    .dataframe tbody tr th:only-of-type {\n",
       "        vertical-align: middle;\n",
       "    }\n",
       "\n",
       "    .dataframe tbody tr th {\n",
       "        vertical-align: top;\n",
       "    }\n",
       "\n",
       "    .dataframe thead th {\n",
       "        text-align: right;\n",
       "    }\n",
       "</style>\n",
       "<table border=\"1\" class=\"dataframe\">\n",
       "  <thead>\n",
       "    <tr style=\"text-align: right;\">\n",
       "      <th></th>\n",
       "      <th>support</th>\n",
       "      <th>itemsets</th>\n",
       "    </tr>\n",
       "  </thead>\n",
       "  <tbody>\n",
       "    <tr>\n",
       "      <th>0</th>\n",
       "      <td>0.051852</td>\n",
       "      <td>(ALARM CLOCK BAKELIKE GREEN)</td>\n",
       "    </tr>\n",
       "    <tr>\n",
       "      <th>1</th>\n",
       "      <td>0.062963</td>\n",
       "      <td>(ASSORTED COLOUR BIRD ORNAMENT)</td>\n",
       "    </tr>\n",
       "    <tr>\n",
       "      <th>2</th>\n",
       "      <td>0.066667</td>\n",
       "      <td>(CREAM CUPID HEARTS COAT HANGER)</td>\n",
       "    </tr>\n",
       "    <tr>\n",
       "      <th>3</th>\n",
       "      <td>0.066667</td>\n",
       "      <td>(GLASS STAR FROSTED T-LIGHT HOLDER)</td>\n",
       "    </tr>\n",
       "    <tr>\n",
       "      <th>4</th>\n",
       "      <td>0.066667</td>\n",
       "      <td>(HAND WARMER BIRD DESIGN)</td>\n",
       "    </tr>\n",
       "    <tr>\n",
       "      <th>...</th>\n",
       "      <td>...</td>\n",
       "      <td>...</td>\n",
       "    </tr>\n",
       "    <tr>\n",
       "      <th>3358</th>\n",
       "      <td>0.051852</td>\n",
       "      <td>(WOODEN FRAME ANTIQUE WHITE , VINTAGE BILLBOAR...</td>\n",
       "    </tr>\n",
       "    <tr>\n",
       "      <th>3359</th>\n",
       "      <td>0.051852</td>\n",
       "      <td>(WOODEN FRAME ANTIQUE WHITE , VINTAGE BILLBOAR...</td>\n",
       "    </tr>\n",
       "    <tr>\n",
       "      <th>3360</th>\n",
       "      <td>0.051852</td>\n",
       "      <td>(WOODEN FRAME ANTIQUE WHITE , VINTAGE BILLBOAR...</td>\n",
       "    </tr>\n",
       "    <tr>\n",
       "      <th>3361</th>\n",
       "      <td>0.051852</td>\n",
       "      <td>(WOODEN FRAME ANTIQUE WHITE , VINTAGE BILLBOAR...</td>\n",
       "    </tr>\n",
       "    <tr>\n",
       "      <th>3362</th>\n",
       "      <td>0.051852</td>\n",
       "      <td>(WOODEN FRAME ANTIQUE WHITE , VINTAGE BILLBOAR...</td>\n",
       "    </tr>\n",
       "  </tbody>\n",
       "</table>\n",
       "<p>3363 rows × 2 columns</p>\n",
       "</div>"
      ],
      "text/plain": [
       "       support                                           itemsets\n",
       "0     0.051852                       (ALARM CLOCK BAKELIKE GREEN)\n",
       "1     0.062963                    (ASSORTED COLOUR BIRD ORNAMENT)\n",
       "2     0.066667                   (CREAM CUPID HEARTS COAT HANGER)\n",
       "3     0.066667                (GLASS STAR FROSTED T-LIGHT HOLDER)\n",
       "4     0.066667                          (HAND WARMER BIRD DESIGN)\n",
       "...        ...                                                ...\n",
       "3358  0.051852  (WOODEN FRAME ANTIQUE WHITE , VINTAGE BILLBOAR...\n",
       "3359  0.051852  (WOODEN FRAME ANTIQUE WHITE , VINTAGE BILLBOAR...\n",
       "3360  0.051852  (WOODEN FRAME ANTIQUE WHITE , VINTAGE BILLBOAR...\n",
       "3361  0.051852  (WOODEN FRAME ANTIQUE WHITE , VINTAGE BILLBOAR...\n",
       "3362  0.051852  (WOODEN FRAME ANTIQUE WHITE , VINTAGE BILLBOAR...\n",
       "\n",
       "[3363 rows x 2 columns]"
      ]
     },
     "execution_count": 18,
     "metadata": {},
     "output_type": "execute_result"
    }
   ],
   "source": [
    "apriori(te_df, min_support=0.05, use_colnames=True)  # 상품명으로 불러옴"
   ]
  },
  {
   "cell_type": "code",
   "execution_count": 19,
   "metadata": {
    "colab": {
     "base_uri": "https://localhost:8080/",
     "height": 424
    },
    "id": "5qzVj3rktN8e",
    "outputId": "a58524b6-1809-4468-cd1f-865067d51309"
   },
   "outputs": [
    {
     "data": {
      "text/html": [
       "<div>\n",
       "<style scoped>\n",
       "    .dataframe tbody tr th:only-of-type {\n",
       "        vertical-align: middle;\n",
       "    }\n",
       "\n",
       "    .dataframe tbody tr th {\n",
       "        vertical-align: top;\n",
       "    }\n",
       "\n",
       "    .dataframe thead th {\n",
       "        text-align: right;\n",
       "    }\n",
       "</style>\n",
       "<table border=\"1\" class=\"dataframe\">\n",
       "  <thead>\n",
       "    <tr style=\"text-align: right;\">\n",
       "      <th></th>\n",
       "      <th>support</th>\n",
       "      <th>itemsets</th>\n",
       "    </tr>\n",
       "  </thead>\n",
       "  <tbody>\n",
       "    <tr>\n",
       "      <th>0</th>\n",
       "      <td>0.051852</td>\n",
       "      <td>(ALARM CLOCK BAKELIKE GREEN)</td>\n",
       "    </tr>\n",
       "    <tr>\n",
       "      <th>1</th>\n",
       "      <td>0.062963</td>\n",
       "      <td>(ASSORTED COLOUR BIRD ORNAMENT)</td>\n",
       "    </tr>\n",
       "    <tr>\n",
       "      <th>2</th>\n",
       "      <td>0.066667</td>\n",
       "      <td>(CREAM CUPID HEARTS COAT HANGER)</td>\n",
       "    </tr>\n",
       "    <tr>\n",
       "      <th>3</th>\n",
       "      <td>0.066667</td>\n",
       "      <td>(GLASS STAR FROSTED T-LIGHT HOLDER)</td>\n",
       "    </tr>\n",
       "    <tr>\n",
       "      <th>4</th>\n",
       "      <td>0.066667</td>\n",
       "      <td>(HAND WARMER BIRD DESIGN)</td>\n",
       "    </tr>\n",
       "    <tr>\n",
       "      <th>...</th>\n",
       "      <td>...</td>\n",
       "      <td>...</td>\n",
       "    </tr>\n",
       "    <tr>\n",
       "      <th>3358</th>\n",
       "      <td>0.051852</td>\n",
       "      <td>(WOODEN FRAME ANTIQUE WHITE , VINTAGE BILLBOAR...</td>\n",
       "    </tr>\n",
       "    <tr>\n",
       "      <th>3359</th>\n",
       "      <td>0.051852</td>\n",
       "      <td>(WOODEN FRAME ANTIQUE WHITE , VINTAGE BILLBOAR...</td>\n",
       "    </tr>\n",
       "    <tr>\n",
       "      <th>3360</th>\n",
       "      <td>0.051852</td>\n",
       "      <td>(WOODEN FRAME ANTIQUE WHITE , VINTAGE BILLBOAR...</td>\n",
       "    </tr>\n",
       "    <tr>\n",
       "      <th>3361</th>\n",
       "      <td>0.051852</td>\n",
       "      <td>(WOODEN FRAME ANTIQUE WHITE , VINTAGE BILLBOAR...</td>\n",
       "    </tr>\n",
       "    <tr>\n",
       "      <th>3362</th>\n",
       "      <td>0.051852</td>\n",
       "      <td>(WOODEN FRAME ANTIQUE WHITE , VINTAGE BILLBOAR...</td>\n",
       "    </tr>\n",
       "  </tbody>\n",
       "</table>\n",
       "<p>3363 rows × 2 columns</p>\n",
       "</div>"
      ],
      "text/plain": [
       "       support                                           itemsets\n",
       "0     0.051852                       (ALARM CLOCK BAKELIKE GREEN)\n",
       "1     0.062963                    (ASSORTED COLOUR BIRD ORNAMENT)\n",
       "2     0.066667                   (CREAM CUPID HEARTS COAT HANGER)\n",
       "3     0.066667                (GLASS STAR FROSTED T-LIGHT HOLDER)\n",
       "4     0.066667                          (HAND WARMER BIRD DESIGN)\n",
       "...        ...                                                ...\n",
       "3358  0.051852  (WOODEN FRAME ANTIQUE WHITE , VINTAGE BILLBOAR...\n",
       "3359  0.051852  (WOODEN FRAME ANTIQUE WHITE , VINTAGE BILLBOAR...\n",
       "3360  0.051852  (WOODEN FRAME ANTIQUE WHITE , VINTAGE BILLBOAR...\n",
       "3361  0.051852  (WOODEN FRAME ANTIQUE WHITE , VINTAGE BILLBOAR...\n",
       "3362  0.051852  (WOODEN FRAME ANTIQUE WHITE , VINTAGE BILLBOAR...\n",
       "\n",
       "[3363 rows x 2 columns]"
      ]
     },
     "execution_count": 19,
     "metadata": {},
     "output_type": "execute_result"
    }
   ],
   "source": [
    "frequent_itemsets = apriori(te_df, min_support=0.05, use_colnames=True)  # 빈발 집합으로 저장\n",
    "frequent_itemsets"
   ]
  },
  {
   "cell_type": "code",
   "execution_count": 20,
   "metadata": {},
   "outputs": [
    {
     "name": "stdout",
     "output_type": "stream",
     "text": [
      "항목 세트의 개수: 3363\n"
     ]
    }
   ],
   "source": [
    "num_itemsets = len(frequent_itemsets)\n",
    "print(\"항목 세트의 개수:\", num_itemsets)"
   ]
  },
  {
   "cell_type": "markdown",
   "metadata": {
    "id": "dRQVWF-htq8C"
   },
   "source": [
    "(연관 규칙 추출 및 평가)\n",
    "\n",
    "- mlxtend 라이브러리의 association_rules() 함수를 적용하여 규칙 평가하기 위한 지표 계산\n",
    "- 최소 신뢰도 0.8 (일반적으로 50%~80%)"
   ]
  },
  {
   "cell_type": "code",
   "execution_count": 21,
   "metadata": {
    "id": "Mpe2Ie7YtftT"
   },
   "outputs": [],
   "source": [
    "# 라이브러리 불러오기\n",
    "from mlxtend.frequent_patterns import association_rules"
   ]
  },
  {
   "cell_type": "markdown",
   "metadata": {
    "id": "CP47Dopnup6N"
   },
   "source": [
    "- antecedents가 IF부분이고, consequents가 THEN에 대항하는 부분\n",
    "- 예) 규칙 : \"우유 -> 빵\"\n",
    "  - Antecedent Support : \"우유\"가 포함된 거래가 얼마나 자주 발생하는지\n",
    "  - Consequent Support : \"빵\"이 포함된 거래가 얼마나 자주 발생하는지\n",
    "  - Support : \"우유\"와 \"빵\"이 함께 나타난 거래가 얼마나 자주 발생하는지\n"
   ]
  },
  {
   "cell_type": "code",
   "execution_count": 22,
   "metadata": {},
   "outputs": [
    {
     "data": {
      "text/html": [
       "<div>\n",
       "<style scoped>\n",
       "    .dataframe tbody tr th:only-of-type {\n",
       "        vertical-align: middle;\n",
       "    }\n",
       "\n",
       "    .dataframe tbody tr th {\n",
       "        vertical-align: top;\n",
       "    }\n",
       "\n",
       "    .dataframe thead th {\n",
       "        text-align: right;\n",
       "    }\n",
       "</style>\n",
       "<table border=\"1\" class=\"dataframe\">\n",
       "  <thead>\n",
       "    <tr style=\"text-align: right;\">\n",
       "      <th></th>\n",
       "      <th>antecedents</th>\n",
       "      <th>consequents</th>\n",
       "      <th>antecedent support</th>\n",
       "      <th>consequent support</th>\n",
       "      <th>support</th>\n",
       "      <th>confidence</th>\n",
       "      <th>lift</th>\n",
       "      <th>representativity</th>\n",
       "      <th>leverage</th>\n",
       "      <th>conviction</th>\n",
       "      <th>zhangs_metric</th>\n",
       "      <th>jaccard</th>\n",
       "      <th>certainty</th>\n",
       "      <th>kulczynski</th>\n",
       "    </tr>\n",
       "  </thead>\n",
       "  <tbody>\n",
       "    <tr>\n",
       "      <th>185773</th>\n",
       "      <td>(CREAM CUPID HEARTS COAT HANGER, VINTAGE BILLB...</td>\n",
       "      <td>(GLASS STAR FROSTED T-LIGHT HOLDER, WOODEN PIC...</td>\n",
       "      <td>0.051852</td>\n",
       "      <td>0.051852</td>\n",
       "      <td>0.051852</td>\n",
       "      <td>1.0</td>\n",
       "      <td>19.285714</td>\n",
       "      <td>1.0</td>\n",
       "      <td>0.049163</td>\n",
       "      <td>inf</td>\n",
       "      <td>1.0</td>\n",
       "      <td>1.0</td>\n",
       "      <td>1.0</td>\n",
       "      <td>1.0</td>\n",
       "    </tr>\n",
       "    <tr>\n",
       "      <th>84898</th>\n",
       "      <td>(CREAM CUPID HEARTS COAT HANGER, RED WOOLLY HO...</td>\n",
       "      <td>(KNITTED UNION FLAG HOT WATER BOTTLE, WOODEN P...</td>\n",
       "      <td>0.051852</td>\n",
       "      <td>0.051852</td>\n",
       "      <td>0.051852</td>\n",
       "      <td>1.0</td>\n",
       "      <td>19.285714</td>\n",
       "      <td>1.0</td>\n",
       "      <td>0.049163</td>\n",
       "      <td>inf</td>\n",
       "      <td>1.0</td>\n",
       "      <td>1.0</td>\n",
       "      <td>1.0</td>\n",
       "      <td>1.0</td>\n",
       "    </tr>\n",
       "    <tr>\n",
       "      <th>84897</th>\n",
       "      <td>(KNITTED UNION FLAG HOT WATER BOTTLE, CREAM CU...</td>\n",
       "      <td>(WOODEN PICTURE FRAME WHITE FINISH, RED WOOLLY...</td>\n",
       "      <td>0.051852</td>\n",
       "      <td>0.051852</td>\n",
       "      <td>0.051852</td>\n",
       "      <td>1.0</td>\n",
       "      <td>19.285714</td>\n",
       "      <td>1.0</td>\n",
       "      <td>0.049163</td>\n",
       "      <td>inf</td>\n",
       "      <td>1.0</td>\n",
       "      <td>1.0</td>\n",
       "      <td>1.0</td>\n",
       "      <td>1.0</td>\n",
       "    </tr>\n",
       "    <tr>\n",
       "      <th>84896</th>\n",
       "      <td>(CREAM CUPID HEARTS COAT HANGER, VINTAGE BILLB...</td>\n",
       "      <td>(KNITTED UNION FLAG HOT WATER BOTTLE, WOODEN P...</td>\n",
       "      <td>0.051852</td>\n",
       "      <td>0.051852</td>\n",
       "      <td>0.051852</td>\n",
       "      <td>1.0</td>\n",
       "      <td>19.285714</td>\n",
       "      <td>1.0</td>\n",
       "      <td>0.049163</td>\n",
       "      <td>inf</td>\n",
       "      <td>1.0</td>\n",
       "      <td>1.0</td>\n",
       "      <td>1.0</td>\n",
       "      <td>1.0</td>\n",
       "    </tr>\n",
       "    <tr>\n",
       "      <th>178612</th>\n",
       "      <td>(WOODEN FRAME ANTIQUE WHITE , CREAM CUPID HEAR...</td>\n",
       "      <td>(WOODEN PICTURE FRAME WHITE FINISH, VINTAGE BI...</td>\n",
       "      <td>0.051852</td>\n",
       "      <td>0.051852</td>\n",
       "      <td>0.051852</td>\n",
       "      <td>1.0</td>\n",
       "      <td>19.285714</td>\n",
       "      <td>1.0</td>\n",
       "      <td>0.049163</td>\n",
       "      <td>inf</td>\n",
       "      <td>1.0</td>\n",
       "      <td>1.0</td>\n",
       "      <td>1.0</td>\n",
       "      <td>1.0</td>\n",
       "    </tr>\n",
       "  </tbody>\n",
       "</table>\n",
       "</div>"
      ],
      "text/plain": [
       "                                              antecedents  \\\n",
       "185773  (CREAM CUPID HEARTS COAT HANGER, VINTAGE BILLB...   \n",
       "84898   (CREAM CUPID HEARTS COAT HANGER, RED WOOLLY HO...   \n",
       "84897   (KNITTED UNION FLAG HOT WATER BOTTLE, CREAM CU...   \n",
       "84896   (CREAM CUPID HEARTS COAT HANGER, VINTAGE BILLB...   \n",
       "178612  (WOODEN FRAME ANTIQUE WHITE , CREAM CUPID HEAR...   \n",
       "\n",
       "                                              consequents  antecedent support  \\\n",
       "185773  (GLASS STAR FROSTED T-LIGHT HOLDER, WOODEN PIC...            0.051852   \n",
       "84898   (KNITTED UNION FLAG HOT WATER BOTTLE, WOODEN P...            0.051852   \n",
       "84897   (WOODEN PICTURE FRAME WHITE FINISH, RED WOOLLY...            0.051852   \n",
       "84896   (KNITTED UNION FLAG HOT WATER BOTTLE, WOODEN P...            0.051852   \n",
       "178612  (WOODEN PICTURE FRAME WHITE FINISH, VINTAGE BI...            0.051852   \n",
       "\n",
       "        consequent support   support  confidence       lift  representativity  \\\n",
       "185773            0.051852  0.051852         1.0  19.285714               1.0   \n",
       "84898             0.051852  0.051852         1.0  19.285714               1.0   \n",
       "84897             0.051852  0.051852         1.0  19.285714               1.0   \n",
       "84896             0.051852  0.051852         1.0  19.285714               1.0   \n",
       "178612            0.051852  0.051852         1.0  19.285714               1.0   \n",
       "\n",
       "        leverage  conviction  zhangs_metric  jaccard  certainty  kulczynski  \n",
       "185773  0.049163         inf            1.0      1.0        1.0         1.0  \n",
       "84898   0.049163         inf            1.0      1.0        1.0         1.0  \n",
       "84897   0.049163         inf            1.0      1.0        1.0         1.0  \n",
       "84896   0.049163         inf            1.0      1.0        1.0         1.0  \n",
       "178612  0.049163         inf            1.0      1.0        1.0         1.0  "
      ]
     },
     "execution_count": 22,
     "metadata": {},
     "output_type": "execute_result"
    }
   ],
   "source": [
    "rules = association_rules(frequent_itemsets, metric='confidence', min_threshold=0.8, num_itemsets=61)\n",
    "rules.sort_values(by='lift', ascending=False).head()"
   ]
  },
  {
   "cell_type": "code",
   "execution_count": 23,
   "metadata": {},
   "outputs": [
    {
     "name": "stdout",
     "output_type": "stream",
     "text": [
      "Help on function association_rules in module mlxtend.frequent_patterns.association_rules:\n",
      "\n",
      "association_rules(df: pandas.core.frame.DataFrame, num_itemsets: int, df_orig: Optional[pandas.core.frame.DataFrame] = None, null_values=False, metric='confidence', min_threshold=0.8, support_only=False, return_metrics: list = ['antecedent support', 'consequent support', 'support', 'confidence', 'lift', 'representativity', 'leverage', 'conviction', 'zhangs_metric', 'jaccard', 'certainty', 'kulczynski']) -> pandas.core.frame.DataFrame\n",
      "    Generates a DataFrame of association rules including the\n",
      "    metrics 'score', 'confidence', and 'lift'\n",
      "\n",
      "    Parameters\n",
      "    -----------\n",
      "    df : pandas DataFrame\n",
      "      pandas DataFrame of frequent itemsets\n",
      "      with columns ['support', 'itemsets']\n",
      "\n",
      "    df_orig : pandas DataFrame (default: None)\n",
      "      DataFrame with original input data. Only provided when null_values exist\n",
      "\n",
      "    num_itemsets : int\n",
      "      Number of transactions in original input data\n",
      "\n",
      "    null_values : bool (default: False)\n",
      "      In case there are null values as NaNs in the original input data\n",
      "\n",
      "    metric : string (default: 'confidence')\n",
      "      Metric to evaluate if a rule is of interest.\n",
      "      **Automatically set to 'support' if `support_only=True`.**\n",
      "      Otherwise, supported metrics are 'support', 'confidence', 'lift',\n",
      "      'leverage', 'conviction' and 'zhangs_metric'\n",
      "      These metrics are computed as follows:\n",
      "\n",
      "      - support(A->C) = support(A+C) [aka 'support'], range: [0, 1]\n",
      "\n",
      "      - confidence(A->C) = support(A+C) / support(A), range: [0, 1]\n",
      "\n",
      "      - lift(A->C) = confidence(A->C) / support(C), range: [0, inf]\n",
      "\n",
      "      - leverage(A->C) = support(A->C) - support(A)*support(C),\n",
      "        range: [-1, 1]\n",
      "\n",
      "      - conviction = [1 - support(C)] / [1 - confidence(A->C)],\n",
      "        range: [0, inf]\n",
      "\n",
      "      - zhangs_metric(A->C) =\n",
      "        leverage(A->C) / max(support(A->C)*(1-support(A)), support(A)*(support(C)-support(A->C)))\n",
      "        range: [-1,1]\n",
      "\n",
      "\n",
      "    min_threshold : float (default: 0.8)\n",
      "      Minimal threshold for the evaluation metric,\n",
      "      via the `metric` parameter,\n",
      "      to decide whether a candidate rule is of interest.\n",
      "\n",
      "    support_only : bool (default: False)\n",
      "      Only computes the rule support and fills the other\n",
      "      metric columns with NaNs. This is useful if:\n",
      "\n",
      "      a) the input DataFrame is incomplete, e.g., does\n",
      "      not contain support values for all rule antecedents\n",
      "      and consequents\n",
      "\n",
      "      b) you simply want to speed up the computation because\n",
      "      you don't need the other metrics.\n",
      "\n",
      "    Returns\n",
      "    ----------\n",
      "    pandas DataFrame with columns \"antecedents\" and \"consequents\"\n",
      "      that store itemsets, plus the scoring metric columns:\n",
      "      \"antecedent support\", \"consequent support\",\n",
      "      \"support\", \"confidence\", \"lift\",\n",
      "      \"leverage\", \"conviction\"\n",
      "      of all rules for which\n",
      "      metric(rule) >= min_threshold.\n",
      "      Each entry in the \"antecedents\" and \"consequents\" columns are\n",
      "      of type `frozenset`, which is a Python built-in type that\n",
      "      behaves similarly to sets except that it is immutable\n",
      "      (For more info, see\n",
      "      https://docs.python.org/3.6/library/stdtypes.html#frozenset).\n",
      "\n",
      "    Examples\n",
      "    -----------\n",
      "    For usage examples, please see\n",
      "    https://rasbt.github.io/mlxtend/user_guide/frequent_patterns/association_rules/\n",
      "\n"
     ]
    }
   ],
   "source": [
    "help(association_rules)"
   ]
  },
  {
   "cell_type": "markdown",
   "metadata": {
    "id": "p6lBvP_53RYy"
   },
   "source": [
    "## FP-Growth 알고리즘"
   ]
  },
  {
   "cell_type": "markdown",
   "metadata": {
    "id": "JmozjhrC3kV2"
   },
   "source": [
    "- Apriori 알고리즘은 무차별적으로 모든 경우의 수를 다 조사하는 Brute Force (무차별 탐색) 방법의 단점을 극복하기 위해 고안된 방안이지만, Apriori 알고리즘도 데이터가 방대해질수록 속도가 점점 느려진다는 단점 (각 단계마다 데이터셋을 매번 다시 스캔해서 후보 집합을 만들어야 하기 때문)\n",
    "\n",
    "- FP-Growth (Frequent Pattern Growth) 알고리즘 : 최소 지지도 이상인 아이템에 주목하는 Apriori 알고리즘의 접근 방법을 가져오되, *트리 구조*를 활용해 속도를 개선시킨 방법론"
   ]
  },
  {
   "cell_type": "markdown",
   "metadata": {
    "id": "VcXiufst4c26"
   },
   "source": [
    "### 파이썬으로 FP-Growth 알고리즘 구현하기"
   ]
  },
  {
   "cell_type": "code",
   "execution_count": 24,
   "metadata": {
    "id": "7fNWHYNn3TyA"
   },
   "outputs": [],
   "source": [
    "# 라이브러리 불러오기\n",
    "import pandas as pd"
   ]
  },
  {
   "cell_type": "code",
   "execution_count": 25,
   "metadata": {
    "colab": {
     "base_uri": "https://localhost:8080/",
     "height": 206
    },
    "id": "U_iBV4RN4kL4",
    "outputId": "0e07876f-4045-42a3-9381-248f74c5c6e8"
   },
   "outputs": [
    {
     "data": {
      "text/html": [
       "<div>\n",
       "<style scoped>\n",
       "    .dataframe tbody tr th:only-of-type {\n",
       "        vertical-align: middle;\n",
       "    }\n",
       "\n",
       "    .dataframe tbody tr th {\n",
       "        vertical-align: top;\n",
       "    }\n",
       "\n",
       "    .dataframe thead th {\n",
       "        text-align: right;\n",
       "    }\n",
       "</style>\n",
       "<table border=\"1\" class=\"dataframe\">\n",
       "  <thead>\n",
       "    <tr style=\"text-align: right;\">\n",
       "      <th></th>\n",
       "      <th>OrderID</th>\n",
       "      <th>StockCode</th>\n",
       "      <th>ProdName</th>\n",
       "      <th>Quantity</th>\n",
       "      <th>OrderDate</th>\n",
       "      <th>UnitPrice</th>\n",
       "      <th>CustomerID</th>\n",
       "    </tr>\n",
       "  </thead>\n",
       "  <tbody>\n",
       "    <tr>\n",
       "      <th>0</th>\n",
       "      <td>536365</td>\n",
       "      <td>85123A</td>\n",
       "      <td>WHITE HANGING HEART T-LIGHT HOLDER</td>\n",
       "      <td>6</td>\n",
       "      <td>2010-12-01</td>\n",
       "      <td>2.55</td>\n",
       "      <td>17850.0</td>\n",
       "    </tr>\n",
       "    <tr>\n",
       "      <th>1</th>\n",
       "      <td>536365</td>\n",
       "      <td>71053</td>\n",
       "      <td>WHITE METAL LANTERN</td>\n",
       "      <td>6</td>\n",
       "      <td>2010-12-01</td>\n",
       "      <td>3.39</td>\n",
       "      <td>17850.0</td>\n",
       "    </tr>\n",
       "    <tr>\n",
       "      <th>2</th>\n",
       "      <td>536365</td>\n",
       "      <td>84406B</td>\n",
       "      <td>CREAM CUPID HEARTS COAT HANGER</td>\n",
       "      <td>8</td>\n",
       "      <td>2010-12-01</td>\n",
       "      <td>2.75</td>\n",
       "      <td>17850.0</td>\n",
       "    </tr>\n",
       "    <tr>\n",
       "      <th>3</th>\n",
       "      <td>536365</td>\n",
       "      <td>84029G</td>\n",
       "      <td>KNITTED UNION FLAG HOT WATER BOTTLE</td>\n",
       "      <td>6</td>\n",
       "      <td>2010-12-01</td>\n",
       "      <td>3.39</td>\n",
       "      <td>17850.0</td>\n",
       "    </tr>\n",
       "    <tr>\n",
       "      <th>4</th>\n",
       "      <td>536365</td>\n",
       "      <td>84029E</td>\n",
       "      <td>RED WOOLLY HOTTIE WHITE HEART.</td>\n",
       "      <td>6</td>\n",
       "      <td>2010-12-01</td>\n",
       "      <td>3.39</td>\n",
       "      <td>17850.0</td>\n",
       "    </tr>\n",
       "  </tbody>\n",
       "</table>\n",
       "</div>"
      ],
      "text/plain": [
       "   OrderID StockCode                             ProdName  Quantity  \\\n",
       "0   536365    85123A   WHITE HANGING HEART T-LIGHT HOLDER         6   \n",
       "1   536365     71053                  WHITE METAL LANTERN         6   \n",
       "2   536365    84406B       CREAM CUPID HEARTS COAT HANGER         8   \n",
       "3   536365    84029G  KNITTED UNION FLAG HOT WATER BOTTLE         6   \n",
       "4   536365    84029E       RED WOOLLY HOTTIE WHITE HEART.         6   \n",
       "\n",
       "    OrderDate  UnitPrice  CustomerID  \n",
       "0  2010-12-01       2.55     17850.0  \n",
       "1  2010-12-01       3.39     17850.0  \n",
       "2  2010-12-01       2.75     17850.0  \n",
       "3  2010-12-01       3.39     17850.0  \n",
       "4  2010-12-01       3.39     17850.0  "
      ]
     },
     "execution_count": 25,
     "metadata": {},
     "output_type": "execute_result"
    }
   ],
   "source": [
    "# 데이터 불러오기\n",
    "df = pd.read_csv('retail_data.csv')\n",
    "df.head()"
   ]
  },
  {
   "cell_type": "code",
   "execution_count": 26,
   "metadata": {
    "colab": {
     "base_uri": "https://localhost:8080/",
     "height": 206
    },
    "id": "FUl17fRn49oo",
    "outputId": "5196c187-8344-42f8-eef8-76588c0f08e7"
   },
   "outputs": [
    {
     "data": {
      "text/html": [
       "<div>\n",
       "<style scoped>\n",
       "    .dataframe tbody tr th:only-of-type {\n",
       "        vertical-align: middle;\n",
       "    }\n",
       "\n",
       "    .dataframe tbody tr th {\n",
       "        vertical-align: top;\n",
       "    }\n",
       "\n",
       "    .dataframe thead th {\n",
       "        text-align: right;\n",
       "    }\n",
       "</style>\n",
       "<table border=\"1\" class=\"dataframe\">\n",
       "  <thead>\n",
       "    <tr style=\"text-align: right;\">\n",
       "      <th></th>\n",
       "      <th>OrderID</th>\n",
       "      <th>ProdName</th>\n",
       "    </tr>\n",
       "  </thead>\n",
       "  <tbody>\n",
       "    <tr>\n",
       "      <th>0</th>\n",
       "      <td>536365</td>\n",
       "      <td>[WHITE HANGING HEART T-LIGHT HOLDER, WHITE MET...</td>\n",
       "    </tr>\n",
       "    <tr>\n",
       "      <th>1</th>\n",
       "      <td>536366</td>\n",
       "      <td>[HAND WARMER UNION JACK, HAND WARMER RED POLKA...</td>\n",
       "    </tr>\n",
       "    <tr>\n",
       "      <th>2</th>\n",
       "      <td>536367</td>\n",
       "      <td>[ASSORTED COLOUR BIRD ORNAMENT, POPPY'S PLAYHO...</td>\n",
       "    </tr>\n",
       "    <tr>\n",
       "      <th>3</th>\n",
       "      <td>536368</td>\n",
       "      <td>[JAM MAKING SET WITH JARS, RED COAT RACK PARIS...</td>\n",
       "    </tr>\n",
       "    <tr>\n",
       "      <th>4</th>\n",
       "      <td>536369</td>\n",
       "      <td>[BATH BUILDING BLOCK WORD]</td>\n",
       "    </tr>\n",
       "  </tbody>\n",
       "</table>\n",
       "</div>"
      ],
      "text/plain": [
       "   OrderID                                           ProdName\n",
       "0   536365  [WHITE HANGING HEART T-LIGHT HOLDER, WHITE MET...\n",
       "1   536366  [HAND WARMER UNION JACK, HAND WARMER RED POLKA...\n",
       "2   536367  [ASSORTED COLOUR BIRD ORNAMENT, POPPY'S PLAYHO...\n",
       "3   536368  [JAM MAKING SET WITH JARS, RED COAT RACK PARIS...\n",
       "4   536369                         [BATH BUILDING BLOCK WORD]"
      ]
     },
     "execution_count": 26,
     "metadata": {},
     "output_type": "execute_result"
    }
   ],
   "source": [
    "# OrderID별로 ProdName을 리스트화\n",
    "basket_df = df.groupby('OrderID')['ProdName'].apply(list).reset_index()\n",
    "basket_df.head()"
   ]
  },
  {
   "cell_type": "code",
   "execution_count": 27,
   "metadata": {
    "id": "lWtY7QxN4sb1"
   },
   "outputs": [],
   "source": [
    "from mlxtend.preprocessing import TransactionEncoder\n",
    "from mlxtend.frequent_patterns import fpgrowth\n",
    "from mlxtend.frequent_patterns import association_rules"
   ]
  },
  {
   "cell_type": "code",
   "execution_count": 28,
   "metadata": {
    "colab": {
     "base_uri": "https://localhost:8080/"
    },
    "id": "eDMepEcH5mdf",
    "outputId": "327ccd3d-5f35-49fd-e7fc-a14a241f6de7"
   },
   "outputs": [
    {
     "data": {
      "text/plain": [
       "array([[False, False, False, ..., False, False, False],\n",
       "       [False, False, False, ..., False, False, False],\n",
       "       [False, False, False, ..., False, False, False],\n",
       "       ...,\n",
       "       [False, False, False, ..., False, False, False],\n",
       "       [False, False, False, ..., False, False, False],\n",
       "       [False, False, False, ..., False, False, False]])"
      ]
     },
     "execution_count": 28,
     "metadata": {},
     "output_type": "execute_result"
    }
   ],
   "source": [
    "# TransactionEncoder를 활용해 데이터 이진 변환\n",
    "te = TransactionEncoder()\n",
    "te_result = te.fit_transform(basket_df['ProdName'])\n",
    "te_result"
   ]
  },
  {
   "cell_type": "code",
   "execution_count": 29,
   "metadata": {
    "colab": {
     "base_uri": "https://localhost:8080/",
     "height": 342
    },
    "id": "80RwnEEu55nx",
    "outputId": "4552229b-fb9d-4398-9cf2-a6889263946a"
   },
   "outputs": [
    {
     "data": {
      "text/html": [
       "<div>\n",
       "<style scoped>\n",
       "    .dataframe tbody tr th:only-of-type {\n",
       "        vertical-align: middle;\n",
       "    }\n",
       "\n",
       "    .dataframe tbody tr th {\n",
       "        vertical-align: top;\n",
       "    }\n",
       "\n",
       "    .dataframe thead th {\n",
       "        text-align: right;\n",
       "    }\n",
       "</style>\n",
       "<table border=\"1\" class=\"dataframe\">\n",
       "  <thead>\n",
       "    <tr style=\"text-align: right;\">\n",
       "      <th></th>\n",
       "      <th>4 PURPLE FLOCK DINNER CANDLES</th>\n",
       "      <th>SET 2 TEA TOWELS I LOVE LONDON</th>\n",
       "      <th>10 COLOUR SPACEBOY PEN</th>\n",
       "      <th>12 COLOURED PARTY BALLOONS</th>\n",
       "      <th>12 DAISY PEGS IN WOOD BOX</th>\n",
       "      <th>12 MESSAGE CARDS WITH ENVELOPES</th>\n",
       "      <th>12 PENCIL SMALL TUBE WOODLAND</th>\n",
       "      <th>12 PENCILS SMALL TUBE RED RETROSPOT</th>\n",
       "      <th>12 PENCILS SMALL TUBE SKULL</th>\n",
       "      <th>12 PENCILS TALL TUBE POSY</th>\n",
       "      <th>...</th>\n",
       "      <th>WRAP, BILLBOARD FONTS DESIGN</th>\n",
       "      <th>YELLOW BREAKFAST CUP AND SAUCER</th>\n",
       "      <th>YELLOW COAT RACK PARIS FASHION</th>\n",
       "      <th>YELLOW GIANT GARDEN THERMOMETER</th>\n",
       "      <th>YELLOW SHARK HELICOPTER</th>\n",
       "      <th>YOU'RE CONFUSING ME METAL SIGN</th>\n",
       "      <th>YULETIDE IMAGES GIFT WRAP SET</th>\n",
       "      <th>ZINC FINISH 15CM PLANTER POTS</th>\n",
       "      <th>ZINC METAL HEART DECORATION</th>\n",
       "      <th>ZINC WILLIE WINKIE  CANDLE STICK</th>\n",
       "    </tr>\n",
       "  </thead>\n",
       "  <tbody>\n",
       "    <tr>\n",
       "      <th>0</th>\n",
       "      <td>False</td>\n",
       "      <td>False</td>\n",
       "      <td>False</td>\n",
       "      <td>False</td>\n",
       "      <td>False</td>\n",
       "      <td>False</td>\n",
       "      <td>False</td>\n",
       "      <td>False</td>\n",
       "      <td>False</td>\n",
       "      <td>False</td>\n",
       "      <td>...</td>\n",
       "      <td>False</td>\n",
       "      <td>False</td>\n",
       "      <td>False</td>\n",
       "      <td>False</td>\n",
       "      <td>False</td>\n",
       "      <td>False</td>\n",
       "      <td>False</td>\n",
       "      <td>False</td>\n",
       "      <td>False</td>\n",
       "      <td>False</td>\n",
       "    </tr>\n",
       "    <tr>\n",
       "      <th>1</th>\n",
       "      <td>False</td>\n",
       "      <td>False</td>\n",
       "      <td>False</td>\n",
       "      <td>False</td>\n",
       "      <td>False</td>\n",
       "      <td>False</td>\n",
       "      <td>False</td>\n",
       "      <td>False</td>\n",
       "      <td>False</td>\n",
       "      <td>False</td>\n",
       "      <td>...</td>\n",
       "      <td>False</td>\n",
       "      <td>False</td>\n",
       "      <td>False</td>\n",
       "      <td>False</td>\n",
       "      <td>False</td>\n",
       "      <td>False</td>\n",
       "      <td>False</td>\n",
       "      <td>False</td>\n",
       "      <td>False</td>\n",
       "      <td>False</td>\n",
       "    </tr>\n",
       "    <tr>\n",
       "      <th>2</th>\n",
       "      <td>False</td>\n",
       "      <td>False</td>\n",
       "      <td>False</td>\n",
       "      <td>False</td>\n",
       "      <td>False</td>\n",
       "      <td>False</td>\n",
       "      <td>False</td>\n",
       "      <td>False</td>\n",
       "      <td>False</td>\n",
       "      <td>False</td>\n",
       "      <td>...</td>\n",
       "      <td>False</td>\n",
       "      <td>False</td>\n",
       "      <td>False</td>\n",
       "      <td>False</td>\n",
       "      <td>False</td>\n",
       "      <td>False</td>\n",
       "      <td>False</td>\n",
       "      <td>False</td>\n",
       "      <td>False</td>\n",
       "      <td>False</td>\n",
       "    </tr>\n",
       "    <tr>\n",
       "      <th>3</th>\n",
       "      <td>False</td>\n",
       "      <td>False</td>\n",
       "      <td>False</td>\n",
       "      <td>False</td>\n",
       "      <td>False</td>\n",
       "      <td>False</td>\n",
       "      <td>False</td>\n",
       "      <td>False</td>\n",
       "      <td>False</td>\n",
       "      <td>False</td>\n",
       "      <td>...</td>\n",
       "      <td>False</td>\n",
       "      <td>False</td>\n",
       "      <td>True</td>\n",
       "      <td>False</td>\n",
       "      <td>False</td>\n",
       "      <td>False</td>\n",
       "      <td>False</td>\n",
       "      <td>False</td>\n",
       "      <td>False</td>\n",
       "      <td>False</td>\n",
       "    </tr>\n",
       "    <tr>\n",
       "      <th>4</th>\n",
       "      <td>False</td>\n",
       "      <td>False</td>\n",
       "      <td>False</td>\n",
       "      <td>False</td>\n",
       "      <td>False</td>\n",
       "      <td>False</td>\n",
       "      <td>False</td>\n",
       "      <td>False</td>\n",
       "      <td>False</td>\n",
       "      <td>False</td>\n",
       "      <td>...</td>\n",
       "      <td>False</td>\n",
       "      <td>False</td>\n",
       "      <td>False</td>\n",
       "      <td>False</td>\n",
       "      <td>False</td>\n",
       "      <td>False</td>\n",
       "      <td>False</td>\n",
       "      <td>False</td>\n",
       "      <td>False</td>\n",
       "      <td>False</td>\n",
       "    </tr>\n",
       "  </tbody>\n",
       "</table>\n",
       "<p>5 rows × 1343 columns</p>\n",
       "</div>"
      ],
      "text/plain": [
       "    4 PURPLE FLOCK DINNER CANDLES   SET 2 TEA TOWELS I LOVE LONDON   \\\n",
       "0                           False                             False   \n",
       "1                           False                             False   \n",
       "2                           False                             False   \n",
       "3                           False                             False   \n",
       "4                           False                             False   \n",
       "\n",
       "   10 COLOUR SPACEBOY PEN  12 COLOURED PARTY BALLOONS  \\\n",
       "0                   False                       False   \n",
       "1                   False                       False   \n",
       "2                   False                       False   \n",
       "3                   False                       False   \n",
       "4                   False                       False   \n",
       "\n",
       "   12 DAISY PEGS IN WOOD BOX  12 MESSAGE CARDS WITH ENVELOPES  \\\n",
       "0                      False                            False   \n",
       "1                      False                            False   \n",
       "2                      False                            False   \n",
       "3                      False                            False   \n",
       "4                      False                            False   \n",
       "\n",
       "   12 PENCIL SMALL TUBE WOODLAND  12 PENCILS SMALL TUBE RED RETROSPOT  \\\n",
       "0                          False                                False   \n",
       "1                          False                                False   \n",
       "2                          False                                False   \n",
       "3                          False                                False   \n",
       "4                          False                                False   \n",
       "\n",
       "   12 PENCILS SMALL TUBE SKULL  12 PENCILS TALL TUBE POSY  ...  \\\n",
       "0                        False                      False  ...   \n",
       "1                        False                      False  ...   \n",
       "2                        False                      False  ...   \n",
       "3                        False                      False  ...   \n",
       "4                        False                      False  ...   \n",
       "\n",
       "   WRAP, BILLBOARD FONTS DESIGN  YELLOW BREAKFAST CUP AND SAUCER  \\\n",
       "0                         False                            False   \n",
       "1                         False                            False   \n",
       "2                         False                            False   \n",
       "3                         False                            False   \n",
       "4                         False                            False   \n",
       "\n",
       "   YELLOW COAT RACK PARIS FASHION  YELLOW GIANT GARDEN THERMOMETER  \\\n",
       "0                           False                            False   \n",
       "1                           False                            False   \n",
       "2                           False                            False   \n",
       "3                            True                            False   \n",
       "4                           False                            False   \n",
       "\n",
       "   YELLOW SHARK HELICOPTER  YOU'RE CONFUSING ME METAL SIGN   \\\n",
       "0                    False                            False   \n",
       "1                    False                            False   \n",
       "2                    False                            False   \n",
       "3                    False                            False   \n",
       "4                    False                            False   \n",
       "\n",
       "   YULETIDE IMAGES GIFT WRAP SET  ZINC FINISH 15CM PLANTER POTS  \\\n",
       "0                          False                          False   \n",
       "1                          False                          False   \n",
       "2                          False                          False   \n",
       "3                          False                          False   \n",
       "4                          False                          False   \n",
       "\n",
       "   ZINC METAL HEART DECORATION  ZINC WILLIE WINKIE  CANDLE STICK  \n",
       "0                        False                             False  \n",
       "1                        False                             False  \n",
       "2                        False                             False  \n",
       "3                        False                             False  \n",
       "4                        False                             False  \n",
       "\n",
       "[5 rows x 1343 columns]"
      ]
     },
     "execution_count": 29,
     "metadata": {},
     "output_type": "execute_result"
    }
   ],
   "source": [
    "te_df = pd.DataFrame(te_result, columns=te.columns_)\n",
    "te_df.head()"
   ]
  },
  {
   "cell_type": "code",
   "execution_count": 30,
   "metadata": {
    "colab": {
     "base_uri": "https://localhost:8080/",
     "height": 424
    },
    "id": "ItI31PpD6AtR",
    "outputId": "36fe9104-32d4-4ff7-e64a-43f33ca8411c"
   },
   "outputs": [
    {
     "data": {
      "text/html": [
       "<div>\n",
       "<style scoped>\n",
       "    .dataframe tbody tr th:only-of-type {\n",
       "        vertical-align: middle;\n",
       "    }\n",
       "\n",
       "    .dataframe tbody tr th {\n",
       "        vertical-align: top;\n",
       "    }\n",
       "\n",
       "    .dataframe thead th {\n",
       "        text-align: right;\n",
       "    }\n",
       "</style>\n",
       "<table border=\"1\" class=\"dataframe\">\n",
       "  <thead>\n",
       "    <tr style=\"text-align: right;\">\n",
       "      <th></th>\n",
       "      <th>support</th>\n",
       "      <th>itemsets</th>\n",
       "    </tr>\n",
       "  </thead>\n",
       "  <tbody>\n",
       "    <tr>\n",
       "      <th>0</th>\n",
       "      <td>0.137037</td>\n",
       "      <td>(WHITE HANGING HEART T-LIGHT HOLDER)</td>\n",
       "    </tr>\n",
       "    <tr>\n",
       "      <th>1</th>\n",
       "      <td>0.103704</td>\n",
       "      <td>(RED WOOLLY HOTTIE WHITE HEART.)</td>\n",
       "    </tr>\n",
       "    <tr>\n",
       "      <th>2</th>\n",
       "      <td>0.096296</td>\n",
       "      <td>(SET 7 BABUSHKA NESTING BOXES)</td>\n",
       "    </tr>\n",
       "    <tr>\n",
       "      <th>3</th>\n",
       "      <td>0.085185</td>\n",
       "      <td>(KNITTED UNION FLAG HOT WATER BOTTLE)</td>\n",
       "    </tr>\n",
       "    <tr>\n",
       "      <th>4</th>\n",
       "      <td>0.066667</td>\n",
       "      <td>(CREAM CUPID HEARTS COAT HANGER)</td>\n",
       "    </tr>\n",
       "    <tr>\n",
       "      <th>...</th>\n",
       "      <td>...</td>\n",
       "      <td>...</td>\n",
       "    </tr>\n",
       "    <tr>\n",
       "      <th>56</th>\n",
       "      <td>0.062963</td>\n",
       "      <td>(KNITTED UNION FLAG HOT WATER BOTTLE, RED WOOL...</td>\n",
       "    </tr>\n",
       "    <tr>\n",
       "      <th>57</th>\n",
       "      <td>0.062963</td>\n",
       "      <td>(GLASS STAR FROSTED T-LIGHT HOLDER, WHITE HANG...</td>\n",
       "    </tr>\n",
       "    <tr>\n",
       "      <th>58</th>\n",
       "      <td>0.062963</td>\n",
       "      <td>(HAND WARMER RED POLKA DOT, HAND WARMER UNION ...</td>\n",
       "    </tr>\n",
       "    <tr>\n",
       "      <th>59</th>\n",
       "      <td>0.062963</td>\n",
       "      <td>(WHITE HANGING HEART T-LIGHT HOLDER, WOOD 2 DR...</td>\n",
       "    </tr>\n",
       "    <tr>\n",
       "      <th>60</th>\n",
       "      <td>0.062963</td>\n",
       "      <td>(WOOD S/3 CABINET ANT WHITE FINISH, WOODEN FRA...</td>\n",
       "    </tr>\n",
       "  </tbody>\n",
       "</table>\n",
       "<p>61 rows × 2 columns</p>\n",
       "</div>"
      ],
      "text/plain": [
       "     support                                           itemsets\n",
       "0   0.137037               (WHITE HANGING HEART T-LIGHT HOLDER)\n",
       "1   0.103704                   (RED WOOLLY HOTTIE WHITE HEART.)\n",
       "2   0.096296                     (SET 7 BABUSHKA NESTING BOXES)\n",
       "3   0.085185              (KNITTED UNION FLAG HOT WATER BOTTLE)\n",
       "4   0.066667                   (CREAM CUPID HEARTS COAT HANGER)\n",
       "..       ...                                                ...\n",
       "56  0.062963  (KNITTED UNION FLAG HOT WATER BOTTLE, RED WOOL...\n",
       "57  0.062963  (GLASS STAR FROSTED T-LIGHT HOLDER, WHITE HANG...\n",
       "58  0.062963  (HAND WARMER RED POLKA DOT, HAND WARMER UNION ...\n",
       "59  0.062963  (WHITE HANGING HEART T-LIGHT HOLDER, WOOD 2 DR...\n",
       "60  0.062963  (WOOD S/3 CABINET ANT WHITE FINISH, WOODEN FRA...\n",
       "\n",
       "[61 rows x 2 columns]"
      ]
     },
     "execution_count": 30,
     "metadata": {},
     "output_type": "execute_result"
    }
   ],
   "source": [
    "# 빈발 항목 집합 (최소 지지도 : 0.06)\n",
    "frequent_itemsets = fpgrowth(te_df, min_support=0.06, use_colnames=True)\n",
    "frequent_itemsets"
   ]
  },
  {
   "cell_type": "code",
   "execution_count": 31,
   "metadata": {
    "id": "_GnIevpT6VRg"
   },
   "outputs": [],
   "source": [
    "# Corrected code with the DataFrame passed directly\n",
    "ar = association_rules(frequent_itemsets, metric='confidence', min_threshold=0.8, num_itemsets=61)"
   ]
  },
  {
   "cell_type": "code",
   "execution_count": 32,
   "metadata": {
    "colab": {
     "base_uri": "https://localhost:8080/",
     "height": 764
    },
    "id": "tN4c5QYo6y8C",
    "outputId": "96ef35e4-d05c-4057-98ab-ca340502b5f7"
   },
   "outputs": [
    {
     "data": {
      "text/html": [
       "<div>\n",
       "<style scoped>\n",
       "    .dataframe tbody tr th:only-of-type {\n",
       "        vertical-align: middle;\n",
       "    }\n",
       "\n",
       "    .dataframe tbody tr th {\n",
       "        vertical-align: top;\n",
       "    }\n",
       "\n",
       "    .dataframe thead th {\n",
       "        text-align: right;\n",
       "    }\n",
       "</style>\n",
       "<table border=\"1\" class=\"dataframe\">\n",
       "  <thead>\n",
       "    <tr style=\"text-align: right;\">\n",
       "      <th></th>\n",
       "      <th>antecedents</th>\n",
       "      <th>consequents</th>\n",
       "      <th>antecedent support</th>\n",
       "      <th>consequent support</th>\n",
       "      <th>support</th>\n",
       "      <th>confidence</th>\n",
       "      <th>lift</th>\n",
       "      <th>representativity</th>\n",
       "      <th>leverage</th>\n",
       "      <th>conviction</th>\n",
       "      <th>zhangs_metric</th>\n",
       "      <th>jaccard</th>\n",
       "      <th>certainty</th>\n",
       "      <th>kulczynski</th>\n",
       "    </tr>\n",
       "  </thead>\n",
       "  <tbody>\n",
       "    <tr>\n",
       "      <th>122</th>\n",
       "      <td>(KNITTED UNION FLAG HOT WATER BOTTLE, WHITE ME...</td>\n",
       "      <td>(RED WOOLLY HOTTIE WHITE HEART., GLASS STAR FR...</td>\n",
       "      <td>0.062963</td>\n",
       "      <td>0.062963</td>\n",
       "      <td>0.062963</td>\n",
       "      <td>1.0</td>\n",
       "      <td>15.882353</td>\n",
       "      <td>1.0</td>\n",
       "      <td>0.058999</td>\n",
       "      <td>inf</td>\n",
       "      <td>1.0</td>\n",
       "      <td>1.0</td>\n",
       "      <td>1.0</td>\n",
       "      <td>1.0</td>\n",
       "    </tr>\n",
       "    <tr>\n",
       "      <th>123</th>\n",
       "      <td>(KNITTED UNION FLAG HOT WATER BOTTLE, GLASS ST...</td>\n",
       "      <td>(RED WOOLLY HOTTIE WHITE HEART., WHITE METAL L...</td>\n",
       "      <td>0.062963</td>\n",
       "      <td>0.062963</td>\n",
       "      <td>0.062963</td>\n",
       "      <td>1.0</td>\n",
       "      <td>15.882353</td>\n",
       "      <td>1.0</td>\n",
       "      <td>0.058999</td>\n",
       "      <td>inf</td>\n",
       "      <td>1.0</td>\n",
       "      <td>1.0</td>\n",
       "      <td>1.0</td>\n",
       "      <td>1.0</td>\n",
       "    </tr>\n",
       "    <tr>\n",
       "      <th>124</th>\n",
       "      <td>(RED WOOLLY HOTTIE WHITE HEART., WHITE METAL L...</td>\n",
       "      <td>(KNITTED UNION FLAG HOT WATER BOTTLE, GLASS ST...</td>\n",
       "      <td>0.062963</td>\n",
       "      <td>0.062963</td>\n",
       "      <td>0.062963</td>\n",
       "      <td>1.0</td>\n",
       "      <td>15.882353</td>\n",
       "      <td>1.0</td>\n",
       "      <td>0.058999</td>\n",
       "      <td>inf</td>\n",
       "      <td>1.0</td>\n",
       "      <td>1.0</td>\n",
       "      <td>1.0</td>\n",
       "      <td>1.0</td>\n",
       "    </tr>\n",
       "    <tr>\n",
       "      <th>125</th>\n",
       "      <td>(RED WOOLLY HOTTIE WHITE HEART., GLASS STAR FR...</td>\n",
       "      <td>(KNITTED UNION FLAG HOT WATER BOTTLE, WHITE ME...</td>\n",
       "      <td>0.062963</td>\n",
       "      <td>0.062963</td>\n",
       "      <td>0.062963</td>\n",
       "      <td>1.0</td>\n",
       "      <td>15.882353</td>\n",
       "      <td>1.0</td>\n",
       "      <td>0.058999</td>\n",
       "      <td>inf</td>\n",
       "      <td>1.0</td>\n",
       "      <td>1.0</td>\n",
       "      <td>1.0</td>\n",
       "      <td>1.0</td>\n",
       "    </tr>\n",
       "    <tr>\n",
       "      <th>135</th>\n",
       "      <td>(WHITE HANGING HEART T-LIGHT HOLDER, KNITTED U...</td>\n",
       "      <td>(RED WOOLLY HOTTIE WHITE HEART., WHITE METAL L...</td>\n",
       "      <td>0.062963</td>\n",
       "      <td>0.062963</td>\n",
       "      <td>0.062963</td>\n",
       "      <td>1.0</td>\n",
       "      <td>15.882353</td>\n",
       "      <td>1.0</td>\n",
       "      <td>0.058999</td>\n",
       "      <td>inf</td>\n",
       "      <td>1.0</td>\n",
       "      <td>1.0</td>\n",
       "      <td>1.0</td>\n",
       "      <td>1.0</td>\n",
       "    </tr>\n",
       "  </tbody>\n",
       "</table>\n",
       "</div>"
      ],
      "text/plain": [
       "                                           antecedents  \\\n",
       "122  (KNITTED UNION FLAG HOT WATER BOTTLE, WHITE ME...   \n",
       "123  (KNITTED UNION FLAG HOT WATER BOTTLE, GLASS ST...   \n",
       "124  (RED WOOLLY HOTTIE WHITE HEART., WHITE METAL L...   \n",
       "125  (RED WOOLLY HOTTIE WHITE HEART., GLASS STAR FR...   \n",
       "135  (WHITE HANGING HEART T-LIGHT HOLDER, KNITTED U...   \n",
       "\n",
       "                                           consequents  antecedent support  \\\n",
       "122  (RED WOOLLY HOTTIE WHITE HEART., GLASS STAR FR...            0.062963   \n",
       "123  (RED WOOLLY HOTTIE WHITE HEART., WHITE METAL L...            0.062963   \n",
       "124  (KNITTED UNION FLAG HOT WATER BOTTLE, GLASS ST...            0.062963   \n",
       "125  (KNITTED UNION FLAG HOT WATER BOTTLE, WHITE ME...            0.062963   \n",
       "135  (RED WOOLLY HOTTIE WHITE HEART., WHITE METAL L...            0.062963   \n",
       "\n",
       "     consequent support   support  confidence       lift  representativity  \\\n",
       "122            0.062963  0.062963         1.0  15.882353               1.0   \n",
       "123            0.062963  0.062963         1.0  15.882353               1.0   \n",
       "124            0.062963  0.062963         1.0  15.882353               1.0   \n",
       "125            0.062963  0.062963         1.0  15.882353               1.0   \n",
       "135            0.062963  0.062963         1.0  15.882353               1.0   \n",
       "\n",
       "     leverage  conviction  zhangs_metric  jaccard  certainty  kulczynski  \n",
       "122  0.058999         inf            1.0      1.0        1.0         1.0  \n",
       "123  0.058999         inf            1.0      1.0        1.0         1.0  \n",
       "124  0.058999         inf            1.0      1.0        1.0         1.0  \n",
       "125  0.058999         inf            1.0      1.0        1.0         1.0  \n",
       "135  0.058999         inf            1.0      1.0        1.0         1.0  "
      ]
     },
     "execution_count": 32,
     "metadata": {},
     "output_type": "execute_result"
    }
   ],
   "source": [
    "ar = ar.sort_values(by=['lift', 'confidence'], ascending=False)\n",
    "ar.head()"
   ]
  },
  {
   "cell_type": "markdown",
   "metadata": {
    "id": "z4m_UN077VLG"
   },
   "source": [
    "(Apriori 알고리즘 vs. FP-Growth 알고리즘)"
   ]
  },
  {
   "cell_type": "markdown",
   "metadata": {
    "id": "SBZO9dGe7fHl"
   },
   "source": [
    "1. Apriori 알고리즘"
   ]
  },
  {
   "cell_type": "code",
   "execution_count": 34,
   "metadata": {
    "colab": {
     "base_uri": "https://localhost:8080/"
    },
    "id": "Nl9xbqvi7Lo1",
    "outputId": "723f681b-ad8d-4403-885c-4cdae4d0309a"
   },
   "outputs": [
    {
     "name": "stdout",
     "output_type": "stream",
     "text": [
      "소요 시간: 3.0208640098571777\n"
     ]
    }
   ],
   "source": [
    "import time\n",
    "start = time.time()  # 시작 시간 저장\n",
    "apriori(te_df, min_support=0.01, use_colnames=True)\n",
    "print(\"소요 시간:\", time.time() - start)"
   ]
  },
  {
   "cell_type": "markdown",
   "metadata": {
    "id": "ULffyMgJ8V_7"
   },
   "source": [
    "2. FP-Growth 알고리즘"
   ]
  },
  {
   "cell_type": "code",
   "execution_count": 33,
   "metadata": {
    "colab": {
     "base_uri": "https://localhost:8080/"
    },
    "id": "-YFbwfRS8PDt",
    "outputId": "3529b32d-9f88-4259-bdb5-c155b63098b6"
   },
   "outputs": [
    {
     "name": "stdout",
     "output_type": "stream",
     "text": [
      "소요 시간: 132.29857301712036\n"
     ]
    }
   ],
   "source": [
    "import time\n",
    "start = time.time()  # 시작 시간 저장\n",
    "fpgrowth(te_df, min_support=0.01, use_colnames=True)\n",
    "print(\"소요 시간:\", time.time() - start)"
   ]
  },
  {
   "cell_type": "markdown",
   "metadata": {
    "id": "2k6UoWoH8giY"
   },
   "source": [
    "# 순차 패턴 알고리즘\n",
    "- 연관 규칙 마이닝(Association Rule Mining)\n",
    "  - 아이템의 **상호 관련성**을 바탕으로 규칙을 찾는 장바구니 분석 방법론\n",
    "- 순차 패턴 마이닝(Sequential Pattern Mining)\n",
    "  - 데이터 안에서 아이템 간의 순차 관계를 탐색해 유의미한 패턴을 찾아내는 분석 방법론\n",
    "- 예시\n",
    "  - 연관 규칙 마이닝\n",
    "    - 어떤 물건들이 함께 구매되는가\n",
    "    - IF(조건)\n",
    "      - 만약 고객이 우유와 달걀을 함께 구매하면\n",
    "    - THEN(결과)\n",
    "      - 빵도 함께 구매할 가능성이 높음\n",
    "  - 순차 패턴 마이닝\n",
    "    - 이 물건 다음에 어떤 물건을 사는가에 대한 분석\n",
    "    - IF\n",
    "      - 만약 고객이 금요일에 빵을 구매하면\n",
    "    - THEN\n",
    "      - 주말에 우유를 구매할 가능성이 높음\n",
    "    - 순차 패턴에서는 IF와 THEN 사이에 시차가 존재\n",
    "  "
   ]
  },
  {
   "cell_type": "markdown",
   "metadata": {},
   "source": [
    "**순차 패턴 마이닝의 활용 예시**\n",
    "- 웹/앱 화면 기획\n",
    "  - 사용자가 화면을 주로 어떤 순서로 방문하는지 파악해 사용자 경험 개선\n",
    "- 매장 내 동선 최적화\n",
    "  - 고객이 매장 내에서 어떤 경로로 이동하는지 파악해 매장 구조 최적화\n",
    "- CRM 마케팅\n",
    "  - 고객이 이후에 소비할 제품/서비스 예측해 개인화된 마케팅 메세지 발송\n",
    "- 이상 거래 탐지\n",
    "  - 금융 거래의 발생 순서를 파악해 이상 거래를 감지\n",
    "- 자연재해 예측\n",
    "  - 전조 증상의 발생 순서를 바탕으로 자연재해를 예측"
   ]
  },
  {
   "cell_type": "markdown",
   "metadata": {},
   "source": [
    "## 시퀀스 데이터(Sequence Data)"
   ]
  },
  {
   "cell_type": "markdown",
   "metadata": {},
   "source": [
    "- 순차 패턴 마이닝은 시간의 흐름에 따른 패턴을 발견하는 분석 방법\n",
    "  - &rarr; 순서를 가지는 데이터인 시퀀스 데이터 활용"
   ]
  },
  {
   "cell_type": "markdown",
   "metadata": {},
   "source": [
    "1. 연관 규칙 마이닝\n",
    "   - 결제 ID, 구매 상품 정보\n",
    "2. 순차 패턴 마이닝\n",
    "   - 결제 ID, 구매 상품 정보, 거래 시점 \n",
    "   - <>\n",
    "     - 상품 간 순서가 존재\n",
    "   - ()\n",
    "     - 상품 간 순서가 없음"
   ]
  },
  {
   "cell_type": "markdown",
   "metadata": {},
   "source": [
    "## PrefixSpan 알고리즘(PREFIX-projected Sequential PAttern miNing)"
   ]
  },
  {
   "cell_type": "markdown",
   "metadata": {},
   "source": [
    "- 특정 아이템을 prefix(접두사)로 두고 해당 아이템으로부터 시작되는 패턴 탐색 방식"
   ]
  },
  {
   "cell_type": "code",
   "execution_count": 35,
   "metadata": {},
   "outputs": [],
   "source": [
    "from prefixspan import PrefixSpan"
   ]
  },
  {
   "cell_type": "code",
   "execution_count": 36,
   "metadata": {},
   "outputs": [],
   "source": [
    "# 데이터 준비\n",
    "sequences = [\n",
    "    ['a', 'b', 'c', 'd'],\n",
    "    ['a', 'c', 'd', 'e'],\n",
    "    ['a', 'b', 'c', 'e'],\n",
    "    ['b', 'c', 'd', 'e']\n",
    "]"
   ]
  },
  {
   "cell_type": "code",
   "execution_count": 37,
   "metadata": {},
   "outputs": [],
   "source": [
    "# PrefixSpan 설정\n",
    "ps = PrefixSpan(sequences)"
   ]
  },
  {
   "cell_type": "code",
   "execution_count": 38,
   "metadata": {},
   "outputs": [],
   "source": [
    "# 최소 지지도(minsup) 를 인자로 전달하여 빈발 순차 패턴 추출\n",
    "result = ps.frequent(minsup=2)"
   ]
  },
  {
   "cell_type": "code",
   "execution_count": 39,
   "metadata": {},
   "outputs": [
    {
     "name": "stdout",
     "output_type": "stream",
     "text": [
      "(3, ['a'])\n",
      "(2, ['a', 'b'])\n",
      "(2, ['a', 'b', 'c'])\n",
      "(3, ['a', 'c'])\n",
      "(2, ['a', 'c', 'd'])\n",
      "(2, ['a', 'c', 'e'])\n",
      "(2, ['a', 'd'])\n",
      "(2, ['a', 'e'])\n",
      "(3, ['b'])\n",
      "(3, ['b', 'c'])\n",
      "(2, ['b', 'c', 'd'])\n",
      "(2, ['b', 'c', 'e'])\n",
      "(2, ['b', 'd'])\n",
      "(2, ['b', 'e'])\n",
      "(4, ['c'])\n",
      "(3, ['c', 'd'])\n",
      "(2, ['c', 'd', 'e'])\n",
      "(3, ['c', 'e'])\n",
      "(3, ['d'])\n",
      "(2, ['d', 'e'])\n",
      "(3, ['e'])\n"
     ]
    }
   ],
   "source": [
    "for pattern in result:\n",
    "  print(pattern)"
   ]
  },
  {
   "cell_type": "markdown",
   "metadata": {},
   "source": [
    "## Prefix 알고리즘 프로세스\n",
    "1. 가능한 모든 1개 상품 시퀀스를 나열한 후 각각의 발생 빈도 계산\n",
    "  - 특정 항목의 발생 빈도는 지지도 카운트(Support Count)\n",
    "  - 연관 규칙 마이닝처럼 최소 지지도 이하의 상품을 탈락\n",
    "    - PrefixSpan 알고리즘에서는 지지도 카운트를 기준으로 삼음\n",
    "    - 최소 지지도 카운트 2로 설정\n",
    "2. 1단계를 통과한 각 상품을 Prefix로 두고 Prefix 별로 탐색 영역을 분리\n",
    "3. 각 Prefix 별로 Projected DB를 정리하고 그 안에서 탐색하다보면 \n",
    "4. 각 Prefix별로 계속해서 Projected DB를 점점 축소해나가"
   ]
  },
  {
   "cell_type": "code",
   "execution_count": 40,
   "metadata": {},
   "outputs": [
    {
     "data": {
      "text/html": [
       "<div>\n",
       "<style scoped>\n",
       "    .dataframe tbody tr th:only-of-type {\n",
       "        vertical-align: middle;\n",
       "    }\n",
       "\n",
       "    .dataframe tbody tr th {\n",
       "        vertical-align: top;\n",
       "    }\n",
       "\n",
       "    .dataframe thead th {\n",
       "        text-align: right;\n",
       "    }\n",
       "</style>\n",
       "<table border=\"1\" class=\"dataframe\">\n",
       "  <thead>\n",
       "    <tr style=\"text-align: right;\">\n",
       "      <th></th>\n",
       "      <th>OrderID</th>\n",
       "      <th>StockCode</th>\n",
       "      <th>ProdName</th>\n",
       "      <th>Quantity</th>\n",
       "      <th>OrderDate</th>\n",
       "      <th>UnitPrice</th>\n",
       "      <th>CustomerID</th>\n",
       "    </tr>\n",
       "  </thead>\n",
       "  <tbody>\n",
       "    <tr>\n",
       "      <th>0</th>\n",
       "      <td>536365</td>\n",
       "      <td>85123A</td>\n",
       "      <td>WHITE HANGING HEART T-LIGHT HOLDER</td>\n",
       "      <td>6</td>\n",
       "      <td>2010-12-01</td>\n",
       "      <td>2.55</td>\n",
       "      <td>17850.0</td>\n",
       "    </tr>\n",
       "    <tr>\n",
       "      <th>1</th>\n",
       "      <td>536365</td>\n",
       "      <td>71053</td>\n",
       "      <td>WHITE METAL LANTERN</td>\n",
       "      <td>6</td>\n",
       "      <td>2010-12-01</td>\n",
       "      <td>3.39</td>\n",
       "      <td>17850.0</td>\n",
       "    </tr>\n",
       "    <tr>\n",
       "      <th>2</th>\n",
       "      <td>536365</td>\n",
       "      <td>84406B</td>\n",
       "      <td>CREAM CUPID HEARTS COAT HANGER</td>\n",
       "      <td>8</td>\n",
       "      <td>2010-12-01</td>\n",
       "      <td>2.75</td>\n",
       "      <td>17850.0</td>\n",
       "    </tr>\n",
       "    <tr>\n",
       "      <th>3</th>\n",
       "      <td>536365</td>\n",
       "      <td>84029G</td>\n",
       "      <td>KNITTED UNION FLAG HOT WATER BOTTLE</td>\n",
       "      <td>6</td>\n",
       "      <td>2010-12-01</td>\n",
       "      <td>3.39</td>\n",
       "      <td>17850.0</td>\n",
       "    </tr>\n",
       "    <tr>\n",
       "      <th>4</th>\n",
       "      <td>536365</td>\n",
       "      <td>84029E</td>\n",
       "      <td>RED WOOLLY HOTTIE WHITE HEART.</td>\n",
       "      <td>6</td>\n",
       "      <td>2010-12-01</td>\n",
       "      <td>3.39</td>\n",
       "      <td>17850.0</td>\n",
       "    </tr>\n",
       "  </tbody>\n",
       "</table>\n",
       "</div>"
      ],
      "text/plain": [
       "   OrderID StockCode                             ProdName  Quantity  \\\n",
       "0   536365    85123A   WHITE HANGING HEART T-LIGHT HOLDER         6   \n",
       "1   536365     71053                  WHITE METAL LANTERN         6   \n",
       "2   536365    84406B       CREAM CUPID HEARTS COAT HANGER         8   \n",
       "3   536365    84029G  KNITTED UNION FLAG HOT WATER BOTTLE         6   \n",
       "4   536365    84029E       RED WOOLLY HOTTIE WHITE HEART.         6   \n",
       "\n",
       "    OrderDate  UnitPrice  CustomerID  \n",
       "0  2010-12-01       2.55     17850.0  \n",
       "1  2010-12-01       3.39     17850.0  \n",
       "2  2010-12-01       2.75     17850.0  \n",
       "3  2010-12-01       3.39     17850.0  \n",
       "4  2010-12-01       3.39     17850.0  "
      ]
     },
     "execution_count": 40,
     "metadata": {},
     "output_type": "execute_result"
    }
   ],
   "source": [
    "# 데이터 불러오기\n",
    "df = pd.read_csv('retail_data.csv')\n",
    "df.head()"
   ]
  },
  {
   "cell_type": "code",
   "execution_count": 41,
   "metadata": {},
   "outputs": [],
   "source": [
    "df = df.sort_values('ProdName')"
   ]
  },
  {
   "cell_type": "code",
   "execution_count": 42,
   "metadata": {},
   "outputs": [],
   "source": [
    "df2 = df.groupby(['CustomerID', 'OrderDate', 'OrderID'])['ProdName'].apply(tuple).reset_index()"
   ]
  },
  {
   "cell_type": "code",
   "execution_count": 43,
   "metadata": {},
   "outputs": [],
   "source": [
    "df2 = df2.sort_values('OrderDate')"
   ]
  },
  {
   "cell_type": "code",
   "execution_count": 44,
   "metadata": {},
   "outputs": [
    {
     "data": {
      "text/html": [
       "<div>\n",
       "<style scoped>\n",
       "    .dataframe tbody tr th:only-of-type {\n",
       "        vertical-align: middle;\n",
       "    }\n",
       "\n",
       "    .dataframe tbody tr th {\n",
       "        vertical-align: top;\n",
       "    }\n",
       "\n",
       "    .dataframe thead th {\n",
       "        text-align: right;\n",
       "    }\n",
       "</style>\n",
       "<table border=\"1\" class=\"dataframe\">\n",
       "  <thead>\n",
       "    <tr style=\"text-align: right;\">\n",
       "      <th></th>\n",
       "      <th>CustomerID</th>\n",
       "      <th>ProdName</th>\n",
       "    </tr>\n",
       "  </thead>\n",
       "  <tbody>\n",
       "    <tr>\n",
       "      <th>0</th>\n",
       "      <td>12427.0</td>\n",
       "      <td>[(6 RIBBONS RUSTIC CHARM, BALLOONS  WRITING SE...</td>\n",
       "    </tr>\n",
       "    <tr>\n",
       "      <th>1</th>\n",
       "      <td>12431.0</td>\n",
       "      <td>[(ALARM CLOCK BAKELIKE GREEN, ALARM CLOCK BAKE...</td>\n",
       "    </tr>\n",
       "    <tr>\n",
       "      <th>2</th>\n",
       "      <td>12433.0</td>\n",
       "      <td>[(20 DOLLY PEGS RETROSPOT, 200 RED + WHITE BEN...</td>\n",
       "    </tr>\n",
       "    <tr>\n",
       "      <th>3</th>\n",
       "      <td>12583.0</td>\n",
       "      <td>[( SET 2 TEA TOWELS I LOVE LONDON , ALARM CLOC...</td>\n",
       "    </tr>\n",
       "    <tr>\n",
       "      <th>4</th>\n",
       "      <td>12662.0</td>\n",
       "      <td>[(3 HOOK HANGER MAGIC GARDEN, 5 HOOK HANGER MA...</td>\n",
       "    </tr>\n",
       "  </tbody>\n",
       "</table>\n",
       "</div>"
      ],
      "text/plain": [
       "   CustomerID                                           ProdName\n",
       "0     12427.0  [(6 RIBBONS RUSTIC CHARM, BALLOONS  WRITING SE...\n",
       "1     12431.0  [(ALARM CLOCK BAKELIKE GREEN, ALARM CLOCK BAKE...\n",
       "2     12433.0  [(20 DOLLY PEGS RETROSPOT, 200 RED + WHITE BEN...\n",
       "3     12583.0  [( SET 2 TEA TOWELS I LOVE LONDON , ALARM CLOC...\n",
       "4     12662.0  [(3 HOOK HANGER MAGIC GARDEN, 5 HOOK HANGER MA..."
      ]
     },
     "execution_count": 44,
     "metadata": {},
     "output_type": "execute_result"
    }
   ],
   "source": [
    "sequence_df = df2.groupby(['CustomerID'])['ProdName'].apply(list).reset_index()\n",
    "sequence_df.head()"
   ]
  },
  {
   "cell_type": "code",
   "execution_count": 45,
   "metadata": {},
   "outputs": [],
   "source": [
    "# 라이브러리 불러오기\n",
    "from prefixspan import PrefixSpan"
   ]
  },
  {
   "cell_type": "code",
   "execution_count": 46,
   "metadata": {},
   "outputs": [],
   "source": [
    "ps = PrefixSpan(sequence_df['ProdName'])"
   ]
  },
  {
   "cell_type": "code",
   "execution_count": 47,
   "metadata": {},
   "outputs": [
    {
     "data": {
      "text/plain": [
       "[(2, [('BATH BUILDING BLOCK WORD',)]),\n",
       " (2, [(\"PAPER CHAIN KIT 50'S CHRISTMAS \",)]),\n",
       " (2, [('JAM MAKING SET PRINTED', 'JAM MAKING SET WITH JARS')])]"
      ]
     },
     "execution_count": 47,
     "metadata": {},
     "output_type": "execute_result"
    }
   ],
   "source": [
    "ps.frequent(2)  # 지지도 카운트가 2 이상인 패턴 "
   ]
  },
  {
   "cell_type": "code",
   "execution_count": 48,
   "metadata": {},
   "outputs": [
    {
     "data": {
      "text/plain": [
       "[(2, [('BATH BUILDING BLOCK WORD',)]),\n",
       " (2, [('JAM MAKING SET PRINTED', 'JAM MAKING SET WITH JARS')]),\n",
       " (2, [(\"PAPER CHAIN KIT 50'S CHRISTMAS \",)])]"
      ]
     },
     "execution_count": 48,
     "metadata": {},
     "output_type": "execute_result"
    }
   ],
   "source": [
    "ps.topk(3)  # 가장 지지도가 높은 상위 3개의 패턴 확인"
   ]
  },
  {
   "cell_type": "markdown",
   "metadata": {},
   "source": [
    "## PrefixSpan 알고리즘 직접 구현"
   ]
  },
  {
   "cell_type": "code",
   "execution_count": 49,
   "metadata": {},
   "outputs": [],
   "source": [
    "class PrefixSpan:\n",
    "    def __init__(self, min_support):\n",
    "        self.min_support = min_support\n",
    "\n",
    "    def run(self, sequences):\n",
    "        frequent_patterns = []\n",
    "        self.prefix_span([], sequences, frequent_patterns)\n",
    "        return self.to_dataframe(frequent_patterns)\n",
    "\n",
    "    def prefix_span(self, prefix, projected_db, frequent_patterns):\n",
    "        frequent_items = self.get_frequent_items(projected_db)\n",
    "        for item, support in frequent_items.items():\n",
    "            new_prefix = prefix + [item]\n",
    "            frequent_patterns.append((new_prefix, support))\n",
    "            new_projected_db = self.build_projected_db(projected_db, item)\n",
    "            if new_projected_db:\n",
    "                self.prefix_span(new_prefix, new_projected_db, frequent_patterns)\n",
    "\n",
    "    def get_frequent_items(self, projected_db):\n",
    "        item_counts = {}\n",
    "        for sequence in projected_db:\n",
    "            visited = set()\n",
    "            for itemset in sequence:\n",
    "                for item in itemset:\n",
    "                    if item not in visited:\n",
    "                        if item not in item_counts:\n",
    "                            item_counts[item] = 0\n",
    "                        item_counts[item] += 1\n",
    "                        visited.add(item)\n",
    "        return {item: count for item, count in item_counts.items() if count >= self.min_support}\n",
    "\n",
    "    def build_projected_db(self, projected_db, item):\n",
    "        new_projected_db = []\n",
    "        for sequence in projected_db:\n",
    "            for idx, itemset in enumerate(sequence):\n",
    "                if item in itemset:\n",
    "                    new_projected_db.append(sequence[idx+1:])\n",
    "                    break\n",
    "        return new_projected_db\n",
    "\n",
    "    def to_dataframe(self, frequent_patterns):\n",
    "        pattern_data = [{'item': pattern[0], 'support_count': pattern[1], 'item_count': len(pattern[0])} for pattern in frequent_patterns]\n",
    "        df_patterns = pd.DataFrame(pattern_data)\n",
    "        return df_patterns"
   ]
  },
  {
   "cell_type": "code",
   "execution_count": 50,
   "metadata": {},
   "outputs": [],
   "source": [
    "ps = PrefixSpan(min_support=2)  # 최소 지지도 카운트 설정"
   ]
  },
  {
   "cell_type": "code",
   "execution_count": 51,
   "metadata": {},
   "outputs": [
    {
     "data": {
      "text/html": [
       "<div>\n",
       "<style scoped>\n",
       "    .dataframe tbody tr th:only-of-type {\n",
       "        vertical-align: middle;\n",
       "    }\n",
       "\n",
       "    .dataframe tbody tr th {\n",
       "        vertical-align: top;\n",
       "    }\n",
       "\n",
       "    .dataframe thead th {\n",
       "        text-align: right;\n",
       "    }\n",
       "</style>\n",
       "<table border=\"1\" class=\"dataframe\">\n",
       "  <thead>\n",
       "    <tr style=\"text-align: right;\">\n",
       "      <th></th>\n",
       "      <th>item</th>\n",
       "      <th>support_count</th>\n",
       "      <th>item_count</th>\n",
       "    </tr>\n",
       "  </thead>\n",
       "  <tbody>\n",
       "    <tr>\n",
       "      <th>0</th>\n",
       "      <td>[6 RIBBONS RUSTIC CHARM]</td>\n",
       "      <td>9</td>\n",
       "      <td>1</td>\n",
       "    </tr>\n",
       "    <tr>\n",
       "      <th>1</th>\n",
       "      <td>[BALLOONS  WRITING SET ]</td>\n",
       "      <td>6</td>\n",
       "      <td>1</td>\n",
       "    </tr>\n",
       "    <tr>\n",
       "      <th>2</th>\n",
       "      <td>[CHILDS BREAKFAST SET CIRCUS PARADE]</td>\n",
       "      <td>4</td>\n",
       "      <td>1</td>\n",
       "    </tr>\n",
       "    <tr>\n",
       "      <th>3</th>\n",
       "      <td>[CHILDS BREAKFAST SET SPACEBOY ]</td>\n",
       "      <td>9</td>\n",
       "      <td>1</td>\n",
       "    </tr>\n",
       "    <tr>\n",
       "      <th>4</th>\n",
       "      <td>[COFFEE MUG CAT + BIRD DESIGN]</td>\n",
       "      <td>2</td>\n",
       "      <td>1</td>\n",
       "    </tr>\n",
       "  </tbody>\n",
       "</table>\n",
       "</div>"
      ],
      "text/plain": [
       "                                   item  support_count  item_count\n",
       "0              [6 RIBBONS RUSTIC CHARM]              9           1\n",
       "1              [BALLOONS  WRITING SET ]              6           1\n",
       "2  [CHILDS BREAKFAST SET CIRCUS PARADE]              4           1\n",
       "3      [CHILDS BREAKFAST SET SPACEBOY ]              9           1\n",
       "4        [COFFEE MUG CAT + BIRD DESIGN]              2           1"
      ]
     },
     "execution_count": 51,
     "metadata": {},
     "output_type": "execute_result"
    }
   ],
   "source": [
    "patterns = ps.run(sequence_df['ProdName'])\n",
    "patterns.head()"
   ]
  },
  {
   "cell_type": "markdown",
   "metadata": {},
   "source": [
    "- support_count : 해당 아이템이 전체 트랜잭션에서 몇 번 등장했는지\n",
    "- item_count : 몇 건의 트랜잭션에서 등장했는지\n",
    "\n",
    "**트랜잭션과 아이템**\n",
    "\n",
    "- 트랜잭션 (Transaction) : 구매 기록이나 장바구니와 같은 단위. 한 번의 구매나 이벤트\n",
    "\n",
    "- 아이템 (Item) : 트랜잭션 내에 포함된 상품이나 항목.\n"
   ]
  },
  {
   "cell_type": "markdown",
   "metadata": {},
   "source": [
    "e.g. 트랜잭션 - 셔츠, 신발, 모자"
   ]
  },
  {
   "cell_type": "code",
   "execution_count": 52,
   "metadata": {},
   "outputs": [
    {
     "data": {
      "text/plain": [
       "array([1, 2, 3])"
      ]
     },
     "execution_count": 52,
     "metadata": {},
     "output_type": "execute_result"
    }
   ],
   "source": [
    "patterns['item_count'].unique()"
   ]
  },
  {
   "cell_type": "code",
   "execution_count": 53,
   "metadata": {},
   "outputs": [
    {
     "data": {
      "text/html": [
       "<div>\n",
       "<style scoped>\n",
       "    .dataframe tbody tr th:only-of-type {\n",
       "        vertical-align: middle;\n",
       "    }\n",
       "\n",
       "    .dataframe tbody tr th {\n",
       "        vertical-align: top;\n",
       "    }\n",
       "\n",
       "    .dataframe thead th {\n",
       "        text-align: right;\n",
       "    }\n",
       "</style>\n",
       "<table border=\"1\" class=\"dataframe\">\n",
       "  <thead>\n",
       "    <tr style=\"text-align: right;\">\n",
       "      <th></th>\n",
       "      <th>item</th>\n",
       "      <th>support_count</th>\n",
       "      <th>item_count</th>\n",
       "    </tr>\n",
       "  </thead>\n",
       "  <tbody>\n",
       "    <tr>\n",
       "      <th>68</th>\n",
       "      <td>[PACK OF 72 RETROSPOT CAKE CASES, CLOTHES PEGS...</td>\n",
       "      <td>2</td>\n",
       "      <td>2</td>\n",
       "    </tr>\n",
       "    <tr>\n",
       "      <th>112</th>\n",
       "      <td>[ROTATING SILVER ANGELS T-LIGHT HLDR, CLOTHES ...</td>\n",
       "      <td>2</td>\n",
       "      <td>2</td>\n",
       "    </tr>\n",
       "    <tr>\n",
       "      <th>167</th>\n",
       "      <td>[WHITE HANGING HEART T-LIGHT HOLDER, WHITE HAN...</td>\n",
       "      <td>2</td>\n",
       "      <td>2</td>\n",
       "    </tr>\n",
       "    <tr>\n",
       "      <th>168</th>\n",
       "      <td>[WHITE HANGING HEART T-LIGHT HOLDER, WHITE HAN...</td>\n",
       "      <td>2</td>\n",
       "      <td>3</td>\n",
       "    </tr>\n",
       "    <tr>\n",
       "      <th>169</th>\n",
       "      <td>[WHITE HANGING HEART T-LIGHT HOLDER, RED WOOLL...</td>\n",
       "      <td>2</td>\n",
       "      <td>2</td>\n",
       "    </tr>\n",
       "  </tbody>\n",
       "</table>\n",
       "</div>"
      ],
      "text/plain": [
       "                                                  item  support_count  \\\n",
       "68   [PACK OF 72 RETROSPOT CAKE CASES, CLOTHES PEGS...              2   \n",
       "112  [ROTATING SILVER ANGELS T-LIGHT HLDR, CLOTHES ...              2   \n",
       "167  [WHITE HANGING HEART T-LIGHT HOLDER, WHITE HAN...              2   \n",
       "168  [WHITE HANGING HEART T-LIGHT HOLDER, WHITE HAN...              2   \n",
       "169  [WHITE HANGING HEART T-LIGHT HOLDER, RED WOOLL...              2   \n",
       "\n",
       "     item_count  \n",
       "68            2  \n",
       "112           2  \n",
       "167           2  \n",
       "168           3  \n",
       "169           2  "
      ]
     },
     "execution_count": 53,
     "metadata": {},
     "output_type": "execute_result"
    }
   ],
   "source": [
    "patterns.query('item_count >= 2').sort_values(by='support_count', ascending=False).head()"
   ]
  },
  {
   "cell_type": "markdown",
   "metadata": {},
   "source": [
    "**장바구니 분석 프로세스**\n",
    "1. 데이터 전처리\n",
    "\n",
    "2. 규칙 및 패턴 추출\n",
    "\n",
    "  1) 연관 규칙 마이닝 : 상호 연관성 - 빈발 항목 집합 (Frequent Itemset)\n",
    "\n",
    "- 알고리즘 예) Apriori, FP-Growth\n",
    "\n",
    "  2) 순차 패턴 마이닝 : 시간, 순서 - 빈발 시퀀스 (Frequent Sequence)\n",
    "\n",
    "-  알고리즘 예) PrefixSpan\n",
    "\n",
    "3. 평가 지표 활용\n",
    "\n",
    "  1) 연관 규칙 마이닝 : 지지도, 신뢰도, 향상도\n",
    "\n",
    "  2) 순차 패턴 마이닝 : 지지도 카운트"
   ]
  }
 ],
 "metadata": {
  "colab": {
   "provenance": [],
   "toc_visible": true
  },
  "kernelspec": {
   "display_name": "da",
   "language": "python",
   "name": "python3"
  },
  "language_info": {
   "codemirror_mode": {
    "name": "ipython",
    "version": 3
   },
   "file_extension": ".py",
   "mimetype": "text/x-python",
   "name": "python",
   "nbconvert_exporter": "python",
   "pygments_lexer": "ipython3",
   "version": "3.12.7"
  }
 },
 "nbformat": 4,
 "nbformat_minor": 0
}
