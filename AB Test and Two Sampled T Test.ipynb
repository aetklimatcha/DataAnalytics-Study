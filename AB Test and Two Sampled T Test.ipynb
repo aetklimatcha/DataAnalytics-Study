{
 "cells": [
  {
   "cell_type": "markdown",
   "metadata": {
    "id": "_QqBKlQ5s7_0"
   },
   "source": [
    "DuckDB 환경 구성하기"
   ]
  },
  {
   "cell_type": "code",
   "execution_count": 1,
   "metadata": {
    "colab": {
     "base_uri": "https://localhost:8080/"
    },
    "id": "_qu3rCh1z6rs",
    "outputId": "5f29136f-f9f5-4237-f6cd-206c62e91494"
   },
   "outputs": [],
   "source": [
    "!pip install --quiet duckdb\n",
    "!pip install --quiet jupysql\n",
    "!pip install --quiet duckdb-engine"
   ]
  },
  {
   "cell_type": "code",
   "execution_count": 2,
   "metadata": {
    "colab": {
     "base_uri": "https://localhost:8080/"
    },
    "id": "HHr4Rh2Lz_17",
    "outputId": "6e441049-26a2-4ec6-8ea5-fe59010b8e75"
   },
   "outputs": [],
   "source": [
    "import duckdb\n",
    "import pandas as pd\n",
    "\n",
    "# Import jupysql Jupyter extension to create SQL cells\n",
    "%load_ext sql"
   ]
  },
  {
   "cell_type": "code",
   "execution_count": 3,
   "metadata": {
    "colab": {
     "base_uri": "https://localhost:8080/",
     "height": 34
    },
    "id": "vg0iaP000J10",
    "outputId": "562a71ce-891d-4473-a7f7-2daaf3569f09"
   },
   "outputs": [
    {
     "data": {
      "text/html": [
       "<span style=\"None\">Connecting to &#x27;duckdb:///duckdb.db&#x27;</span>"
      ],
      "text/plain": [
       "Connecting to 'duckdb:///duckdb.db'"
      ]
     },
     "metadata": {},
     "output_type": "display_data"
    }
   ],
   "source": [
    "%sql duckdb:///duckdb.db"
   ]
  },
  {
   "cell_type": "code",
   "execution_count": 4,
   "metadata": {
    "colab": {
     "base_uri": "https://localhost:8080/",
     "height": 58
    },
    "id": "_WGwVM8G0TOC",
    "outputId": "182747d5-d47c-4e5d-bcac-df037523b61d"
   },
   "outputs": [
    {
     "data": {
      "text/html": [
       "<span style=\"None\">Running query in &#x27;duckdb:///duckdb.db&#x27;</span>"
      ],
      "text/plain": [
       "Running query in 'duckdb:///duckdb.db'"
      ]
     },
     "metadata": {},
     "output_type": "display_data"
    },
    {
     "data": {
      "text/html": [
       "<table>\n",
       "    <thead>\n",
       "        <tr>\n",
       "            <th>Count</th>\n",
       "        </tr>\n",
       "    </thead>\n",
       "    <tbody>\n",
       "    </tbody>\n",
       "</table>"
      ],
      "text/plain": [
       "+-------+\n",
       "| Count |\n",
       "+-------+\n",
       "+-------+"
      ]
     },
     "execution_count": 4,
     "metadata": {},
     "output_type": "execute_result"
    }
   ],
   "source": [
    "%%sql\n",
    "\n",
    "CREATE SCHEMA IF NOT EXISTS raw_data;\n",
    "CREATE SCHEMA IF NOT EXISTS analytics;"
   ]
  },
  {
   "cell_type": "code",
   "execution_count": 5,
   "metadata": {
    "colab": {
     "base_uri": "https://localhost:8080/",
     "height": 58
    },
    "id": "eCoaBtpV20fB",
    "outputId": "0c7b9eed-552b-417b-9aac-a88e5a4e75d5"
   },
   "outputs": [
    {
     "data": {
      "text/html": [
       "<span style=\"None\">Running query in &#x27;duckdb:///duckdb.db&#x27;</span>"
      ],
      "text/plain": [
       "Running query in 'duckdb:///duckdb.db'"
      ]
     },
     "metadata": {},
     "output_type": "display_data"
    },
    {
     "data": {
      "text/html": [
       "<table>\n",
       "    <thead>\n",
       "        <tr>\n",
       "            <th>Count</th>\n",
       "        </tr>\n",
       "    </thead>\n",
       "    <tbody>\n",
       "    </tbody>\n",
       "</table>"
      ],
      "text/plain": [
       "+-------+\n",
       "| Count |\n",
       "+-------+\n",
       "+-------+"
      ]
     },
     "execution_count": 5,
     "metadata": {},
     "output_type": "execute_result"
    }
   ],
   "source": [
    "%%sql\n",
    "\n",
    "CREATE TABLE IF NOT EXISTS raw_data.user_event (\n",
    "    user_id int,\n",
    "    datestamp timestamp,\n",
    "    item_id int,\n",
    "    clicked int,\n",
    "    purchased int,\n",
    "    paidamount int\n",
    ");"
   ]
  },
  {
   "cell_type": "code",
   "execution_count": 6,
   "metadata": {
    "colab": {
     "base_uri": "https://localhost:8080/",
     "height": 58
    },
    "id": "19O3sA1b27c0",
    "outputId": "f8593780-07ab-4c1f-e9fb-12c90432fbe6"
   },
   "outputs": [
    {
     "data": {
      "text/html": [
       "<span style=\"None\">Running query in &#x27;duckdb:///duckdb.db&#x27;</span>"
      ],
      "text/plain": [
       "Running query in 'duckdb:///duckdb.db'"
      ]
     },
     "metadata": {},
     "output_type": "display_data"
    },
    {
     "data": {
      "text/html": [
       "<table>\n",
       "    <thead>\n",
       "        <tr>\n",
       "            <th>Count</th>\n",
       "        </tr>\n",
       "    </thead>\n",
       "    <tbody>\n",
       "    </tbody>\n",
       "</table>"
      ],
      "text/plain": [
       "+-------+\n",
       "| Count |\n",
       "+-------+\n",
       "+-------+"
      ]
     },
     "execution_count": 6,
     "metadata": {},
     "output_type": "execute_result"
    }
   ],
   "source": [
    "%%sql\n",
    "\n",
    "CREATE TABLE IF NOT EXISTS  raw_data.user_variant (\n",
    "    user_id int,\n",
    "    variant_id varchar(32)   -- control vs. test\n",
    ");"
   ]
  },
  {
   "cell_type": "code",
   "execution_count": 7,
   "metadata": {
    "colab": {
     "base_uri": "https://localhost:8080/",
     "height": 58
    },
    "id": "b4D39gYn3DYn",
    "outputId": "387e0858-3973-4b02-a355-4114ca039549"
   },
   "outputs": [
    {
     "data": {
      "text/html": [
       "<span style=\"None\">Running query in &#x27;duckdb:///duckdb.db&#x27;</span>"
      ],
      "text/plain": [
       "Running query in 'duckdb:///duckdb.db'"
      ]
     },
     "metadata": {},
     "output_type": "display_data"
    },
    {
     "data": {
      "text/html": [
       "<table>\n",
       "    <thead>\n",
       "        <tr>\n",
       "            <th>Count</th>\n",
       "        </tr>\n",
       "    </thead>\n",
       "    <tbody>\n",
       "    </tbody>\n",
       "</table>"
      ],
      "text/plain": [
       "+-------+\n",
       "| Count |\n",
       "+-------+\n",
       "+-------+"
      ]
     },
     "execution_count": 7,
     "metadata": {},
     "output_type": "execute_result"
    }
   ],
   "source": [
    "%%sql\n",
    "\n",
    "CREATE TABLE IF NOT EXISTS  raw_data.user_metadata (\n",
    "    user_id int,\n",
    "    age varchar(16),\n",
    "    gender varchar(16)\n",
    ");"
   ]
  },
  {
   "cell_type": "code",
   "execution_count": 8,
   "metadata": {
    "colab": {
     "base_uri": "https://localhost:8080/",
     "height": 58
    },
    "id": "64n37d-zvLq0",
    "outputId": "52f9949f-f31a-4437-aaa7-75c4c9de349a"
   },
   "outputs": [
    {
     "data": {
      "text/html": [
       "<span style=\"None\">Running query in &#x27;duckdb:///duckdb.db&#x27;</span>"
      ],
      "text/plain": [
       "Running query in 'duckdb:///duckdb.db'"
      ]
     },
     "metadata": {},
     "output_type": "display_data"
    },
    {
     "data": {
      "text/html": [
       "<table>\n",
       "    <thead>\n",
       "        <tr>\n",
       "            <th>Count</th>\n",
       "        </tr>\n",
       "    </thead>\n",
       "    <tbody>\n",
       "    </tbody>\n",
       "</table>"
      ],
      "text/plain": [
       "+-------+\n",
       "| Count |\n",
       "+-------+\n",
       "+-------+"
      ]
     },
     "execution_count": 8,
     "metadata": {},
     "output_type": "execute_result"
    }
   ],
   "source": [
    "%%sql\n",
    "\n",
    "CREATE TABLE IF NOT EXISTS raw_data.aa_example (\n",
    "    user_id int,\n",
    "    date date,\n",
    "    job_position_id int,\n",
    "    clicked int,\n",
    "    checkedout int,\n",
    "    applied int\n",
    ");"
   ]
  },
  {
   "cell_type": "code",
   "execution_count": 9,
   "metadata": {
    "colab": {
     "base_uri": "https://localhost:8080/"
    },
    "id": "xxbUFhvY7jfh",
    "outputId": "f9b769dd-c716-4171-ead4-c52cdb648080"
   },
   "outputs": [
    {
     "name": "stdout",
     "output_type": "stream",
     "text": [
      "--2024-12-15 16:19:04--  https://s3-geospatial.s3.us-west-2.amazonaws.com/ab_test/user-metadata.csv\n",
      "s3-geospatial.s3.us-west-2.amazonaws.com (s3-geospatial.s3.us-west-2.amazonaws.com) 해석 중... 52.218.220.217, 52.92.189.82, 52.92.154.154, ...\n",
      "다음으로 연결 중: s3-geospatial.s3.us-west-2.amazonaws.com (s3-geospatial.s3.us-west-2.amazonaws.com)|52.218.220.217|:443... 연결했습니다.\n",
      "HTTP 요청을 보냈습니다. 응답 기다리는 중... 200 OK\n",
      "길이: 1820607 (1.7M) [text/csv]\n",
      "저장 위치: `user-metadata.csv.3'\n",
      "\n",
      "user-metadata.csv.3 100%[===================>]   1.74M   408KB/s    /  4.4s    \n",
      "\n",
      "2024-12-15 16:19:09 (408 KB/s) - `user-metadata.csv.3' 저장함 [1820607/1820607]\n",
      "\n",
      "--2024-12-15 16:19:10--  https://s3-geospatial.s3.us-west-2.amazonaws.com/ab_test/user-event.csv\n",
      "s3-geospatial.s3.us-west-2.amazonaws.com (s3-geospatial.s3.us-west-2.amazonaws.com) 해석 중... 3.5.87.21, 52.92.189.82, 52.92.154.154, ...\n",
      "다음으로 연결 중: s3-geospatial.s3.us-west-2.amazonaws.com (s3-geospatial.s3.us-west-2.amazonaws.com)|3.5.87.21|:443... 연결했습니다.\n",
      "HTTP 요청을 보냈습니다. 응답 기다리는 중... 200 OK\n",
      "길이: 25142284 (24M) [text/csv]\n",
      "저장 위치: `user-event.csv.3'\n",
      "\n",
      "user-event.csv.3    100%[===================>]  23.98M  2.07MB/s    /  18s     \n",
      "\n",
      "2024-12-15 16:19:28 (1.31 MB/s) - `user-event.csv.3' 저장함 [25142284/25142284]\n",
      "\n",
      "--2024-12-15 16:19:29--  https://s3-geospatial.s3.us-west-2.amazonaws.com/ab_test/user-variant.csv\n",
      "s3-geospatial.s3.us-west-2.amazonaws.com (s3-geospatial.s3.us-west-2.amazonaws.com) 해석 중... 52.92.227.2, 3.5.79.119, 3.5.85.167, ...\n",
      "다음으로 연결 중: s3-geospatial.s3.us-west-2.amazonaws.com (s3-geospatial.s3.us-west-2.amazonaws.com)|52.92.227.2|:443... 연결했습니다.\n",
      "HTTP 요청을 보냈습니다. 응답 기다리는 중... 200 OK\n",
      "길이: 1238510 (1.2M) [text/csv]\n",
      "저장 위치: `user-variant.csv.2'\n",
      "\n",
      "user-variant.csv.2  100%[===================>]   1.18M   251KB/s    /  5.0s    \n",
      "\n",
      "2024-12-15 16:19:34 (243 KB/s) - `user-variant.csv.2' 저장함 [1238510/1238510]\n",
      "\n",
      "--2024-12-15 16:19:35--  https://s3-geospatial.s3.us-west-2.amazonaws.com/ab_test/aa-example.csv\n",
      "s3-geospatial.s3.us-west-2.amazonaws.com (s3-geospatial.s3.us-west-2.amazonaws.com) 해석 중... 52.92.128.90, 3.5.79.119, 3.5.85.167, ...\n",
      "다음으로 연결 중: s3-geospatial.s3.us-west-2.amazonaws.com (s3-geospatial.s3.us-west-2.amazonaws.com)|52.92.128.90|:443... 연결했습니다.\n",
      "HTTP 요청을 보냈습니다. 응답 기다리는 중... 200 OK\n",
      "길이: 620269 (606K) [text/csv]\n",
      "저장 위치: `aa-example.csv.2'\n",
      "\n",
      "aa-example.csv.2    100%[===================>] 605.73K   507KB/s    /  1.2s    \n",
      "\n",
      "2024-12-15 16:19:36 (507 KB/s) - `aa-example.csv.2' 저장함 [620269/620269]\n",
      "\n"
     ]
    }
   ],
   "source": [
    "!wget https://s3-geospatial.s3.us-west-2.amazonaws.com/ab_test/user-metadata.csv\n",
    "!wget https://s3-geospatial.s3.us-west-2.amazonaws.com/ab_test/user-event.csv\n",
    "!wget https://s3-geospatial.s3.us-west-2.amazonaws.com/ab_test/user-variant.csv\n",
    "!wget https://s3-geospatial.s3.us-west-2.amazonaws.com/ab_test/aa-example.csv"
   ]
  },
  {
   "cell_type": "code",
   "execution_count": 10,
   "metadata": {
    "id": "QJWBoekBMlYY"
   },
   "outputs": [],
   "source": [
    "%config SqlMagic.autopandas = True\n",
    "%config SqlMagic.feedback = False\n",
    "%config SqlMagic.displaycon = False"
   ]
  },
  {
   "cell_type": "code",
   "execution_count": 13,
   "metadata": {},
   "outputs": [
    {
     "name": "stderr",
     "output_type": "stream",
     "text": [
      "RuntimeError: (duckdb.duckdb.ConversionException) Conversion Error: CSV Error on Line: 579227\n",
      "Original Line: 17521,2019-01\n",
      "Error when converting column \"datestamp\". Could not convert string \"2019-01\" to 'TIMESTAMP'\n",
      "\n",
      "Column datestamp is being converted as type TIMESTAMP\n",
      "This type was either manually set or derived from an existing table. Select a different type to correctly parse this column.\n",
      "\n",
      "  file = user-event.csv\n",
      "  delimiter = , (Auto-Detected)\n",
      "  quote = \" (Auto-Detected)\n",
      "  escape = \" (Auto-Detected)\n",
      "  new_line = \\n (Auto-Detected)\n",
      "  header = true (Auto-Detected)\n",
      "  skip_rows = 0 (Auto-Detected)\n",
      "  comment = \\0 (Auto-Detected)\n",
      "  date_format =  (Auto-Detected)\n",
      "  timestamp_format =  (Auto-Detected)\n",
      "  null_padding = 0\n",
      "  sample_size = 20480\n",
      "  ignore_errors = false\n",
      "  all_varchar = 0\n",
      "\n",
      "\n",
      "[SQL: INSERT INTO raw_data.user_event\n",
      "SELECT * FROM read_csv('user-event.csv', types={'datestamp': 'VARCHAR'});]\n",
      "(Background on this error at: https://sqlalche.me/e/14/9h9h)\n",
      "If you need help solving this issue, send us a message: https://ploomber.io/community\n"
     ]
    }
   ],
   "source": [
    "%%sql\n",
    "\n",
    "INSERT INTO raw_data.user_event \n",
    "SELECT * FROM read_csv('user-event.csv', types={'datestamp': 'VARCHAR'});\n"
   ]
  },
  {
   "cell_type": "code",
   "execution_count": 14,
   "metadata": {
    "colab": {
     "base_uri": "https://localhost:8080/",
     "height": 53
    },
    "id": "kFOMqGBh3G87",
    "outputId": "388e5344-19bb-4c63-c9e5-5ad035b24ef2"
   },
   "outputs": [
    {
     "name": "stderr",
     "output_type": "stream",
     "text": [
      "RuntimeError: (duckdb.duckdb.ConversionException) Conversion Error: CSV Error on Line: 579227\n",
      "Original Line: 17521,2019-01\n",
      "Error when converting column \"datestamp\". Could not convert string \"2019-01\" to 'TIMESTAMP'\n",
      "\n",
      "Column datestamp is being converted as type TIMESTAMP\n",
      "This type was auto-detected from the CSV file.\n",
      "Possible solutions:\n",
      "* Override the type for this column manually by setting the type explicitly, e.g. types={'datestamp': 'VARCHAR'}\n",
      "* Set the sample size to a larger value to enable the auto-detection to scan more values, e.g. sample_size=-1\n",
      "* Use a COPY statement to automatically derive types from an existing table.\n",
      "\n",
      "  file = user-event.csv\n",
      "  delimiter = , (Auto-Detected)\n",
      "  quote = \" (Auto-Detected)\n",
      "  escape = \" (Auto-Detected)\n",
      "  new_line = \\n (Auto-Detected)\n",
      "  header = true (Auto-Detected)\n",
      "  skip_rows = 0 (Auto-Detected)\n",
      "  comment = \\0 (Auto-Detected)\n",
      "  date_format =  (Auto-Detected)\n",
      "  timestamp_format =  (Auto-Detected)\n",
      "  null_padding = 0\n",
      "  sample_size = 20480\n",
      "  ignore_errors = false\n",
      "  all_varchar = 0\n",
      "\n",
      "\n",
      "[SQL: INSERT INTO raw_data.user_event SELECT * FROM 'user-event.csv';]\n",
      "(Background on this error at: https://sqlalche.me/e/14/9h9h)\n",
      "If you need help solving this issue, send us a message: https://ploomber.io/community\n"
     ]
    }
   ],
   "source": [
    "%%sql\n",
    "\n",
    "INSERT INTO raw_data.user_metadata SELECT * FROM 'user-metadata.csv';\n",
    "INSERT INTO raw_data.user_variant SELECT * FROM 'user-variant.csv';\n",
    "INSERT INTO raw_data.user_event SELECT * FROM 'user-event.csv';\n",
    "INSERT INTO raw_data.aa_example SELECT * FROM 'aa-example.csv';"
   ]
  },
  {
   "cell_type": "code",
   "execution_count": 15,
   "metadata": {
    "colab": {
     "base_uri": "https://localhost:8080/",
     "height": 363
    },
    "id": "7FT2zM4_zmnL",
    "outputId": "fcda2bba-42e1-4135-9bb2-024f149b4314"
   },
   "outputs": [
    {
     "data": {
      "text/html": [
       "<div>\n",
       "<style scoped>\n",
       "    .dataframe tbody tr th:only-of-type {\n",
       "        vertical-align: middle;\n",
       "    }\n",
       "\n",
       "    .dataframe tbody tr th {\n",
       "        vertical-align: top;\n",
       "    }\n",
       "\n",
       "    .dataframe thead th {\n",
       "        text-align: right;\n",
       "    }\n",
       "</style>\n",
       "<table border=\"1\" class=\"dataframe\">\n",
       "  <thead>\n",
       "    <tr style=\"text-align: right;\">\n",
       "      <th></th>\n",
       "      <th>user_id</th>\n",
       "      <th>datestamp</th>\n",
       "      <th>item_id</th>\n",
       "      <th>clicked</th>\n",
       "      <th>purchased</th>\n",
       "      <th>paidamount</th>\n",
       "    </tr>\n",
       "  </thead>\n",
       "  <tbody>\n",
       "  </tbody>\n",
       "</table>\n",
       "</div>"
      ],
      "text/plain": [
       "Empty DataFrame\n",
       "Columns: [user_id, datestamp, item_id, clicked, purchased, paidamount]\n",
       "Index: []"
      ]
     },
     "execution_count": 15,
     "metadata": {},
     "output_type": "execute_result"
    }
   ],
   "source": [
    "%%sql\n",
    "\n",
    "SELECT *\n",
    "FROM raw_data.user_event\n",
    "LIMIT 10"
   ]
  },
  {
   "cell_type": "code",
   "execution_count": 16,
   "metadata": {
    "colab": {
     "base_uri": "https://localhost:8080/",
     "height": 363
    },
    "id": "OjwV2FOkzrnn",
    "outputId": "1bb9b1b9-1cf6-472c-8aad-bf13a1cf5847"
   },
   "outputs": [
    {
     "data": {
      "text/html": [
       "<div>\n",
       "<style scoped>\n",
       "    .dataframe tbody tr th:only-of-type {\n",
       "        vertical-align: middle;\n",
       "    }\n",
       "\n",
       "    .dataframe tbody tr th {\n",
       "        vertical-align: top;\n",
       "    }\n",
       "\n",
       "    .dataframe thead th {\n",
       "        text-align: right;\n",
       "    }\n",
       "</style>\n",
       "<table border=\"1\" class=\"dataframe\">\n",
       "  <thead>\n",
       "    <tr style=\"text-align: right;\">\n",
       "      <th></th>\n",
       "      <th>user_id</th>\n",
       "      <th>variant_id</th>\n",
       "    </tr>\n",
       "  </thead>\n",
       "  <tbody>\n",
       "    <tr>\n",
       "      <th>0</th>\n",
       "      <td>0</td>\n",
       "      <td>test</td>\n",
       "    </tr>\n",
       "    <tr>\n",
       "      <th>1</th>\n",
       "      <td>1</td>\n",
       "      <td>test</td>\n",
       "    </tr>\n",
       "    <tr>\n",
       "      <th>2</th>\n",
       "      <td>2</td>\n",
       "      <td>control</td>\n",
       "    </tr>\n",
       "    <tr>\n",
       "      <th>3</th>\n",
       "      <td>3</td>\n",
       "      <td>test</td>\n",
       "    </tr>\n",
       "    <tr>\n",
       "      <th>4</th>\n",
       "      <td>4</td>\n",
       "      <td>control</td>\n",
       "    </tr>\n",
       "    <tr>\n",
       "      <th>5</th>\n",
       "      <td>5</td>\n",
       "      <td>test</td>\n",
       "    </tr>\n",
       "    <tr>\n",
       "      <th>6</th>\n",
       "      <td>6</td>\n",
       "      <td>control</td>\n",
       "    </tr>\n",
       "    <tr>\n",
       "      <th>7</th>\n",
       "      <td>7</td>\n",
       "      <td>test</td>\n",
       "    </tr>\n",
       "    <tr>\n",
       "      <th>8</th>\n",
       "      <td>8</td>\n",
       "      <td>control</td>\n",
       "    </tr>\n",
       "    <tr>\n",
       "      <th>9</th>\n",
       "      <td>9</td>\n",
       "      <td>control</td>\n",
       "    </tr>\n",
       "  </tbody>\n",
       "</table>\n",
       "</div>"
      ],
      "text/plain": [
       "   user_id variant_id\n",
       "0        0       test\n",
       "1        1       test\n",
       "2        2    control\n",
       "3        3       test\n",
       "4        4    control\n",
       "5        5       test\n",
       "6        6    control\n",
       "7        7       test\n",
       "8        8    control\n",
       "9        9    control"
      ]
     },
     "execution_count": 16,
     "metadata": {},
     "output_type": "execute_result"
    }
   ],
   "source": [
    "%%sql\n",
    "\n",
    "SELECT *\n",
    "FROM raw_data.user_variant\n",
    "LIMIT 10"
   ]
  },
  {
   "cell_type": "code",
   "execution_count": 17,
   "metadata": {
    "colab": {
     "base_uri": "https://localhost:8080/",
     "height": 363
    },
    "id": "2X5Y4UPczttm",
    "outputId": "39473b63-1ed1-4cec-fec9-af3aef20f04e"
   },
   "outputs": [
    {
     "data": {
      "text/html": [
       "<div>\n",
       "<style scoped>\n",
       "    .dataframe tbody tr th:only-of-type {\n",
       "        vertical-align: middle;\n",
       "    }\n",
       "\n",
       "    .dataframe tbody tr th {\n",
       "        vertical-align: top;\n",
       "    }\n",
       "\n",
       "    .dataframe thead th {\n",
       "        text-align: right;\n",
       "    }\n",
       "</style>\n",
       "<table border=\"1\" class=\"dataframe\">\n",
       "  <thead>\n",
       "    <tr style=\"text-align: right;\">\n",
       "      <th></th>\n",
       "      <th>user_id</th>\n",
       "      <th>age</th>\n",
       "      <th>gender</th>\n",
       "    </tr>\n",
       "  </thead>\n",
       "  <tbody>\n",
       "    <tr>\n",
       "      <th>0</th>\n",
       "      <td>0</td>\n",
       "      <td>50-up</td>\n",
       "      <td>female</td>\n",
       "    </tr>\n",
       "    <tr>\n",
       "      <th>1</th>\n",
       "      <td>1</td>\n",
       "      <td>50-up</td>\n",
       "      <td>female</td>\n",
       "    </tr>\n",
       "    <tr>\n",
       "      <th>2</th>\n",
       "      <td>2</td>\n",
       "      <td>0-19</td>\n",
       "      <td>female</td>\n",
       "    </tr>\n",
       "    <tr>\n",
       "      <th>3</th>\n",
       "      <td>3</td>\n",
       "      <td>50-up</td>\n",
       "      <td>female</td>\n",
       "    </tr>\n",
       "    <tr>\n",
       "      <th>4</th>\n",
       "      <td>4</td>\n",
       "      <td>0-19</td>\n",
       "      <td>male</td>\n",
       "    </tr>\n",
       "    <tr>\n",
       "      <th>5</th>\n",
       "      <td>5</td>\n",
       "      <td>0-19</td>\n",
       "      <td>female</td>\n",
       "    </tr>\n",
       "    <tr>\n",
       "      <th>6</th>\n",
       "      <td>6</td>\n",
       "      <td>0-19</td>\n",
       "      <td>undefined</td>\n",
       "    </tr>\n",
       "    <tr>\n",
       "      <th>7</th>\n",
       "      <td>7</td>\n",
       "      <td>50-up</td>\n",
       "      <td>female</td>\n",
       "    </tr>\n",
       "    <tr>\n",
       "      <th>8</th>\n",
       "      <td>8</td>\n",
       "      <td>50-up</td>\n",
       "      <td>male</td>\n",
       "    </tr>\n",
       "    <tr>\n",
       "      <th>9</th>\n",
       "      <td>9</td>\n",
       "      <td>0-19</td>\n",
       "      <td>male</td>\n",
       "    </tr>\n",
       "  </tbody>\n",
       "</table>\n",
       "</div>"
      ],
      "text/plain": [
       "   user_id    age     gender\n",
       "0        0  50-up     female\n",
       "1        1  50-up     female\n",
       "2        2   0-19     female\n",
       "3        3  50-up     female\n",
       "4        4   0-19       male\n",
       "5        5   0-19     female\n",
       "6        6   0-19  undefined\n",
       "7        7  50-up     female\n",
       "8        8  50-up       male\n",
       "9        9   0-19       male"
      ]
     },
     "execution_count": 17,
     "metadata": {},
     "output_type": "execute_result"
    }
   ],
   "source": [
    "%%sql\n",
    "\n",
    "SELECT *\n",
    "FROM raw_data.user_metadata\n",
    "LIMIT 10"
   ]
  },
  {
   "cell_type": "markdown",
   "metadata": {
    "id": "DFJ8z4SUs105"
   },
   "source": [
    "variant_daily_sessions를 analytics 스키마 밑에 만들기"
   ]
  },
  {
   "cell_type": "code",
   "execution_count": 18,
   "metadata": {
    "colab": {
     "base_uri": "https://localhost:8080/",
     "height": 53
    },
    "id": "DXbbuWDLszkN",
    "outputId": "0057cff5-f2d4-4646-d50d-d083e56d12a5"
   },
   "outputs": [
    {
     "name": "stderr",
     "output_type": "stream",
     "text": [
      "RuntimeError: (duckdb.duckdb.CatalogException) Catalog Error: Table with name \"variant_daily_sessions\" already exists!\n",
      "[SQL: CREATE TABLE analytics.variant_daily_sessions AS\n",
      "SELECT\n",
      "    variant_id,\n",
      "    ue.user_id,\n",
      "    datestamp,\n",
      "    count(distinct item_id) num_of_items,\n",
      "    sum(clicked) num_of_clicks,\n",
      "    sum(purchased) num_of_purchases,\n",
      "    sum(paidamount) revenue\n",
      "FROM raw_data.user_event ue\n",
      "JOIN raw_data.user_variant uv ON ue.user_id = uv.user_id\n",
      "GROUP by 1, 2, 3]\n",
      "(Background on this error at: https://sqlalche.me/e/14/f405)\n",
      "If you need help solving this issue, send us a message: https://ploomber.io/community\n"
     ]
    }
   ],
   "source": [
    "%%sql\n",
    "\n",
    "CREATE TABLE analytics.variant_daily_sessions AS\n",
    "SELECT\n",
    "    variant_id,\n",
    "    ue.user_id,\n",
    "    datestamp,\n",
    "    count(distinct item_id) num_of_items, -- 총 impression\n",
    "    sum(clicked) num_of_clicks,                -- 총 click\n",
    "    sum(purchased) num_of_purchases,  -- 총 purchase\n",
    "    sum(paidamount) revenue                   -- 총 revenue\n",
    "FROM raw_data.user_event ue\n",
    "JOIN raw_data.user_variant uv ON ue.user_id = uv.user_id\n",
    "GROUP by 1, 2, 3"
   ]
  },
  {
   "cell_type": "code",
   "execution_count": 19,
   "metadata": {
    "colab": {
     "base_uri": "https://localhost:8080/",
     "height": 424
    },
    "id": "u75gVIh-tFyG",
    "outputId": "488fd8e6-127f-441c-b5cc-32d5537227a1"
   },
   "outputs": [
    {
     "data": {
      "text/html": [
       "<div>\n",
       "<style scoped>\n",
       "    .dataframe tbody tr th:only-of-type {\n",
       "        vertical-align: middle;\n",
       "    }\n",
       "\n",
       "    .dataframe tbody tr th {\n",
       "        vertical-align: top;\n",
       "    }\n",
       "\n",
       "    .dataframe thead th {\n",
       "        text-align: right;\n",
       "    }\n",
       "</style>\n",
       "<table border=\"1\" class=\"dataframe\">\n",
       "  <thead>\n",
       "    <tr style=\"text-align: right;\">\n",
       "      <th></th>\n",
       "      <th>variant_id</th>\n",
       "      <th>user_id</th>\n",
       "      <th>datestamp</th>\n",
       "      <th>num_of_items</th>\n",
       "      <th>num_of_clicks</th>\n",
       "      <th>num_of_purchases</th>\n",
       "      <th>revenue</th>\n",
       "    </tr>\n",
       "  </thead>\n",
       "  <tbody>\n",
       "  </tbody>\n",
       "</table>\n",
       "</div>"
      ],
      "text/plain": [
       "Empty DataFrame\n",
       "Columns: [variant_id, user_id, datestamp, num_of_items, num_of_clicks, num_of_purchases, revenue]\n",
       "Index: []"
      ]
     },
     "execution_count": 19,
     "metadata": {},
     "output_type": "execute_result"
    }
   ],
   "source": [
    "%%sql\n",
    "\n",
    "SELECT *\n",
    "FROM analytics.variant_daily_sessions\n",
    "LIMIT 100"
   ]
  },
  {
   "cell_type": "code",
   "execution_count": 21,
   "metadata": {},
   "outputs": [
    {
     "ename": "ConnectionException",
     "evalue": "Connection Error: Can't open a connection to same database file with a different configuration than existing connections",
     "output_type": "error",
     "traceback": [
      "\u001b[0;31m---------------------------------------------------------------------------\u001b[0m",
      "\u001b[0;31mConnectionException\u001b[0m                       Traceback (most recent call last)",
      "Cell \u001b[0;32mIn[21], line 1\u001b[0m\n\u001b[0;32m----> 1\u001b[0m con \u001b[38;5;241m=\u001b[39m \u001b[43mduckdb\u001b[49m\u001b[38;5;241;43m.\u001b[39;49m\u001b[43mconnect\u001b[49m\u001b[43m(\u001b[49m\u001b[38;5;124;43m'\u001b[39;49m\u001b[38;5;124;43mduckdb.db\u001b[39;49m\u001b[38;5;124;43m'\u001b[39;49m\u001b[43m)\u001b[49m\n\u001b[1;32m      2\u001b[0m \u001b[38;5;66;03m# 데이터베이스 작업 수행\u001b[39;00m\n\u001b[1;32m      3\u001b[0m con\u001b[38;5;241m.\u001b[39mclose()\n",
      "\u001b[0;31mConnectionException\u001b[0m: Connection Error: Can't open a connection to same database file with a different configuration than existing connections"
     ]
    }
   ],
   "source": [
    "con = duckdb.connect('duckdb.db')\n",
    "# 데이터베이스 작업 수행\n",
    "con.close()\n"
   ]
  },
  {
   "cell_type": "markdown",
   "metadata": {
    "id": "VuX3oHXh8wSa"
   },
   "source": [
    "Two Sample T-Test 실습"
   ]
  },
  {
   "cell_type": "code",
   "execution_count": 20,
   "metadata": {
    "id": "rSuCs07AstBb"
   },
   "outputs": [
    {
     "ename": "ConnectionException",
     "evalue": "Connection Error: Can't open a connection to same database file with a different configuration than existing connections",
     "output_type": "error",
     "traceback": [
      "\u001b[0;31m---------------------------------------------------------------------------\u001b[0m",
      "\u001b[0;31mConnectionException\u001b[0m                       Traceback (most recent call last)",
      "Cell \u001b[0;32mIn[20], line 1\u001b[0m\n\u001b[0;32m----> 1\u001b[0m duckdb_con \u001b[38;5;241m=\u001b[39m \u001b[43mduckdb\u001b[49m\u001b[38;5;241;43m.\u001b[39;49m\u001b[43mconnect\u001b[49m\u001b[43m(\u001b[49m\u001b[38;5;124;43m\"\u001b[39;49m\u001b[38;5;124;43mduckdb.db\u001b[39;49m\u001b[38;5;124;43m\"\u001b[39;49m\u001b[43m)\u001b[49m\n",
      "\u001b[0;31mConnectionException\u001b[0m: Connection Error: Can't open a connection to same database file with a different configuration than existing connections"
     ]
    }
   ],
   "source": [
    "duckdb_con = duckdb.connect(\"duckdb.db\")"
   ]
  },
  {
   "cell_type": "code",
   "execution_count": null,
   "metadata": {
    "id": "TVR-5cbtr7BG"
   },
   "outputs": [],
   "source": [
    "variant_daily_sessions = duckdb_con.execute('SELECT * FROM analytics.variant_daily_sessions').df()"
   ]
  },
  {
   "cell_type": "code",
   "execution_count": null,
   "metadata": {
    "colab": {
     "base_uri": "https://localhost:8080/"
    },
    "id": "E6eqhAUFxGyM",
    "outputId": "0a76b3fa-8496-4d10-a842-7ed255fc02e1"
   },
   "outputs": [
    {
     "data": {
      "text/plain": [
       "variant_id\n",
       "control    82526\n",
       "test       83116\n",
       "dtype: int64"
      ]
     },
     "execution_count": 19,
     "metadata": {},
     "output_type": "execute_result"
    }
   ],
   "source": [
    "variant_daily_sessions.groupby('variant_id').size()"
   ]
  },
  {
   "cell_type": "code",
   "execution_count": null,
   "metadata": {
    "colab": {
     "base_uri": "https://localhost:8080/"
    },
    "id": "NekzdkmJxLSz",
    "outputId": "362a1db7-2c05-4532-c9fb-34afd1dfacd6"
   },
   "outputs": [
    {
     "data": {
      "text/plain": [
       "variant_id\n",
       "control    5.590990\n",
       "test       5.570203\n",
       "Name: revenue, dtype: float64"
      ]
     },
     "execution_count": 20,
     "metadata": {},
     "output_type": "execute_result"
    }
   ],
   "source": [
    "variant_daily_sessions.groupby('variant_id')[\"revenue\"].mean()"
   ]
  },
  {
   "cell_type": "markdown",
   "metadata": {
    "id": "qg2b6SAhxmgn"
   },
   "source": [
    "## t-score 계산\n"
   ]
  },
  {
   "cell_type": "markdown",
   "metadata": {
    "id": "pcs6kAZBvjyu"
   },
   "source": [
    "### scipy.stats.ttest_ind를 이용한 t-score 계산"
   ]
  },
  {
   "cell_type": "code",
   "execution_count": null,
   "metadata": {
    "colab": {
     "base_uri": "https://localhost:8080/"
    },
    "id": "ZDaCmRzYeBMK",
    "outputId": "aae6364a-211a-465d-93a5-b27488926356"
   },
   "outputs": [
    {
     "name": "stdout",
     "output_type": "stream",
     "text": [
      "82526 83116\n"
     ]
    }
   ],
   "source": [
    "from scipy import stats\n",
    "\n",
    "# control 그룹에 속한 매출액 정보를 numpy 배열로 받아오기\n",
    "a = variant_daily_sessions[variant_daily_sessions[\"variant_id\"]==\"control\"][\"revenue\"].to_numpy()\n",
    "# test 그룹에 속한 매출액 정보를 numpy 배열로 받아오기\n",
    "b = variant_daily_sessions[variant_daily_sessions[\"variant_id\"]==\"test\"][\"revenue\"].to_numpy()\n",
    "print(len(a), len(b))"
   ]
  },
  {
   "cell_type": "code",
   "execution_count": null,
   "metadata": {
    "colab": {
     "base_uri": "https://localhost:8080/"
    },
    "id": "wV6tHxnZxgtx",
    "outputId": "36b472dd-e3e4-46b1-9740-2c8b4699f2a1"
   },
   "outputs": [
    {
     "data": {
      "text/plain": [
       "array([17.,  0., 11.,  0.,  0.,  0., 11., 20.,  0.,  0.,  0.,  0.,  0.,\n",
       "        0.,  0.,  0.,  0.,  0., 16.,  0.,  0.,  0., 11.,  0.,  0.,  0.,\n",
       "        0.,  0.,  0.,  0.,  0.,  0.,  0.,  0.,  0., 13.,  0.,  0.,  0.,\n",
       "        0.,  0., 19., 37.,  0.,  0.,  0., 41.,  0.,  0.,  0.,  0.,  0.,\n",
       "        0.,  0.,  0.,  0.,  0.,  0.,  0.,  0.,  0.,  0.,  0.,  0.,  0.,\n",
       "        0.,  0.,  0., 70.,  0.,  0.,  0.,  0.,  0.,  0.,  0.,  0.,  0.,\n",
       "        0.,  0.,  0.,  0.,  0.,  0.,  0.,  0.,  0.,  0.,  0., 37.,  0.,\n",
       "       48.,  0.,  0., 19.,  0.,  0., 35.,  0.,  0.])"
      ]
     },
     "execution_count": 22,
     "metadata": {},
     "output_type": "execute_result"
    }
   ],
   "source": [
    "# control 그룹 매출액 정보 처음 100개 보기\n",
    "a[0:100]"
   ]
  },
  {
   "cell_type": "code",
   "execution_count": null,
   "metadata": {
    "colab": {
     "base_uri": "https://localhost:8080/"
    },
    "id": "44Fv2ubhxkLf",
    "outputId": "a3a8a48c-c927-4724-8c82-da11338c7208"
   },
   "outputs": [
    {
     "data": {
      "text/plain": [
       "array([  0.,   0.,   0.,   0.,   0.,   0.,   0.,  37.,  12.,   0.,   0.,\n",
       "         0.,   0.,  11.,   0.,  16.,   0.,   0.,   0.,   0.,  11.,   0.,\n",
       "         0.,   0.,   0.,  37.,   0.,   0.,  11.,   0.,   0.,   0.,  79.,\n",
       "         0.,   0.,   0.,   0.,   0.,  46.,   0.,  11.,   0.,   0.,   0.,\n",
       "         0.,   0., 123.,   0.,  23.,   0.,   0.,   0.,   0.,   0.,   0.,\n",
       "         0.,   0.,   0.,   0.,   0.,   0.,   0.,   0.,   0.,  20.,   0.,\n",
       "         0.,   0.,  11.,   0.,  60.,   0.,  28.,   0.,  13.,   0.,   0.,\n",
       "         0.,   0.,   0.,  11.,   0.,   0.,   0.,   0.,   0.,   0.,   0.,\n",
       "        11.,  65.,  45.,  20.,   0.,   0.,   0.,   0.,  17.,  11.,   0.,\n",
       "         0.])"
      ]
     },
     "execution_count": 23,
     "metadata": {},
     "output_type": "execute_result"
    }
   ],
   "source": [
    "# test 그룹 매출액 정보 처음 100개 보기\n",
    "b[0:100]"
   ]
  },
  {
   "cell_type": "code",
   "execution_count": null,
   "metadata": {
    "colab": {
     "base_uri": "https://localhost:8080/"
    },
    "id": "qofA1bfdxNe6",
    "outputId": "2f874b3a-06e7-43eb-b2ce-155d9214aa4f"
   },
   "outputs": [
    {
     "name": "stdout",
     "output_type": "stream",
     "text": [
      "-0.30893666944286313 0.7573700906452349\n"
     ]
    }
   ],
   "source": [
    "# ttest_ind 함수를 사용해서 두 그룹의 값들을 비교\n",
    "# 이 함수는 t-score (사실상 z-score)와 p value를 계산해서 리턴해줌\n",
    "t, p = stats.ttest_ind(b, a)\n",
    "print(t, p)"
   ]
  },
  {
   "cell_type": "code",
   "execution_count": null,
   "metadata": {
    "id": "IyQrmdF78wde"
   },
   "outputs": [],
   "source": [
    "# 나중에 사용하기 쉽게 함수로 구현\n",
    "def compute_z_score(df, field_name):\n",
    "  a = df[df[\"variant_id\"]==\"control\"][field_name].to_numpy()\n",
    "  b = df[df[\"variant_id\"]==\"test\"][field_name].to_numpy()\n",
    "  t, p = stats.ttest_ind(b, a)\n",
    "\n",
    "  return t, p"
   ]
  },
  {
   "cell_type": "code",
   "execution_count": null,
   "metadata": {
    "colab": {
     "base_uri": "https://localhost:8080/"
    },
    "id": "Atot7_IxEEBh",
    "outputId": "786a9d1a-2ada-4220-c1b1-3a3a3fe74c2e"
   },
   "outputs": [
    {
     "name": "stdout",
     "output_type": "stream",
     "text": [
      "(-0.30893666944286313, 0.7573700906452349)\n"
     ]
    }
   ],
   "source": [
    "print(compute_z_score(variant_daily_sessions, \"revenue\"))"
   ]
  },
  {
   "cell_type": "markdown",
   "metadata": {
    "id": "BOAmxBCYvuBP"
   },
   "source": [
    "### 직접 t-score 계산해보기\n",
    "\n",
    " - 그룹별로 크기와 평균과 각 원소 제곱의 합을 알면 계산 가능\n",
    "   - mean_b와 mean_a (평균)\n",
    "   - n_b와 n_a (크기)\n",
    "   - square_b와 square_a (제곱의 평균)\n",
    " - 먼저 variance(표준편차의 제곱)은 아래와 같이 계산\n",
    "   - var_b = square_b - mean_b*mean_b\n",
    "   - var_a = square_a - mean_a*mean_a\n",
    " - 최종 t-score는 아래와 같이 계산\n",
    "   - (mean_b - mean_a)/math.sqrt(var_b/n_b + var_a/n_a)"
   ]
  },
  {
   "cell_type": "code",
   "execution_count": null,
   "metadata": {
    "colab": {
     "base_uri": "https://localhost:8080/"
    },
    "id": "ZpBzH1DXVUpY",
    "outputId": "a8bdbcf1-fb72-4e6d-87df-8b685e2f3dcf"
   },
   "outputs": [
    {
     "data": {
      "text/plain": [
       "variant_id\n",
       "control    5.590990\n",
       "test       5.570203\n",
       "Name: revenue, dtype: float64"
      ]
     },
     "execution_count": 27,
     "metadata": {},
     "output_type": "execute_result"
    }
   ],
   "source": [
    "variant_daily_sessions.groupby('variant_id')[\"revenue\"].mean()"
   ]
  },
  {
   "cell_type": "code",
   "execution_count": null,
   "metadata": {
    "id": "2lHd4WfrVVrF"
   },
   "outputs": [],
   "source": [
    "variant_daily_sessions[\"revenue_2x\"] = variant_daily_sessions[\"revenue\"]*variant_daily_sessions[\"revenue\"]"
   ]
  },
  {
   "cell_type": "code",
   "execution_count": null,
   "metadata": {
    "colab": {
     "base_uri": "https://localhost:8080/",
     "height": 226
    },
    "id": "Yw8i-4Y_dc7R",
    "outputId": "1bbe9c72-9b3c-4bbb-db6c-cfcfda431971"
   },
   "outputs": [
    {
     "data": {
      "application/vnd.google.colaboratory.intrinsic+json": {
       "type": "dataframe",
       "variable_name": "variant_daily_sessions"
      },
      "text/html": [
       "\n",
       "  <div id=\"df-68b65720-047a-4d97-bc54-ffc67636b561\" class=\"colab-df-container\">\n",
       "    <div>\n",
       "<style scoped>\n",
       "    .dataframe tbody tr th:only-of-type {\n",
       "        vertical-align: middle;\n",
       "    }\n",
       "\n",
       "    .dataframe tbody tr th {\n",
       "        vertical-align: top;\n",
       "    }\n",
       "\n",
       "    .dataframe thead th {\n",
       "        text-align: right;\n",
       "    }\n",
       "</style>\n",
       "<table border=\"1\" class=\"dataframe\">\n",
       "  <thead>\n",
       "    <tr style=\"text-align: right;\">\n",
       "      <th></th>\n",
       "      <th>variant_id</th>\n",
       "      <th>user_id</th>\n",
       "      <th>datestamp</th>\n",
       "      <th>num_of_items</th>\n",
       "      <th>num_of_clicks</th>\n",
       "      <th>num_of_purchases</th>\n",
       "      <th>revenue</th>\n",
       "      <th>revenue_2x</th>\n",
       "    </tr>\n",
       "  </thead>\n",
       "  <tbody>\n",
       "    <tr>\n",
       "      <th>0</th>\n",
       "      <td>control</td>\n",
       "      <td>40135</td>\n",
       "      <td>2019-01-14</td>\n",
       "      <td>19</td>\n",
       "      <td>4.0</td>\n",
       "      <td>1.0</td>\n",
       "      <td>17.0</td>\n",
       "      <td>289.0</td>\n",
       "    </tr>\n",
       "    <tr>\n",
       "      <th>1</th>\n",
       "      <td>control</td>\n",
       "      <td>40135</td>\n",
       "      <td>2019-01-13</td>\n",
       "      <td>13</td>\n",
       "      <td>3.0</td>\n",
       "      <td>0.0</td>\n",
       "      <td>0.0</td>\n",
       "      <td>0.0</td>\n",
       "    </tr>\n",
       "    <tr>\n",
       "      <th>2</th>\n",
       "      <td>control</td>\n",
       "      <td>40135</td>\n",
       "      <td>2019-01-16</td>\n",
       "      <td>2</td>\n",
       "      <td>1.0</td>\n",
       "      <td>1.0</td>\n",
       "      <td>11.0</td>\n",
       "      <td>121.0</td>\n",
       "    </tr>\n",
       "    <tr>\n",
       "      <th>3</th>\n",
       "      <td>control</td>\n",
       "      <td>40135</td>\n",
       "      <td>2019-01-15</td>\n",
       "      <td>4</td>\n",
       "      <td>0.0</td>\n",
       "      <td>0.0</td>\n",
       "      <td>0.0</td>\n",
       "      <td>0.0</td>\n",
       "    </tr>\n",
       "    <tr>\n",
       "      <th>4</th>\n",
       "      <td>test</td>\n",
       "      <td>89370</td>\n",
       "      <td>2019-01-12</td>\n",
       "      <td>2</td>\n",
       "      <td>1.0</td>\n",
       "      <td>0.0</td>\n",
       "      <td>0.0</td>\n",
       "      <td>0.0</td>\n",
       "    </tr>\n",
       "  </tbody>\n",
       "</table>\n",
       "</div>\n",
       "    <div class=\"colab-df-buttons\">\n",
       "\n",
       "  <div class=\"colab-df-container\">\n",
       "    <button class=\"colab-df-convert\" onclick=\"convertToInteractive('df-68b65720-047a-4d97-bc54-ffc67636b561')\"\n",
       "            title=\"Convert this dataframe to an interactive table.\"\n",
       "            style=\"display:none;\">\n",
       "\n",
       "  <svg xmlns=\"http://www.w3.org/2000/svg\" height=\"24px\" viewBox=\"0 -960 960 960\">\n",
       "    <path d=\"M120-120v-720h720v720H120Zm60-500h600v-160H180v160Zm220 220h160v-160H400v160Zm0 220h160v-160H400v160ZM180-400h160v-160H180v160Zm440 0h160v-160H620v160ZM180-180h160v-160H180v160Zm440 0h160v-160H620v160Z\"/>\n",
       "  </svg>\n",
       "    </button>\n",
       "\n",
       "  <style>\n",
       "    .colab-df-container {\n",
       "      display:flex;\n",
       "      gap: 12px;\n",
       "    }\n",
       "\n",
       "    .colab-df-convert {\n",
       "      background-color: #E8F0FE;\n",
       "      border: none;\n",
       "      border-radius: 50%;\n",
       "      cursor: pointer;\n",
       "      display: none;\n",
       "      fill: #1967D2;\n",
       "      height: 32px;\n",
       "      padding: 0 0 0 0;\n",
       "      width: 32px;\n",
       "    }\n",
       "\n",
       "    .colab-df-convert:hover {\n",
       "      background-color: #E2EBFA;\n",
       "      box-shadow: 0px 1px 2px rgba(60, 64, 67, 0.3), 0px 1px 3px 1px rgba(60, 64, 67, 0.15);\n",
       "      fill: #174EA6;\n",
       "    }\n",
       "\n",
       "    .colab-df-buttons div {\n",
       "      margin-bottom: 4px;\n",
       "    }\n",
       "\n",
       "    [theme=dark] .colab-df-convert {\n",
       "      background-color: #3B4455;\n",
       "      fill: #D2E3FC;\n",
       "    }\n",
       "\n",
       "    [theme=dark] .colab-df-convert:hover {\n",
       "      background-color: #434B5C;\n",
       "      box-shadow: 0px 1px 3px 1px rgba(0, 0, 0, 0.15);\n",
       "      filter: drop-shadow(0px 1px 2px rgba(0, 0, 0, 0.3));\n",
       "      fill: #FFFFFF;\n",
       "    }\n",
       "  </style>\n",
       "\n",
       "    <script>\n",
       "      const buttonEl =\n",
       "        document.querySelector('#df-68b65720-047a-4d97-bc54-ffc67636b561 button.colab-df-convert');\n",
       "      buttonEl.style.display =\n",
       "        google.colab.kernel.accessAllowed ? 'block' : 'none';\n",
       "\n",
       "      async function convertToInteractive(key) {\n",
       "        const element = document.querySelector('#df-68b65720-047a-4d97-bc54-ffc67636b561');\n",
       "        const dataTable =\n",
       "          await google.colab.kernel.invokeFunction('convertToInteractive',\n",
       "                                                    [key], {});\n",
       "        if (!dataTable) return;\n",
       "\n",
       "        const docLinkHtml = 'Like what you see? Visit the ' +\n",
       "          '<a target=\"_blank\" href=https://colab.research.google.com/notebooks/data_table.ipynb>data table notebook</a>'\n",
       "          + ' to learn more about interactive tables.';\n",
       "        element.innerHTML = '';\n",
       "        dataTable['output_type'] = 'display_data';\n",
       "        await google.colab.output.renderOutput(dataTable, element);\n",
       "        const docLink = document.createElement('div');\n",
       "        docLink.innerHTML = docLinkHtml;\n",
       "        element.appendChild(docLink);\n",
       "      }\n",
       "    </script>\n",
       "  </div>\n",
       "\n",
       "\n",
       "<div id=\"df-120e0085-9fa9-4a1e-a7e3-463ec7a906c5\">\n",
       "  <button class=\"colab-df-quickchart\" onclick=\"quickchart('df-120e0085-9fa9-4a1e-a7e3-463ec7a906c5')\"\n",
       "            title=\"Suggest charts\"\n",
       "            style=\"display:none;\">\n",
       "\n",
       "<svg xmlns=\"http://www.w3.org/2000/svg\" height=\"24px\"viewBox=\"0 0 24 24\"\n",
       "     width=\"24px\">\n",
       "    <g>\n",
       "        <path d=\"M19 3H5c-1.1 0-2 .9-2 2v14c0 1.1.9 2 2 2h14c1.1 0 2-.9 2-2V5c0-1.1-.9-2-2-2zM9 17H7v-7h2v7zm4 0h-2V7h2v10zm4 0h-2v-4h2v4z\"/>\n",
       "    </g>\n",
       "</svg>\n",
       "  </button>\n",
       "\n",
       "<style>\n",
       "  .colab-df-quickchart {\n",
       "      --bg-color: #E8F0FE;\n",
       "      --fill-color: #1967D2;\n",
       "      --hover-bg-color: #E2EBFA;\n",
       "      --hover-fill-color: #174EA6;\n",
       "      --disabled-fill-color: #AAA;\n",
       "      --disabled-bg-color: #DDD;\n",
       "  }\n",
       "\n",
       "  [theme=dark] .colab-df-quickchart {\n",
       "      --bg-color: #3B4455;\n",
       "      --fill-color: #D2E3FC;\n",
       "      --hover-bg-color: #434B5C;\n",
       "      --hover-fill-color: #FFFFFF;\n",
       "      --disabled-bg-color: #3B4455;\n",
       "      --disabled-fill-color: #666;\n",
       "  }\n",
       "\n",
       "  .colab-df-quickchart {\n",
       "    background-color: var(--bg-color);\n",
       "    border: none;\n",
       "    border-radius: 50%;\n",
       "    cursor: pointer;\n",
       "    display: none;\n",
       "    fill: var(--fill-color);\n",
       "    height: 32px;\n",
       "    padding: 0;\n",
       "    width: 32px;\n",
       "  }\n",
       "\n",
       "  .colab-df-quickchart:hover {\n",
       "    background-color: var(--hover-bg-color);\n",
       "    box-shadow: 0 1px 2px rgba(60, 64, 67, 0.3), 0 1px 3px 1px rgba(60, 64, 67, 0.15);\n",
       "    fill: var(--button-hover-fill-color);\n",
       "  }\n",
       "\n",
       "  .colab-df-quickchart-complete:disabled,\n",
       "  .colab-df-quickchart-complete:disabled:hover {\n",
       "    background-color: var(--disabled-bg-color);\n",
       "    fill: var(--disabled-fill-color);\n",
       "    box-shadow: none;\n",
       "  }\n",
       "\n",
       "  .colab-df-spinner {\n",
       "    border: 2px solid var(--fill-color);\n",
       "    border-color: transparent;\n",
       "    border-bottom-color: var(--fill-color);\n",
       "    animation:\n",
       "      spin 1s steps(1) infinite;\n",
       "  }\n",
       "\n",
       "  @keyframes spin {\n",
       "    0% {\n",
       "      border-color: transparent;\n",
       "      border-bottom-color: var(--fill-color);\n",
       "      border-left-color: var(--fill-color);\n",
       "    }\n",
       "    20% {\n",
       "      border-color: transparent;\n",
       "      border-left-color: var(--fill-color);\n",
       "      border-top-color: var(--fill-color);\n",
       "    }\n",
       "    30% {\n",
       "      border-color: transparent;\n",
       "      border-left-color: var(--fill-color);\n",
       "      border-top-color: var(--fill-color);\n",
       "      border-right-color: var(--fill-color);\n",
       "    }\n",
       "    40% {\n",
       "      border-color: transparent;\n",
       "      border-right-color: var(--fill-color);\n",
       "      border-top-color: var(--fill-color);\n",
       "    }\n",
       "    60% {\n",
       "      border-color: transparent;\n",
       "      border-right-color: var(--fill-color);\n",
       "    }\n",
       "    80% {\n",
       "      border-color: transparent;\n",
       "      border-right-color: var(--fill-color);\n",
       "      border-bottom-color: var(--fill-color);\n",
       "    }\n",
       "    90% {\n",
       "      border-color: transparent;\n",
       "      border-bottom-color: var(--fill-color);\n",
       "    }\n",
       "  }\n",
       "</style>\n",
       "\n",
       "  <script>\n",
       "    async function quickchart(key) {\n",
       "      const quickchartButtonEl =\n",
       "        document.querySelector('#' + key + ' button');\n",
       "      quickchartButtonEl.disabled = true;  // To prevent multiple clicks.\n",
       "      quickchartButtonEl.classList.add('colab-df-spinner');\n",
       "      try {\n",
       "        const charts = await google.colab.kernel.invokeFunction(\n",
       "            'suggestCharts', [key], {});\n",
       "      } catch (error) {\n",
       "        console.error('Error during call to suggestCharts:', error);\n",
       "      }\n",
       "      quickchartButtonEl.classList.remove('colab-df-spinner');\n",
       "      quickchartButtonEl.classList.add('colab-df-quickchart-complete');\n",
       "    }\n",
       "    (() => {\n",
       "      let quickchartButtonEl =\n",
       "        document.querySelector('#df-120e0085-9fa9-4a1e-a7e3-463ec7a906c5 button');\n",
       "      quickchartButtonEl.style.display =\n",
       "        google.colab.kernel.accessAllowed ? 'block' : 'none';\n",
       "    })();\n",
       "  </script>\n",
       "</div>\n",
       "\n",
       "    </div>\n",
       "  </div>\n"
      ],
      "text/plain": [
       "  variant_id  user_id  datestamp  num_of_items  num_of_clicks  \\\n",
       "0    control    40135 2019-01-14            19            4.0   \n",
       "1    control    40135 2019-01-13            13            3.0   \n",
       "2    control    40135 2019-01-16             2            1.0   \n",
       "3    control    40135 2019-01-15             4            0.0   \n",
       "4       test    89370 2019-01-12             2            1.0   \n",
       "\n",
       "   num_of_purchases  revenue  revenue_2x  \n",
       "0               1.0     17.0       289.0  \n",
       "1               0.0      0.0         0.0  \n",
       "2               1.0     11.0       121.0  \n",
       "3               0.0      0.0         0.0  \n",
       "4               0.0      0.0         0.0  "
      ]
     },
     "execution_count": 29,
     "metadata": {},
     "output_type": "execute_result"
    }
   ],
   "source": [
    "variant_daily_sessions.head()"
   ]
  },
  {
   "cell_type": "code",
   "execution_count": null,
   "metadata": {
    "colab": {
     "base_uri": "https://localhost:8080/"
    },
    "id": "PYTBOZsOWGuV",
    "outputId": "05219923-0b79-42db-eea0-5540fedd1ce2"
   },
   "outputs": [
    {
     "data": {
      "text/plain": [
       "variant_id\n",
       "control    219.259967\n",
       "test       217.960044\n",
       "Name: revenue_2x, dtype: float64"
      ]
     },
     "execution_count": 30,
     "metadata": {},
     "output_type": "execute_result"
    }
   ],
   "source": [
    "variant_daily_sessions.groupby('variant_id')[\"revenue_2x\"].mean()"
   ]
  },
  {
   "cell_type": "code",
   "execution_count": null,
   "metadata": {
    "id": "ge9JD7XpvyCJ"
   },
   "outputs": [],
   "source": [
    "n_a = 82526\n",
    "n_b = 83116\n",
    "mean_a = 22.363958\n",
    "mean_b = 22.280812\n",
    "square_a = 3508.159465\n",
    "square_b = 3487.360701"
   ]
  },
  {
   "cell_type": "code",
   "execution_count": null,
   "metadata": {
    "colab": {
     "base_uri": "https://localhost:8080/"
    },
    "id": "ZbauACPgwfLu",
    "outputId": "b9b5cc57-cc8f-4acb-eb00-26eec7c39edc"
   },
   "outputs": [
    {
     "name": "stdout",
     "output_type": "stream",
     "text": [
      "3008.0128475742363 2990.926117620656\n"
     ]
    }
   ],
   "source": [
    "import math\n",
    "\n",
    "var_a = (square_a - mean_a*mean_a)\n",
    "var_b = (square_b - mean_b*mean_b)\n",
    "print(var_a, var_b)"
   ]
  },
  {
   "cell_type": "code",
   "execution_count": null,
   "metadata": {
    "colab": {
     "base_uri": "https://localhost:8080/"
    },
    "id": "fg-T70hhw3jL",
    "outputId": "879696b7-1f1e-47c7-b611-e80d5bbec288"
   },
   "outputs": [
    {
     "name": "stdout",
     "output_type": "stream",
     "text": [
      "-0.3089366381664109\n"
     ]
    }
   ],
   "source": [
    "t_score = (mean_b - mean_a)/math.sqrt(var_a/n_a+var_b/n_b)\n",
    "print(t_score)"
   ]
  },
  {
   "cell_type": "code",
   "execution_count": null,
   "metadata": {
    "id": "elcPIv4LKl9A"
   },
   "outputs": [],
   "source": [
    "import numpy as np\n",
    "\n",
    "n_a2 = len(a)\n",
    "n_b2 = len(b)\n",
    "\n",
    "mean_a2 = np.mean(a)\n",
    "mean_b2 = np.mean(b)\n",
    "\n",
    "var_a2 = np.var(a)\n",
    "var_b2 = np.var(b)"
   ]
  },
  {
   "cell_type": "code",
   "execution_count": null,
   "metadata": {
    "colab": {
     "base_uri": "https://localhost:8080/"
    },
    "id": "ZY2Zvs3PLyLr",
    "outputId": "a079d49f-3a02-43c1-eb17-eaecc1e2ad3a"
   },
   "outputs": [
    {
     "name": "stdout",
     "output_type": "stream",
     "text": [
      "-0.30893540027693434\n"
     ]
    }
   ],
   "source": [
    "t_score2 = (mean_b2 - mean_a2)/math.sqrt(var_a2/n_a2+var_b2/n_b2)\n",
    "print(t_score2)"
   ]
  },
  {
   "cell_type": "markdown",
   "metadata": {
    "id": "ZS_2I5NR6cvS"
   },
   "source": [
    "## Impression, Click, Purchase"
   ]
  },
  {
   "cell_type": "code",
   "execution_count": null,
   "metadata": {
    "id": "74oZKQuleIz4"
   },
   "outputs": [],
   "source": [
    "# 나중에 사용하기 쉽게 함수로 구현\n",
    "def compute_z_score(df, field_name):\n",
    "  a = df[df[\"variant_id\"]==\"control\"][field_name].to_numpy()\n",
    "  b = df[df[\"variant_id\"]==\"test\"][field_name].to_numpy()\n",
    "  t, p = stats.ttest_ind(b, a)\n",
    "\n",
    "  return t, p"
   ]
  },
  {
   "cell_type": "code",
   "execution_count": null,
   "metadata": {
    "id": "DKvRVhcMAUds"
   },
   "outputs": [],
   "source": [
    "# np를 사용해서 계산\n",
    "def compute_z_score_np(df, field_name):\n",
    "  a = df[df[\"variant_id\"]==\"control\"][field_name].to_numpy()\n",
    "  b = df[df[\"variant_id\"]==\"test\"][field_name].to_numpy()\n",
    "\n",
    "  n_a2 = len(a)\n",
    "  n_b2 = len(b)\n",
    "\n",
    "  mean_a2 = np.mean(a)\n",
    "  mean_b2 = np.mean(b)\n",
    "\n",
    "  var_a2 = np.var(a)\n",
    "  var_b2 = np.var(b)\n",
    "\n",
    "  t_score = (mean_b2 - mean_a2)/math.sqrt(var_a2/n_a2+var_b2/n_b2)\n",
    "\n",
    "  return t_score"
   ]
  },
  {
   "cell_type": "code",
   "execution_count": null,
   "metadata": {
    "id": "Dw8j3RfkAnHJ"
   },
   "outputs": [],
   "source": [
    "# 모두 직접 계산\n",
    "def compute_z_score_hand(df, field_name):\n",
    "  a = df[df[\"variant_id\"]==\"control\"][field_name].to_numpy()\n",
    "  b = df[df[\"variant_id\"]==\"test\"][field_name].to_numpy()\n",
    "\n",
    "  n_a = len(a)\n",
    "  n_b = len(b)\n",
    "\n",
    "  a_sum = 0\n",
    "  aa = 0\n",
    "  b_sum = 0\n",
    "  bb = 0\n",
    "\n",
    "  for i in a:\n",
    "    a_sum += i\n",
    "    aa += i*i\n",
    "\n",
    "  for i in b:\n",
    "    b_sum += i\n",
    "    bb += i*i\n",
    "\n",
    "  mean_a = a_sum/n_a\n",
    "  mean_b = b_sum/n_b\n",
    "\n",
    "  var_a = aa/n_a - mean_a*mean_a\n",
    "  var_b = bb/n_b - mean_b*mean_b\n",
    "\n",
    "  t_score = (mean_b - mean_a)/math.sqrt(var_a/n_a+var_b/n_b)\n",
    "\n",
    "  return t_score"
   ]
  },
  {
   "cell_type": "code",
   "execution_count": null,
   "metadata": {
    "colab": {
     "base_uri": "https://localhost:8080/"
    },
    "id": "aI0OBMQbRV-q",
    "outputId": "01d9278e-597a-4012-863e-fee2fa118bb3"
   },
   "outputs": [
    {
     "name": "stdout",
     "output_type": "stream",
     "text": [
      "(1.3787392352028343, 0.16797702966025999)\n",
      "1.3787750204098166\n",
      "1.3787750204098166\n"
     ]
    }
   ],
   "source": [
    "print(compute_z_score(variant_daily_sessions, 'num_of_items'))\n",
    "print(compute_z_score_np(variant_daily_sessions, 'num_of_items'))\n",
    "print(compute_z_score_hand(variant_daily_sessions, 'num_of_items'))"
   ]
  },
  {
   "cell_type": "code",
   "execution_count": null,
   "metadata": {
    "colab": {
     "base_uri": "https://localhost:8080/"
    },
    "id": "qZpIPnYNYLxw",
    "outputId": "4a72ee63-4cef-4a09-e865-c03ef80689a3"
   },
   "outputs": [
    {
     "name": "stdout",
     "output_type": "stream",
     "text": [
      "(1.2378079313561117, 0.2157890413600264)\n",
      "1.2378133780646028\n",
      "1.2378133780646028\n"
     ]
    }
   ],
   "source": [
    "print(compute_z_score(variant_daily_sessions, 'num_of_clicks'))\n",
    "print(compute_z_score_np(variant_daily_sessions, 'num_of_clicks'))\n",
    "print(compute_z_score_hand(variant_daily_sessions, 'num_of_clicks'))"
   ]
  },
  {
   "cell_type": "code",
   "execution_count": null,
   "metadata": {
    "colab": {
     "base_uri": "https://localhost:8080/"
    },
    "id": "N6gDzdg5YPwn",
    "outputId": "82565682-88c2-4503-b7ad-76f2cb6db92f"
   },
   "outputs": [
    {
     "name": "stdout",
     "output_type": "stream",
     "text": [
      "(-0.6220642246344509, 0.5339004941211412)\n",
      "-0.62205187335538\n",
      "-0.6220518733553801\n"
     ]
    }
   ],
   "source": [
    "print(compute_z_score(variant_daily_sessions, 'num_of_purchases'))\n",
    "print(compute_z_score_np(variant_daily_sessions, 'num_of_purchases'))\n",
    "print(compute_z_score_hand(variant_daily_sessions, 'num_of_purchases'))"
   ]
  },
  {
   "cell_type": "markdown",
   "metadata": {
    "id": "xafZVo1vYU-6"
   },
   "source": [
    "All the three z-scores fall in between -1.96 and 1.96; all the p-values are larger than 0.05."
   ]
  },
  {
   "cell_type": "markdown",
   "metadata": {
    "id": "eoJ7ufm5ztSN"
   },
   "source": [
    "데이터 분석을 위한 요약 테이블 생성\n",
    "\n",
    "* analytics.analytics_variant_user_daily 생성\n",
    "* analytics.olap_cube 생성\n",
    "* analytics.olap_cube의 내용을 'sessions_hypercube.csv'로 저장\n",
    "* 'sessions_hypercube.csv'를 다운로드"
   ]
  },
  {
   "cell_type": "code",
   "execution_count": null,
   "metadata": {
    "colab": {
     "base_uri": "https://localhost:8080/",
     "height": 53
    },
    "id": "fGiBKqkrzwYD",
    "outputId": "6c58a94f-c6d8-4e6e-e14c-39e26d1ec789"
   },
   "outputs": [
    {
     "data": {
      "application/vnd.google.colaboratory.intrinsic+json": {
       "summary": "{\n  \"name\": \"get_ipython()\",\n  \"rows\": 0,\n  \"fields\": [\n    {\n      \"column\": \"Success\",\n      \"properties\": {\n        \"dtype\": \"boolean\",\n        \"num_unique_values\": 0,\n        \"samples\": [],\n        \"semantic_type\": \"\",\n        \"description\": \"\"\n      }\n    }\n  ]\n}",
       "type": "dataframe"
      },
      "text/html": [
       "\n",
       "  <div id=\"df-105556b4-886c-4d3f-964a-b8884f687289\" class=\"colab-df-container\">\n",
       "    <div>\n",
       "<style scoped>\n",
       "    .dataframe tbody tr th:only-of-type {\n",
       "        vertical-align: middle;\n",
       "    }\n",
       "\n",
       "    .dataframe tbody tr th {\n",
       "        vertical-align: top;\n",
       "    }\n",
       "\n",
       "    .dataframe thead th {\n",
       "        text-align: right;\n",
       "    }\n",
       "</style>\n",
       "<table border=\"1\" class=\"dataframe\">\n",
       "  <thead>\n",
       "    <tr style=\"text-align: right;\">\n",
       "      <th></th>\n",
       "      <th>Success</th>\n",
       "    </tr>\n",
       "  </thead>\n",
       "  <tbody>\n",
       "  </tbody>\n",
       "</table>\n",
       "</div>\n",
       "    <div class=\"colab-df-buttons\">\n",
       "\n",
       "  <div class=\"colab-df-container\">\n",
       "    <button class=\"colab-df-convert\" onclick=\"convertToInteractive('df-105556b4-886c-4d3f-964a-b8884f687289')\"\n",
       "            title=\"Convert this dataframe to an interactive table.\"\n",
       "            style=\"display:none;\">\n",
       "\n",
       "  <svg xmlns=\"http://www.w3.org/2000/svg\" height=\"24px\" viewBox=\"0 -960 960 960\">\n",
       "    <path d=\"M120-120v-720h720v720H120Zm60-500h600v-160H180v160Zm220 220h160v-160H400v160Zm0 220h160v-160H400v160ZM180-400h160v-160H180v160Zm440 0h160v-160H620v160ZM180-180h160v-160H180v160Zm440 0h160v-160H620v160Z\"/>\n",
       "  </svg>\n",
       "    </button>\n",
       "\n",
       "  <style>\n",
       "    .colab-df-container {\n",
       "      display:flex;\n",
       "      gap: 12px;\n",
       "    }\n",
       "\n",
       "    .colab-df-convert {\n",
       "      background-color: #E8F0FE;\n",
       "      border: none;\n",
       "      border-radius: 50%;\n",
       "      cursor: pointer;\n",
       "      display: none;\n",
       "      fill: #1967D2;\n",
       "      height: 32px;\n",
       "      padding: 0 0 0 0;\n",
       "      width: 32px;\n",
       "    }\n",
       "\n",
       "    .colab-df-convert:hover {\n",
       "      background-color: #E2EBFA;\n",
       "      box-shadow: 0px 1px 2px rgba(60, 64, 67, 0.3), 0px 1px 3px 1px rgba(60, 64, 67, 0.15);\n",
       "      fill: #174EA6;\n",
       "    }\n",
       "\n",
       "    .colab-df-buttons div {\n",
       "      margin-bottom: 4px;\n",
       "    }\n",
       "\n",
       "    [theme=dark] .colab-df-convert {\n",
       "      background-color: #3B4455;\n",
       "      fill: #D2E3FC;\n",
       "    }\n",
       "\n",
       "    [theme=dark] .colab-df-convert:hover {\n",
       "      background-color: #434B5C;\n",
       "      box-shadow: 0px 1px 3px 1px rgba(0, 0, 0, 0.15);\n",
       "      filter: drop-shadow(0px 1px 2px rgba(0, 0, 0, 0.3));\n",
       "      fill: #FFFFFF;\n",
       "    }\n",
       "  </style>\n",
       "\n",
       "    <script>\n",
       "      const buttonEl =\n",
       "        document.querySelector('#df-105556b4-886c-4d3f-964a-b8884f687289 button.colab-df-convert');\n",
       "      buttonEl.style.display =\n",
       "        google.colab.kernel.accessAllowed ? 'block' : 'none';\n",
       "\n",
       "      async function convertToInteractive(key) {\n",
       "        const element = document.querySelector('#df-105556b4-886c-4d3f-964a-b8884f687289');\n",
       "        const dataTable =\n",
       "          await google.colab.kernel.invokeFunction('convertToInteractive',\n",
       "                                                    [key], {});\n",
       "        if (!dataTable) return;\n",
       "\n",
       "        const docLinkHtml = 'Like what you see? Visit the ' +\n",
       "          '<a target=\"_blank\" href=https://colab.research.google.com/notebooks/data_table.ipynb>data table notebook</a>'\n",
       "          + ' to learn more about interactive tables.';\n",
       "        element.innerHTML = '';\n",
       "        dataTable['output_type'] = 'display_data';\n",
       "        await google.colab.output.renderOutput(dataTable, element);\n",
       "        const docLink = document.createElement('div');\n",
       "        docLink.innerHTML = docLinkHtml;\n",
       "        element.appendChild(docLink);\n",
       "      }\n",
       "    </script>\n",
       "  </div>\n",
       "\n",
       "\n",
       "    </div>\n",
       "  </div>\n"
      ],
      "text/plain": [
       "Empty DataFrame\n",
       "Columns: [Success]\n",
       "Index: []"
      ]
     },
     "execution_count": 48,
     "metadata": {},
     "output_type": "execute_result"
    }
   ],
   "source": [
    "%%sql\n",
    "\n",
    "DROP TABLE IF EXISTS analytics.analytics_variant_user_daily;\n",
    "CREATE TABLE analytics.analytics_variant_user_daily AS\n",
    "SELECT\n",
    "  variant_id,\n",
    "  ue.user_id,\n",
    "  datestamp, age, gender,\n",
    "  COUNT(DISTINCT item_id) num_of_items,                             -- 총 impression\n",
    "  COUNT(DISTINCT CASE WHEN clicked THEN item_id END) num_of_clicks, -- 총 click\n",
    "  SUM(purchased) num_of_purchases,                                  -- 총 purchase\n",
    "  SUM(paidamount) revenue                                           -- 총 revenue\n",
    "FROM raw_data.user_event ue\n",
    "JOIN raw_data.user_variant uv ON ue.user_id = uv.user_id\n",
    "JOIN raw_data.user_metadata um ON uv.user_id = um.user_id\n",
    "GROUP by 1, 2, 3, 4, 5;"
   ]
  },
  {
   "cell_type": "code",
   "execution_count": null,
   "metadata": {
    "colab": {
     "base_uri": "https://localhost:8080/",
     "height": 53
    },
    "id": "F7OTMQmx0xQa",
    "outputId": "9aea0d29-6052-42f4-eac9-4a3459a8826c"
   },
   "outputs": [
    {
     "data": {
      "application/vnd.google.colaboratory.intrinsic+json": {
       "summary": "{\n  \"name\": \"get_ipython()\",\n  \"rows\": 0,\n  \"fields\": [\n    {\n      \"column\": \"Success\",\n      \"properties\": {\n        \"dtype\": \"boolean\",\n        \"num_unique_values\": 0,\n        \"samples\": [],\n        \"semantic_type\": \"\",\n        \"description\": \"\"\n      }\n    }\n  ]\n}",
       "type": "dataframe"
      },
      "text/html": [
       "\n",
       "  <div id=\"df-c6bf9750-2485-484f-bd20-11557aa12957\" class=\"colab-df-container\">\n",
       "    <div>\n",
       "<style scoped>\n",
       "    .dataframe tbody tr th:only-of-type {\n",
       "        vertical-align: middle;\n",
       "    }\n",
       "\n",
       "    .dataframe tbody tr th {\n",
       "        vertical-align: top;\n",
       "    }\n",
       "\n",
       "    .dataframe thead th {\n",
       "        text-align: right;\n",
       "    }\n",
       "</style>\n",
       "<table border=\"1\" class=\"dataframe\">\n",
       "  <thead>\n",
       "    <tr style=\"text-align: right;\">\n",
       "      <th></th>\n",
       "      <th>Success</th>\n",
       "    </tr>\n",
       "  </thead>\n",
       "  <tbody>\n",
       "  </tbody>\n",
       "</table>\n",
       "</div>\n",
       "    <div class=\"colab-df-buttons\">\n",
       "\n",
       "  <div class=\"colab-df-container\">\n",
       "    <button class=\"colab-df-convert\" onclick=\"convertToInteractive('df-c6bf9750-2485-484f-bd20-11557aa12957')\"\n",
       "            title=\"Convert this dataframe to an interactive table.\"\n",
       "            style=\"display:none;\">\n",
       "\n",
       "  <svg xmlns=\"http://www.w3.org/2000/svg\" height=\"24px\" viewBox=\"0 -960 960 960\">\n",
       "    <path d=\"M120-120v-720h720v720H120Zm60-500h600v-160H180v160Zm220 220h160v-160H400v160Zm0 220h160v-160H400v160ZM180-400h160v-160H180v160Zm440 0h160v-160H620v160ZM180-180h160v-160H180v160Zm440 0h160v-160H620v160Z\"/>\n",
       "  </svg>\n",
       "    </button>\n",
       "\n",
       "  <style>\n",
       "    .colab-df-container {\n",
       "      display:flex;\n",
       "      gap: 12px;\n",
       "    }\n",
       "\n",
       "    .colab-df-convert {\n",
       "      background-color: #E8F0FE;\n",
       "      border: none;\n",
       "      border-radius: 50%;\n",
       "      cursor: pointer;\n",
       "      display: none;\n",
       "      fill: #1967D2;\n",
       "      height: 32px;\n",
       "      padding: 0 0 0 0;\n",
       "      width: 32px;\n",
       "    }\n",
       "\n",
       "    .colab-df-convert:hover {\n",
       "      background-color: #E2EBFA;\n",
       "      box-shadow: 0px 1px 2px rgba(60, 64, 67, 0.3), 0px 1px 3px 1px rgba(60, 64, 67, 0.15);\n",
       "      fill: #174EA6;\n",
       "    }\n",
       "\n",
       "    .colab-df-buttons div {\n",
       "      margin-bottom: 4px;\n",
       "    }\n",
       "\n",
       "    [theme=dark] .colab-df-convert {\n",
       "      background-color: #3B4455;\n",
       "      fill: #D2E3FC;\n",
       "    }\n",
       "\n",
       "    [theme=dark] .colab-df-convert:hover {\n",
       "      background-color: #434B5C;\n",
       "      box-shadow: 0px 1px 3px 1px rgba(0, 0, 0, 0.15);\n",
       "      filter: drop-shadow(0px 1px 2px rgba(0, 0, 0, 0.3));\n",
       "      fill: #FFFFFF;\n",
       "    }\n",
       "  </style>\n",
       "\n",
       "    <script>\n",
       "      const buttonEl =\n",
       "        document.querySelector('#df-c6bf9750-2485-484f-bd20-11557aa12957 button.colab-df-convert');\n",
       "      buttonEl.style.display =\n",
       "        google.colab.kernel.accessAllowed ? 'block' : 'none';\n",
       "\n",
       "      async function convertToInteractive(key) {\n",
       "        const element = document.querySelector('#df-c6bf9750-2485-484f-bd20-11557aa12957');\n",
       "        const dataTable =\n",
       "          await google.colab.kernel.invokeFunction('convertToInteractive',\n",
       "                                                    [key], {});\n",
       "        if (!dataTable) return;\n",
       "\n",
       "        const docLinkHtml = 'Like what you see? Visit the ' +\n",
       "          '<a target=\"_blank\" href=https://colab.research.google.com/notebooks/data_table.ipynb>data table notebook</a>'\n",
       "          + ' to learn more about interactive tables.';\n",
       "        element.innerHTML = '';\n",
       "        dataTable['output_type'] = 'display_data';\n",
       "        await google.colab.output.renderOutput(dataTable, element);\n",
       "        const docLink = document.createElement('div');\n",
       "        docLink.innerHTML = docLinkHtml;\n",
       "        element.appendChild(docLink);\n",
       "      }\n",
       "    </script>\n",
       "  </div>\n",
       "\n",
       "\n",
       "    </div>\n",
       "  </div>\n"
      ],
      "text/plain": [
       "Empty DataFrame\n",
       "Columns: [Success]\n",
       "Index: []"
      ]
     },
     "execution_count": 49,
     "metadata": {},
     "output_type": "execute_result"
    }
   ],
   "source": [
    "%%sql\n",
    "\n",
    "DROP TABLE IF EXISTS analytics.olap_cube;\n",
    "CREATE TABLE analytics.olap_cube AS\n",
    "SELECT datestamp, variant_id, age, gender,\n",
    "    'impression' category,\n",
    "    count(1) n,    -- number of sessions\n",
    "    sum(num_of_items) sum, sum(num_of_items*num_of_items) sum2\n",
    "FROM analytics.analytics_variant_user_daily vds\n",
    "GROUP BY 1, 2, 3, 4, 5\n",
    "\n",
    "UNION\n",
    "\n",
    "SELECT datestamp, variant_id, age, gender,\n",
    "    'click' category,\n",
    "    count(1) n,    -- number of sessions\n",
    "    sum(num_of_clicks) sum, sum(num_of_clicks*num_of_clicks) sum2\n",
    "FROM analytics.analytics_variant_user_daily vds\n",
    "GROUP BY 1, 2, 3, 4, 5\n",
    "\n",
    "UNION\n",
    "\n",
    "SELECT datestamp, variant_id, age, gender,\n",
    "    'purchase' category,\n",
    "    count(1) n,    -- number of sessions\n",
    "    sum(num_of_purchases) sum, sum(num_of_purchases*num_of_purchases) sum2\n",
    "FROM analytics.analytics_variant_user_daily vds\n",
    "GROUP BY 1, 2, 3, 4\n",
    "\n",
    "UNION\n",
    "\n",
    "SELECT datestamp, variant_id, age, gender,\n",
    "    'revenue' category,\n",
    "    count(1) n,    -- number of sessions\n",
    "    sum(revenue) sum, sum(revenue*revenue) sum2\n",
    "FROM analytics.analytics_variant_user_daily vds\n",
    "GROUP BY 1, 2, 3, 4;"
   ]
  }
 ],
 "metadata": {
  "colab": {
   "provenance": []
  },
  "kernelspec": {
   "display_name": "da",
   "language": "python",
   "name": "python3"
  },
  "language_info": {
   "codemirror_mode": {
    "name": "ipython",
    "version": 3
   },
   "file_extension": ".py",
   "mimetype": "text/x-python",
   "name": "python",
   "nbconvert_exporter": "python",
   "pygments_lexer": "ipython3",
   "version": "3.12.7"
  }
 },
 "nbformat": 4,
 "nbformat_minor": 0
}
